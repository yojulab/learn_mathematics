{
  "nbformat": 4,
  "nbformat_minor": 0,
  "metadata": {
    "colab": {
      "name": "LinearAlgebra_선형회귀모델.ipynb",
      "provenance": [],
      "authorship_tag": "ABX9TyNCLaBtVrxQiFM/5sfSpxxX",
      "include_colab_link": true
    },
    "kernelspec": {
      "name": "python3",
      "display_name": "Python 3"
    },
    "language_info": {
      "name": "python"
    }
  },
  "cells": [
    {
      "cell_type": "markdown",
      "metadata": {
        "id": "view-in-github",
        "colab_type": "text"
      },
      "source": [
        "<a href=\"https://colab.research.google.com/github/SanghunOh/with_mathematics/blob/main/codes/LinearAlgebra_%EC%84%A0%ED%98%95%ED%9A%8C%EA%B7%80.ipynb\" target=\"_parent\"><img src=\"https://colab.research.google.com/assets/colab-badge.svg\" alt=\"Open In Colab\"/></a>"
      ]
    },
    {
      "cell_type": "markdown",
      "source": [
        "##선형회귀 모형(linear regression model) : 독립변수 𝑥에서 종속변수 𝑦를 예측하는 방법 중 하나.\n",
        "$ \\hat{y}=𝑤_1𝑥_1+⋯+𝑤_𝑁𝑥_𝑁 = w^Tx$"
      ],
      "metadata": {
        "id": "trYHzawJb0nv"
      }
    },
    {
      "cell_type": "markdown",
      "source": [
        "### ex) 아파트 값 예측.\n",
        "- 면적이 1𝑚2 \u001f당 가격은 500만원 증가.\n",
        "- 층수가 1층 \u001d당 가격은 200만원 증가.\n",
        "- 한강 보이는 곳은 1,000만원 프리미엄.\n",
        "\n",
        "$\n",
        "\\begin{align}\n",
        "  𝑦̂ =500𝑥_1+200𝑥_2+1000𝑥_3 = \n",
        "  \\begin{pmatrix}\n",
        "  500 & 200 & 1000\n",
        "  \\end{pmatrix}\n",
        "  \\begin{pmatrix}\n",
        "  x_{1,1} \\\\ x_{1,2} \\\\ x_{1,3}\n",
        "  \\end{pmatrix}\n",
        "  = w^Tx\n",
        "\\end{align} \n",
        "$ "
      ],
      "metadata": {
        "id": "94I3v97aeGNp"
      }
    },
    {
      "cell_type": "markdown",
      "source": [
        "###단점 : 비선형적인 현실 세계의 데이터를 잘 예측하지 못함. \n",
        "ex) 아파트 값 예측과 같이 각 항목 따라 단순 비례하지 않음"
      ],
      "metadata": {
        "id": "vzGCcU51M4Yi"
      }
    },
    {
      "cell_type": "markdown",
      "source": [
        "###가중합(weighted sum) : 어떤 가중치 값을 곱한 후 이 곱셈 결과들을 다시 합한 것.\n",
        "$ x=(𝑥_1,⋯,𝑥_𝑁)^T, 𝑤=(𝑤_1,⋯,𝑤_𝑁)^T $이면,\n",
        "\n",
        "$ 𝑤_1𝑥_1+⋯+𝑤_𝑁𝑥_𝑁=\n",
        "\\begin{align} \\sum_{𝑖=1}^𝑁𝑤_𝑖 𝑥_𝑖 \\end{align} $이다\n",
        "\n",
        "$\n",
        "\\begin{align}\n",
        "  \\sum_{𝑖=1}^𝑁𝑤_𝑖 𝑥_𝑖 = \n",
        "    \\begin{pmatrix}\n",
        "    w_1 & w_2 & ... & w_N\n",
        "    \\end{pmatrix}\n",
        "    \\begin{pmatrix}\n",
        "    x_1 \\\\ x_2 \\\\ ... \\\\ x_N\n",
        "    \\end{pmatrix}\n",
        "\\end{align} \n",
        "= u\n",
        "$ \n"
      ],
      "metadata": {
        "id": "vEGqjwEGxFPf"
      }
    },
    {
      "cell_type": "code",
      "source": [
        "import numpy as np\n",
        "\n",
        "weights = np.array([0.5, 0.3, 0.1, 0.08, 0.02])\n",
        "values = np.arange(10).reshape(5, -1)\n",
        "weights.shape, values.shape"
      ],
      "metadata": {
        "colab": {
          "base_uri": "https://localhost:8080/"
        },
        "id": "cJvc3OKY5g9S",
        "outputId": "8e7adf8e-395f-4fe7-aae0-935efb8a6435"
      },
      "execution_count": null,
      "outputs": [
        {
          "output_type": "execute_result",
          "data": {
            "text/plain": [
              "((5,), (5, 2))"
            ]
          },
          "metadata": {},
          "execution_count": 27
        }
      ]
    },
    {
      "cell_type": "code",
      "source": [
        "np.dot(weights, values), weights @ values"
      ],
      "metadata": {
        "colab": {
          "base_uri": "https://localhost:8080/"
        },
        "id": "r28TDepP5zgt",
        "outputId": "181c4a11-797e-415e-bd84-3f83b30316a1"
      },
      "execution_count": null,
      "outputs": [
        {
          "output_type": "execute_result",
          "data": {
            "text/plain": [
              "(array([1.64, 2.64]), array([1.64, 2.64]))"
            ]
          },
          "metadata": {},
          "execution_count": 29
        }
      ]
    },
    {
      "cell_type": "markdown",
      "source": [
        "####Ex) A, B, C 세 회사의 주식은 각각 80만원, 30만원, 40만원이다. 이 주식을 각각 3주, 4주, 5주를 매수할 때 필요한 금액을 구하기."
      ],
      "metadata": {
        "id": "paS4Jbr52Qbb"
      }
    },
    {
      "cell_type": "code",
      "source": [
        "vector_w = np.array([[80], [30], [40]])\n",
        "vector_x = np.array([[3], [4], [5]])\n",
        "vector_w.T.shape, vector_x.shape"
      ],
      "metadata": {
        "colab": {
          "base_uri": "https://localhost:8080/"
        },
        "id": "gcHmNZ2Ab7Dj",
        "outputId": "8fe1f03a-2b36-42c0-9ead-4f3880a4584e"
      },
      "execution_count": null,
      "outputs": [
        {
          "output_type": "execute_result",
          "data": {
            "text/plain": [
              "((1, 3), (3, 1))"
            ]
          },
          "metadata": {},
          "execution_count": 15
        }
      ]
    },
    {
      "cell_type": "code",
      "source": [
        "vector_w.T @ vector_x"
      ],
      "metadata": {
        "colab": {
          "base_uri": "https://localhost:8080/"
        },
        "id": "aClYA7F73GMo",
        "outputId": "40ec86cf-223b-4317-820a-b79c154109f7"
      },
      "execution_count": null,
      "outputs": [
        {
          "output_type": "execute_result",
          "data": {
            "text/plain": [
              "array([[560]])"
            ]
          },
          "metadata": {},
          "execution_count": 16
        }
      ]
    },
    {
      "cell_type": "markdown",
      "source": [
        "###다중 가중합 계산\n",
        "$\n",
        "\\begin{align}\n",
        "  \\hat{y} = \n",
        "    \\begin{pmatrix}\n",
        "    \\hat{y}_1 \\\\ \\hat{y}_2 \\\\ ... \\\\ \\hat{y}_M\n",
        "    \\end{pmatrix}\n",
        "    =\n",
        "    \\begin{pmatrix}\n",
        "      w_1x_{1,1} + w_2x_{1,2}+ ...+w_Nx_{1,N} \\\\ \n",
        "      w_2x_{2,1} + w_2x_{2,2}+ ...+w_Nx_{2,N} \\\\ \n",
        "      : \\\\ \n",
        "      w_1x_{M,1} + w_2x_{M,2}+ ...+w_Nx_{M,N} \\\\ \n",
        "    \\end{pmatrix}\n",
        "\\end{align} \n",
        "$\n",
        "\n",
        "$\n",
        "\\begin{align}\n",
        "  &= \n",
        "    \\begin{pmatrix}\n",
        "      x_{1,1} & x_{1,2} & ... & x_{1,N} \\\\ \n",
        "      x_{2,1} & x_{2,2} & ... & x_{2,N} \\\\ \n",
        "      : & : & : & : \\\\ \n",
        "      x_{M,1} & x_{M,2} & ... & x_{M,N} \\\\ \n",
        "    \\end{pmatrix}\n",
        "    \\begin{pmatrix}\n",
        "      w_1 \\\\ w_2 \\\\ : \\\\ w_M\n",
        "    \\end{pmatrix}\n",
        "\\end{align} \n",
        "= Xw\n",
        "$ "
      ],
      "metadata": {
        "id": "sqMmvY50k0jn"
      }
    },
    {
      "cell_type": "code",
      "source": [
        "features = np.arange(20).reshape(4,-1)\n",
        "weights = weights.reshape(5,-1)\n",
        "features.shape, weights.shape"
      ],
      "metadata": {
        "colab": {
          "base_uri": "https://localhost:8080/"
        },
        "id": "ULlYnHjPnuuR",
        "outputId": "1fbf02c6-225c-4bf5-c433-47b870273a91"
      },
      "execution_count": null,
      "outputs": [
        {
          "output_type": "execute_result",
          "data": {
            "text/plain": [
              "((4, 5), (5, 1))"
            ]
          },
          "metadata": {},
          "execution_count": 17
        }
      ]
    },
    {
      "cell_type": "code",
      "source": [
        "y_hat = features @ weights\n",
        "y_hat"
      ],
      "metadata": {
        "colab": {
          "base_uri": "https://localhost:8080/"
        },
        "id": "a4xQkwUTq3hs",
        "outputId": "1ee79c19-e1d6-495a-a0f0-f9f99153588a"
      },
      "execution_count": null,
      "outputs": [
        {
          "output_type": "execute_result",
          "data": {
            "text/plain": [
              "array([[ 0.82],\n",
              "       [ 5.82],\n",
              "       [10.82],\n",
              "       [15.82]])"
            ]
          },
          "metadata": {},
          "execution_count": 18
        }
      ]
    },
    {
      "cell_type": "markdown",
      "source": [
        "###가중평균(weighted average) : 가중합의 가중치값을 전체 가중치값 합으로 나누는 것.\n",
        "$\n",
        "\\begin{align}\n",
        "  \\bar{x} = \\frac{1}{N} \\sum_{𝑖=1}^𝑁𝑥_𝑖 = \\frac{1}{𝑁}1^𝑇_𝑁𝑥\n",
        "\\end{align} \n",
        "$ "
      ],
      "metadata": {
        "id": "LZhhJfFi8g65"
      }
    },
    {
      "cell_type": "code",
      "source": [
        "x = np.arange(10)\n",
        "N = len(x)\n",
        "\n",
        "np.ones(N) @ x / N, x.mean()"
      ],
      "metadata": {
        "colab": {
          "base_uri": "https://localhost:8080/"
        },
        "id": "2oVOHobg6ZhN",
        "outputId": "d2852dd2-436f-4529-ce50-3340137cdd69"
      },
      "execution_count": null,
      "outputs": [
        {
          "output_type": "execute_result",
          "data": {
            "text/plain": [
              "(4.5, 4.5)"
            ]
          },
          "metadata": {},
          "execution_count": 19
        }
      ]
    },
    {
      "cell_type": "markdown",
      "source": [
        "####Ex) 대학 평균 성적 계산 : 1학점과 3학점 과목의 점수가 A 학생이 각각 100점, 60점이면 학점\n",
        "$ \n",
        "\\begin{align}\n",
        "  \\frac{1}{1+3}×100+ \\frac{3}{1+3}×60=70 \n",
        "\\end{align}\n",
        "$"
      ],
      "metadata": {
        "id": "eNOPvq1EC668"
      }
    },
    {
      "cell_type": "code",
      "source": [
        "each_score_weighteds = np.array([[1], [3]])\n",
        "each_scores = np.array([[100], [60]])\n",
        "weighted_total = each_score_weighteds.sum()\n",
        "each_scores, each_score_weighteds, weighted_total, "
      ],
      "metadata": {
        "colab": {
          "base_uri": "https://localhost:8080/"
        },
        "id": "pA6mi-hfBfJD",
        "outputId": "91df4903-7f42-45fc-b36b-2c308e7dc716"
      },
      "execution_count": null,
      "outputs": [
        {
          "output_type": "execute_result",
          "data": {
            "text/plain": [
              "(array([[100],\n",
              "        [ 60]]), array([[1],\n",
              "        [3]]), 4)"
            ]
          },
          "metadata": {},
          "execution_count": 20
        }
      ]
    },
    {
      "cell_type": "code",
      "source": [
        "each_score_weighteds.T @ each_scores / weighted_total, each_scores.mean()"
      ],
      "metadata": {
        "colab": {
          "base_uri": "https://localhost:8080/"
        },
        "id": "16PMm1xKEa5r",
        "outputId": "42cd5b92-7bcf-4921-fba9-e306f307006f"
      },
      "execution_count": null,
      "outputs": [
        {
          "output_type": "execute_result",
          "data": {
            "text/plain": [
              "(array([[70.]]), 80.0)"
            ]
          },
          "metadata": {},
          "execution_count": 21
        }
      ]
    },
    {
      "cell_type": "markdown",
      "source": [
        "####Ex) 위 조건으로 A 학생이 100점/60점이면 학점, B학생이 95점/75점, C학생이 85점/70점인 경우 각각 학점 구하기. \n"
      ],
      "metadata": {
        "id": "Ia7_3IAkFSSF"
      }
    },
    {
      "cell_type": "code",
      "source": [
        "each_scores = np.array([[100, 60]\n",
        "                        ,[95, 75]\n",
        "                        ,[85, 70]])\n",
        "each_score_weighteds.shape, each_scores.shape"
      ],
      "metadata": {
        "colab": {
          "base_uri": "https://localhost:8080/"
        },
        "id": "zXC4ECYrEwyk",
        "outputId": "e918c3d7-7a57-47d6-9ffe-14f69d2df5f0"
      },
      "execution_count": null,
      "outputs": [
        {
          "output_type": "execute_result",
          "data": {
            "text/plain": [
              "((2, 1), (3, 2))"
            ]
          },
          "metadata": {},
          "execution_count": 22
        }
      ]
    },
    {
      "cell_type": "code",
      "source": [
        "each_scores @ each_score_weighteds / weighted_total, each_scores.mean(axis=1)"
      ],
      "metadata": {
        "colab": {
          "base_uri": "https://localhost:8080/"
        },
        "id": "xekGjWT_GHYy",
        "outputId": "7cd0674c-855a-4eb6-e511-554aac6e6f24"
      },
      "execution_count": null,
      "outputs": [
        {
          "output_type": "execute_result",
          "data": {
            "text/plain": [
              "(array([[70.  ],\n",
              "        [80.  ],\n",
              "        [73.75]]), array([80. , 85. , 77.5]))"
            ]
          },
          "metadata": {},
          "execution_count": 23
        }
      ]
    },
    {
      "cell_type": "markdown",
      "source": [
        "##잔차\n",
        "https://datascienceschool.net/02%20mathematics/02.02%20%EB%B2%A1%ED%84%B0%EC%99%80%20%ED%96%89%EB%A0%AC%EC%9D%98%20%EC%97%B0%EC%82%B0.html#id29"
      ],
      "metadata": {
        "id": "_Uuv5pbQtsM2"
      }
    },
    {
      "cell_type": "code",
      "source": [
        ""
      ],
      "metadata": {
        "id": "jHLmxB9WnjK9"
      },
      "execution_count": null,
      "outputs": []
    },
    {
      "cell_type": "markdown",
      "source": [
        "##선형조합(linear combination) : 벡터/행렬에 스칼라값을 곱한 후 더하거나 뺀 것, 선형조합해도 크기는 변하지 않음.\n",
        "$ 𝑐_1𝑥_1+𝑐_2𝑥_2+𝑐_3𝑥_3+⋯+𝑐_𝐿𝑥_𝐿=𝑥 $\n",
        "\n",
        "$ 𝑐_1𝐴_1+𝑐_2𝐴_2+𝑐_3𝐴_3+⋯+𝑐_𝐿𝐴_𝐿=𝐴 $\n",
        "\n",
        "$ 𝑐_1,𝑐_2,…,𝑐_𝐿∈𝐑 $ \n",
        "\n",
        "$ 𝑥_1,𝑥_2,…,𝑥_𝐿,𝑥∈𝐑^𝑀 $ \n",
        "\n",
        "$ 𝐴_1,𝐴_2,…,𝐴_𝐿,𝐴∈𝐑^{𝑀×𝑁} $"
      ],
      "metadata": {
        "id": "h54XFDIfWpR6"
      }
    },
    {
      "cell_type": "code",
      "execution_count": null,
      "metadata": {
        "id": "9npZK2fLa_Ip"
      },
      "outputs": [],
      "source": [
        ""
      ]
    }
  ]
}