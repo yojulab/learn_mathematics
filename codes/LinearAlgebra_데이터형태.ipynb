{
  "nbformat": 4,
  "nbformat_minor": 0,
  "metadata": {
    "colab": {
      "name": "LinearAlgebra_데이터형태.ipynb",
      "provenance": [],
      "collapsed_sections": [
        "kVUUfa4M67uY",
        "uktL2NOP7UWv"
      ],
      "authorship_tag": "ABX9TyMKGHzCvynQxERNIKVpGMU2",
      "include_colab_link": true
    },
    "kernelspec": {
      "name": "python3",
      "display_name": "Python 3"
    },
    "language_info": {
      "name": "python"
    }
  },
  "cells": [
    {
      "cell_type": "markdown",
      "metadata": {
        "id": "view-in-github",
        "colab_type": "text"
      },
      "source": [
        "<a href=\"https://colab.research.google.com/github/SanghunOh/with_mathematics/blob/main/codes/LinearAlgebra_%EB%8D%B0%EC%9D%B4%ED%84%B0%ED%98%95%ED%83%9C.ipynb\" target=\"_parent\"><img src=\"https://colab.research.google.com/assets/colab-badge.svg\" alt=\"Open In Colab\"/></a>"
      ]
    },
    {
      "cell_type": "markdown",
      "source": [
        "##스칼라(scalar) : 하나에 숫자\n",
        "$ 𝑥∈𝐑 $"
      ],
      "metadata": {
        "id": "kVUUfa4M67uY"
      }
    },
    {
      "cell_type": "markdown",
      "source": [
        "##벡터(vector) : 여러 개 숫자 묶음. 특징 자세히 설명 가능(특징 벡터, feature vector).\n",
        "$\n",
        "\\begin{align}\n",
        "       x = 𝑥⃗ = \\begin{pmatrix}\n",
        "        x_1 \\\\ x_2 \\\\ x_3 \\\\ ... \\\\ x_n\n",
        "        \\end{pmatrix}\n",
        "    \\end{align} \n",
        "$ \n",
        "$ \n",
        "\\begin{align}\n",
        "       = \\begin{pmatrix}\n",
        "        x_1 & x_2 & x_3 & ... & x_n\n",
        "        \\end{pmatrix}\n",
        "    \\end{align} \n",
        "$\n",
        "$ = 𝑥 ∈ 𝐑^n $ "
      ],
      "metadata": {
        "id": "iiZcezyB7M66"
      }
    },
    {
      "cell_type": "markdown",
      "source": [
        "#### 구현 시 주의 사항\n",
        "vector_1과 vector_2은 같이 다루나, 패키지 따라 구별됨(ex. sklearn 입력 형태 등)"
      ],
      "metadata": {
        "id": "VEzZYtQEA3iE"
      }
    },
    {
      "cell_type": "code",
      "source": [
        "#하나 vector이면서 2차원 배열(2-dimensional array)\n",
        "import numpy as np\n",
        "vector_1 = np.array([[5.1], [3.5], [1.4], [0.2]])\n",
        "vector_1"
      ],
      "metadata": {
        "colab": {
          "base_uri": "https://localhost:8080/"
        },
        "id": "x1DYKdUU-fvF",
        "outputId": "3425b4a6-43e4-412b-8fc5-7736b852cb95"
      },
      "execution_count": 3,
      "outputs": [
        {
          "output_type": "execute_result",
          "data": {
            "text/plain": [
              "array([[5.1],\n",
              "       [3.5],\n",
              "       [1.4],\n",
              "       [0.2]])"
            ]
          },
          "metadata": {},
          "execution_count": 3
        }
      ]
    },
    {
      "cell_type": "code",
      "source": [
        "#하나 vector이면서 1차원 배열(1-dimensional array)\n",
        "vector_2 = np.array([5.1, 3.5, 1.4, 0.2])\n",
        "vector_2"
      ],
      "metadata": {
        "colab": {
          "base_uri": "https://localhost:8080/"
        },
        "id": "EwgLHlpU-qwq",
        "outputId": "0c1459ee-c94f-43e7-ed66-666ea36620b4"
      },
      "execution_count": 5,
      "outputs": [
        {
          "output_type": "execute_result",
          "data": {
            "text/plain": [
              "array([5.1, 3.5, 1.4, 0.2])"
            ]
          },
          "metadata": {},
          "execution_count": 5
        }
      ]
    },
    {
      "cell_type": "code",
      "execution_count": 1,
      "metadata": {
        "colab": {
          "base_uri": "https://localhost:8080/"
        },
        "id": "aoNdHlyZ635U",
        "outputId": "d84c883d-71eb-45f2-ee72-72bf560346d2"
      },
      "outputs": [
        {
          "output_type": "execute_result",
          "data": {
            "text/plain": [
              "array([5.1, 3.5, 1.4, 0.2])"
            ]
          },
          "metadata": {},
          "execution_count": 1
        }
      ],
      "source": [
        "from sklearn.datasets import load_iris  # 사이킷런 패키지\n",
        "\n",
        "iris = load_iris()  # 데이터 로드\n",
        "iris.data[0, :]  # 첫 번째 꽃의 데이터"
      ]
    },
    {
      "cell_type": "markdown",
      "source": [
        "##행렬(matrix)"
      ],
      "metadata": {
        "id": "e6XElBrU7RBy"
      }
    },
    {
      "cell_type": "code",
      "source": [
        ""
      ],
      "metadata": {
        "id": "lLxIswwv_j-a"
      },
      "execution_count": null,
      "outputs": []
    },
    {
      "cell_type": "markdown",
      "source": [
        "##1"
      ],
      "metadata": {
        "id": "qbAwtJrT_kmH"
      }
    },
    {
      "cell_type": "markdown",
      "source": [
        ""
      ],
      "metadata": {
        "id": "R-p94MQv_kef"
      }
    },
    {
      "cell_type": "markdown",
      "source": [
        "##텐서(tensor)"
      ],
      "metadata": {
        "id": "uktL2NOP7UWv"
      }
    },
    {
      "cell_type": "code",
      "source": [
        ""
      ],
      "metadata": {
        "id": "FfBXL5Gx7Ten"
      },
      "execution_count": null,
      "outputs": []
    }
  ]
}