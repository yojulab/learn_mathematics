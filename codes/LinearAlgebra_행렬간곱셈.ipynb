{
  "nbformat": 4,
  "nbformat_minor": 0,
  "metadata": {
    "colab": {
      "name": "LinearAlgebra_행렬간곱셈.ipynb",
      "provenance": [],
      "authorship_tag": "ABX9TyMuzhbqEokAWsYGr95LWtOR",
      "include_colab_link": true
    },
    "kernelspec": {
      "name": "python3",
      "display_name": "Python 3"
    },
    "language_info": {
      "name": "python"
    }
  },
  "cells": [
    {
      "cell_type": "markdown",
      "metadata": {
        "id": "view-in-github",
        "colab_type": "text"
      },
      "source": [
        "<a href=\"https://colab.research.google.com/github/SanghunOh/with_mathematics/blob/main/codes/LinearAlgebra_%ED%96%89%EB%A0%AC%EA%B0%84%EA%B3%B1%EC%85%88.ipynb\" target=\"_parent\"><img src=\"https://colab.research.google.com/assets/colab-badge.svg\" alt=\"Open In Colab\"/></a>"
      ]
    },
    {
      "cell_type": "markdown",
      "source": [
        "##행렬과 행렬 곱셈 : 결과는 행렬\n",
        "$𝐶=𝐴𝐵→𝑐_{𝑖𝑗}=𝑎^𝑇_𝑖𝑏_𝑗 일려면\\\\\n",
        "조건은 𝐴∈𝐑^{𝑁×𝐿},𝐵∈𝐑^{𝐿×𝑀}→𝐴𝐵∈𝐑^{𝑁×𝑀}$\n",
        "\n",
        "Ex) 행렬 2×3와\u001c 3×2 곱 ⇒ 2×2 \n",
        "\n",
        "$ \n",
        "\\begin{align}\n",
        "  \\begin{pmatrix}\n",
        "    a_{11} & a_{12} & a_{13} \\\\\n",
        "    a_{21} & a_{22} & a_{23} \\\\\n",
        "  \\end{pmatrix}\n",
        "  \\begin{pmatrix}\n",
        "    b_{11} & b_{12}\\\\\n",
        "    b_{21} & b_{22}\\\\\n",
        "    b_{31} & b_{32}\\\\\n",
        "  \\end{pmatrix}\n",
        "  =\n",
        "  \\begin{pmatrix}\n",
        "    (a_{11}b_{11}+a_{12}b_{21}+a_{13}b_{31}) & (a_{11}b_{12}+a_{12}b_{22}+a_{13}b_{32})\\\\\n",
        "    (a_{21}b_{11}+a_{22}b_{21}+a_{23}b_{31}) & (a_{21}b_{12}+a_{22}b_{22}+a_{23}b_{32})\\\\\n",
        "  \\end{pmatrix}\n",
        "\\end{align} \n",
        "$ \n"
      ],
      "metadata": {
        "id": "5nJlgnvYY6I_"
      }
    },
    {
      "cell_type": "code",
      "execution_count": null,
      "metadata": {
        "colab": {
          "base_uri": "https://localhost:8080/"
        },
        "id": "kd0LFNGUYn0z",
        "outputId": "fb2dfb61-ee1d-4956-ee72-bd5278e4b497"
      },
      "outputs": [
        {
          "output_type": "execute_result",
          "data": {
            "text/plain": [
              "(array([[22, 28],\n",
              "        [49, 64]]), (2, 2))"
            ]
          },
          "metadata": {},
          "execution_count": 4
        }
      ],
      "source": [
        "import numpy as np\n",
        "\n",
        "matrix_A = np.array([[1, 2, 3], [4, 5, 6]])\n",
        "matrix_B = np.array([[1, 2], [3, 4], [5, 6]])\n",
        "matrix_result = matrix_A @ matrix_B\n",
        "matrix_result, matrix_result.shape"
      ]
    },
    {
      "cell_type": "markdown",
      "source": [
        "###응용)인공신경망의 기본 구조\n",
        "$ \n",
        "\\begin{align}\n",
        "  \\begin{pmatrix}\n",
        "    \\hat{y_1} \\\\\n",
        "    \\hat{y_2} \\\\\n",
        "  \\end{pmatrix}\n",
        "  =\n",
        "  \\begin{pmatrix}\n",
        "    w_{11} & w_{12} & w_{13}\\\\\n",
        "    w_{21} & w_{22} & w_{23}\\\\\n",
        "  \\end{pmatrix}\n",
        "  \\begin{pmatrix}\n",
        "    x_{11} \\\\ x_{12} \\\\ x_{13}\\\\\n",
        "  \\end{pmatrix}\n",
        "\\end{align} \\\\\n",
        "\\hat{y} = Wx\n",
        "$ \n"
      ],
      "metadata": {
        "id": "LowJCO6KgKOY"
      }
    },
    {
      "cell_type": "markdown",
      "source": [
        "##일반 행렬 교환 법칙과 분배 법칙"
      ],
      "metadata": {
        "id": "0V6NJYpGhUNu"
      }
    },
    {
      "cell_type": "code",
      "source": [
        "matrix_A = np.array([[1, 2], [3, 4]])\n",
        "matrix_B = np.array([[5, 6], [7, 8]])\n",
        "matrix_C = np.array([[9, 8], [7, 6]])"
      ],
      "metadata": {
        "id": "74JVIG1bfd7Z"
      },
      "execution_count": null,
      "outputs": []
    },
    {
      "cell_type": "markdown",
      "source": [
        "###교환 법칙 : 성립하지 않음\n",
        "$ 𝐴𝐵≠𝐵𝐴 $"
      ],
      "metadata": {
        "id": "t3f3DHBBiUkZ"
      }
    },
    {
      "cell_type": "code",
      "source": [
        "matrix_A @ matrix_B, matrix_B @ matrix_A"
      ],
      "metadata": {
        "colab": {
          "base_uri": "https://localhost:8080/"
        },
        "id": "PBJ95rHuh_Mx",
        "outputId": "eafdc97f-0b85-4e7a-f1f8-218e1aab826b"
      },
      "execution_count": null,
      "outputs": [
        {
          "output_type": "execute_result",
          "data": {
            "text/plain": [
              "(array([[19, 22],\n",
              "        [43, 50]]), array([[23, 34],\n",
              "        [31, 46]]))"
            ]
          },
          "metadata": {},
          "execution_count": 7
        }
      ]
    },
    {
      "cell_type": "markdown",
      "source": [
        "###분배 법칙\n",
        "$\n",
        "𝐴(𝐵+𝐶)=𝐴𝐵+𝐴𝐶 \\\\\n",
        "(𝐴+𝐵)𝐶=𝐴𝐶+𝐵𝐶\n",
        "$"
      ],
      "metadata": {
        "id": "_PVJ23wFiZ3y"
      }
    },
    {
      "cell_type": "code",
      "source": [
        "matrix_A @ (matrix_B + matrix_C), (matrix_A @ matrix_B) + (matrix_A @ matrix_C)"
      ],
      "metadata": {
        "colab": {
          "base_uri": "https://localhost:8080/"
        },
        "id": "J-L2Rr16icqO",
        "outputId": "a700cc0b-3160-4079-9eda-eea88a5b0baf"
      },
      "execution_count": null,
      "outputs": [
        {
          "output_type": "execute_result",
          "data": {
            "text/plain": [
              "(array([[42, 42],\n",
              "        [98, 98]]), array([[42, 42],\n",
              "        [98, 98]]))"
            ]
          },
          "metadata": {},
          "execution_count": 8
        }
      ]
    },
    {
      "cell_type": "code",
      "source": [
        "(matrix_A + matrix_B) @ matrix_C, (matrix_A @ matrix_C) + (matrix_B @ matrix_C)"
      ],
      "metadata": {
        "colab": {
          "base_uri": "https://localhost:8080/"
        },
        "id": "0bfyV93PjNiv",
        "outputId": "c42eb484-caea-4593-f892-961fbdecc8b4"
      },
      "execution_count": null,
      "outputs": [
        {
          "output_type": "execute_result",
          "data": {
            "text/plain": [
              "(array([[110,  96],\n",
              "        [174, 152]]), array([[110,  96],\n",
              "        [174, 152]]))"
            ]
          },
          "metadata": {},
          "execution_count": 9
        }
      ]
    },
    {
      "cell_type": "markdown",
      "source": [
        "##전치 행렬 분배와 교환 법칙"
      ],
      "metadata": {
        "id": "jNc3Jtk6j0Hh"
      }
    },
    {
      "cell_type": "markdown",
      "source": [
        "###분배법칙\n",
        "$ (𝐴+𝐵)^𝑇=𝐴^𝑇+𝐵^𝑇 $"
      ],
      "metadata": {
        "id": "gUjrjTbJkeLs"
      }
    },
    {
      "cell_type": "code",
      "source": [
        "(matrix_A + matrix_B).T, matrix_A.T @ matrix_B.T"
      ],
      "metadata": {
        "colab": {
          "base_uri": "https://localhost:8080/"
        },
        "id": "z5RAGNJCjcth",
        "outputId": "5ba754ba-c133-424b-9759-c6443e69551d"
      },
      "execution_count": null,
      "outputs": [
        {
          "output_type": "execute_result",
          "data": {
            "text/plain": [
              "(array([[ 6, 10],\n",
              "        [ 8, 12]]), array([[23, 31],\n",
              "        [34, 46]]))"
            ]
          },
          "metadata": {},
          "execution_count": 10
        }
      ]
    },
    {
      "cell_type": "markdown",
      "source": [
        "###연습문제\n",
        "https://datascienceschool.net/02%20mathematics/02.02%20%EB%B2%A1%ED%84%B0%EC%99%80%20%ED%96%89%EB%A0%AC%EC%9D%98%20%EC%97%B0%EC%82%B0.html#id19\n"
      ],
      "metadata": {
        "id": "u0e5cOHoD7YA"
      }
    },
    {
      "cell_type": "code",
      "source": [
        ""
      ],
      "metadata": {
        "id": "3Mcz25rKk3fy"
      },
      "execution_count": null,
      "outputs": []
    }
  ]
}