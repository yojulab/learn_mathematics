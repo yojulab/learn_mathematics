{
  "nbformat": 4,
  "nbformat_minor": 0,
  "metadata": {
    "colab": {
      "name": "LinearAlgebra_행렬간곱셈.ipynb",
      "provenance": [],
      "authorship_tag": "ABX9TyNzQIU6I/OxtsrsGKXPJbs1",
      "include_colab_link": true
    },
    "kernelspec": {
      "name": "python3",
      "display_name": "Python 3"
    },
    "language_info": {
      "name": "python"
    }
  },
  "cells": [
    {
      "cell_type": "markdown",
      "metadata": {
        "id": "view-in-github",
        "colab_type": "text"
      },
      "source": [
        "<a href=\"https://colab.research.google.com/github/SanghunOh/with_mathematics/blob/main/codes/LinearAlgebra_%ED%96%89%EB%A0%AC%EA%B0%84%EA%B3%B1%EC%85%88.ipynb\" target=\"_parent\"><img src=\"https://colab.research.google.com/assets/colab-badge.svg\" alt=\"Open In Colab\"/></a>"
      ]
    },
    {
      "cell_type": "markdown",
      "source": [
        "##행렬과 행렬 곱셈 : 결과는 행렬\n",
        "$𝐶=𝐴𝐵→𝑐_{𝑖𝑗}=𝑎^𝑇_𝑖𝑏_𝑗 일려면\\\\\n",
        "조건은 𝐴∈𝐑^{𝑁×𝐿},𝐵∈𝐑^{𝐿×𝑀}→𝐴𝐵∈𝐑^{𝑁×𝑀}$\n",
        "\n",
        "Ex) 행렬 2×3와\u001c 3×2 곱 ⇒ 2×2 \n",
        "\n",
        "$ \n",
        "\\begin{align}\n",
        "  \\begin{pmatrix}\n",
        "    a_{11} & a_{12} & a_{13} \\\\\n",
        "    a_{21} & a_{22} & a_{23} \\\\\n",
        "  \\end{pmatrix}\n",
        "  \\begin{pmatrix}\n",
        "    b_{11} & b_{12}\\\\\n",
        "    b_{21} & b_{22}\\\\\n",
        "    b_{31} & b_{32}\\\\\n",
        "  \\end{pmatrix}\n",
        "  =\n",
        "  \\begin{pmatrix}\n",
        "    (a_{11}b_{11}+a_{12}b_{21}+a_{13}b_{31}) & (a_{11}b_{12}+a_{12}b_{22}+a_{13}b_{32})\\\\\n",
        "    (a_{21}b_{11}+a_{22}b_{21}+a_{23}b_{31}) & (a_{21}b_{12}+a_{22}b_{22}+a_{23}b_{32})\\\\\n",
        "  \\end{pmatrix}\n",
        "\\end{align} \n",
        "$ \n"
      ],
      "metadata": {
        "id": "5nJlgnvYY6I_"
      }
    },
    {
      "cell_type": "code",
      "execution_count": 45,
      "metadata": {
        "colab": {
          "base_uri": "https://localhost:8080/"
        },
        "id": "kd0LFNGUYn0z",
        "outputId": "3d37433b-8b26-4f97-c6a9-dd72e0d5e0e6"
      },
      "outputs": [
        {
          "output_type": "execute_result",
          "data": {
            "text/plain": [
              "(array([[22, 28],\n",
              "        [49, 64]]), (2, 2))"
            ]
          },
          "metadata": {},
          "execution_count": 45
        }
      ],
      "source": [
        "import numpy as np\n",
        "\n",
        "matrix_A = np.array([[1, 2, 3], [4, 5, 6]])\n",
        "matrix_B = np.array([[1, 2], [3, 4], [5, 6]])\n",
        "matrix_result = matrix_A @ matrix_B\n",
        "matrix_result, matrix_result.shape"
      ]
    },
    {
      "cell_type": "markdown",
      "source": [
        "###응용)인공신경망의 기본 구조\n",
        "$ \n",
        "\\begin{align}\n",
        "  \\begin{pmatrix}\n",
        "    \\hat{y_1} \\\\\n",
        "    \\hat{y_2} \\\\\n",
        "  \\end{pmatrix}\n",
        "  =\n",
        "  \\begin{pmatrix}\n",
        "    w_{11} & w_{12} & w_{13}\\\\\n",
        "    w_{21} & w_{22} & w_{23}\\\\\n",
        "  \\end{pmatrix}\n",
        "  \\begin{pmatrix}\n",
        "    x_{11} \\\\ x_{12} \\\\ x_{13}\\\\\n",
        "  \\end{pmatrix}\n",
        "\\end{align} \\\\\n",
        "\\hat{y} = Wx\n",
        "$ \n"
      ],
      "metadata": {
        "id": "LowJCO6KgKOY"
      }
    },
    {
      "cell_type": "markdown",
      "source": [
        "##일반 행렬 교환 법칙과 분배 법칙"
      ],
      "metadata": {
        "id": "0V6NJYpGhUNu"
      }
    },
    {
      "cell_type": "code",
      "source": [
        "matrix_A = np.array([[1, 2], [3, 4]])\n",
        "matrix_B = np.array([[5, 6], [7, 8]])\n",
        "matrix_C = np.array([[9, 8], [7, 6]])"
      ],
      "metadata": {
        "id": "74JVIG1bfd7Z"
      },
      "execution_count": 46,
      "outputs": []
    },
    {
      "cell_type": "markdown",
      "source": [
        "###교환 법칙 : 성립하지 않음\n",
        "$ 𝐴𝐵≠𝐵𝐴 $"
      ],
      "metadata": {
        "id": "t3f3DHBBiUkZ"
      }
    },
    {
      "cell_type": "code",
      "source": [
        "matrix_A @ matrix_B, matrix_B @ matrix_A"
      ],
      "metadata": {
        "colab": {
          "base_uri": "https://localhost:8080/"
        },
        "id": "PBJ95rHuh_Mx",
        "outputId": "0027e40e-7194-46ef-91ab-b2a9a1f32865"
      },
      "execution_count": 47,
      "outputs": [
        {
          "output_type": "execute_result",
          "data": {
            "text/plain": [
              "(array([[19, 22],\n",
              "        [43, 50]]), array([[23, 34],\n",
              "        [31, 46]]))"
            ]
          },
          "metadata": {},
          "execution_count": 47
        }
      ]
    },
    {
      "cell_type": "markdown",
      "source": [
        "###분배 법칙\n",
        "$\n",
        "𝐴(𝐵+𝐶)=𝐴𝐵+𝐴𝐶 \\\\\n",
        "(𝐴+𝐵)𝐶=𝐴𝐶+𝐵𝐶\n",
        "$"
      ],
      "metadata": {
        "id": "_PVJ23wFiZ3y"
      }
    },
    {
      "cell_type": "code",
      "source": [
        "matrix_A @ (matrix_B + matrix_C), (matrix_A @ matrix_B) + (matrix_A @ matrix_C)"
      ],
      "metadata": {
        "colab": {
          "base_uri": "https://localhost:8080/"
        },
        "id": "J-L2Rr16icqO",
        "outputId": "dab31a50-8ca9-4a64-b35e-243f16bb5a15"
      },
      "execution_count": 48,
      "outputs": [
        {
          "output_type": "execute_result",
          "data": {
            "text/plain": [
              "(array([[42, 42],\n",
              "        [98, 98]]), array([[42, 42],\n",
              "        [98, 98]]))"
            ]
          },
          "metadata": {},
          "execution_count": 48
        }
      ]
    },
    {
      "cell_type": "code",
      "source": [
        "(matrix_A + matrix_B) @ matrix_C, (matrix_A @ matrix_C) + (matrix_B @ matrix_C)"
      ],
      "metadata": {
        "colab": {
          "base_uri": "https://localhost:8080/"
        },
        "id": "0bfyV93PjNiv",
        "outputId": "e4eef25c-5177-481b-af88-acc8c706d674"
      },
      "execution_count": 49,
      "outputs": [
        {
          "output_type": "execute_result",
          "data": {
            "text/plain": [
              "(array([[110,  96],\n",
              "        [174, 152]]), array([[110,  96],\n",
              "        [174, 152]]))"
            ]
          },
          "metadata": {},
          "execution_count": 49
        }
      ]
    },
    {
      "cell_type": "markdown",
      "source": [
        "##전치 행렬 분배와 교환 법칙"
      ],
      "metadata": {
        "id": "jNc3Jtk6j0Hh"
      }
    },
    {
      "cell_type": "markdown",
      "source": [
        "###분배법칙\n",
        "$ (𝐴+𝐵)^𝑇=𝐴^𝑇+𝐵^𝑇 $"
      ],
      "metadata": {
        "id": "gUjrjTbJkeLs"
      }
    },
    {
      "cell_type": "code",
      "source": [
        "(matrix_A + matrix_B).T, matrix_A.T + matrix_B.T"
      ],
      "metadata": {
        "colab": {
          "base_uri": "https://localhost:8080/"
        },
        "id": "z5RAGNJCjcth",
        "outputId": "ed486e34-9168-465e-f4d8-d316ea1e932c"
      },
      "execution_count": 51,
      "outputs": [
        {
          "output_type": "execute_result",
          "data": {
            "text/plain": [
              "(array([[ 6, 10],\n",
              "        [ 8, 12]]), array([[ 6, 10],\n",
              "        [ 8, 12]]))"
            ]
          },
          "metadata": {},
          "execution_count": 51
        }
      ]
    },
    {
      "cell_type": "markdown",
      "source": [
        "###전치 연산과 곱셈 경우는 성립하나 곱셈 순서 바꿈.\n",
        "$ \n",
        "(𝐴𝐵)^𝑇=𝐵^𝑇𝐴^𝑇 \\\\\n",
        "(𝐴𝐵𝐶)^𝑇=𝐶^𝑇𝐵^𝑇𝐴^𝑇\n",
        "$"
      ],
      "metadata": {
        "id": "0rqrMds_f0na"
      }
    },
    {
      "cell_type": "code",
      "source": [
        "(matrix_A @ matrix_B).T, matrix_B.T @ matrix_A.T"
      ],
      "metadata": {
        "id": "6ETLg33mf29y",
        "outputId": "487eadc1-bd30-4945-e5f6-4901d20a9f18",
        "colab": {
          "base_uri": "https://localhost:8080/"
        }
      },
      "execution_count": 52,
      "outputs": [
        {
          "output_type": "execute_result",
          "data": {
            "text/plain": [
              "(array([[19, 43],\n",
              "        [22, 50]]), array([[19, 43],\n",
              "        [22, 50]]))"
            ]
          },
          "metadata": {},
          "execution_count": 52
        }
      ]
    },
    {
      "cell_type": "markdown",
      "source": [
        "###연습문제\n",
        "https://datascienceschool.net/02%20mathematics/02.02%20%EB%B2%A1%ED%84%B0%EC%99%80%20%ED%96%89%EB%A0%AC%EC%9D%98%20%EC%97%B0%EC%82%B0.html#id19\n",
        "\n",
        "(4) 다음 코드를 실행하면 붓꽃 전체 데이터를 모두 벡터로 변환하여 하나의 넘파이 행렬 X 를 만든다.\n",
        "\n",
        "from sklearn.datasets import load_iris\n",
        "X = load_iris().data\n",
        "이 데이터로 행렬 𝑋¯의 값을 계산하라. 이 행렬은 첫 번째 열의 값이 모두 같은 값으로 붓꽃의 꽃받침의 길이(sepal length)의 평균이고 두 번째 열의 값이 모두 같은 값으로 붓꽃의 꽃받침의 폭(sepal width)의 평균, 이런 식으로 계산된 행렬이다.\n"
      ],
      "metadata": {
        "id": "u0e5cOHoD7YA"
      }
    },
    {
      "cell_type": "markdown",
      "source": [
        "##행렬 곱셈 : 계산 순서를 바꾸어도 상관없음.\n",
        "$ \n",
        "𝐴𝐵𝐶=(𝐴𝐵)𝐶=𝐴(𝐵𝐶) \\\\\n",
        "𝐴𝐵𝐶𝐷=((𝐴𝐵)𝐶)𝐷=(𝐴𝐵)(𝐶𝐷)=𝐴(𝐵𝐶𝐷)=𝐴(𝐵𝐶)𝐷\n",
        "$\n"
      ],
      "metadata": {
        "id": "rYMp0T1AUSCS"
      }
    },
    {
      "cell_type": "code",
      "source": [
        "matrix_A = np.array([1,2])\n",
        "matrix_B = np.array([[1,2], [3,4]])\n",
        "matrix_C = np.array([[5],[6]])\n",
        "matrix_A.shape, matrix_B.shape, matrix_C.shape"
      ],
      "metadata": {
        "id": "3Mcz25rKk3fy",
        "colab": {
          "base_uri": "https://localhost:8080/"
        },
        "outputId": "871d0321-5bb7-490c-d7c0-4151fe9e739d"
      },
      "execution_count": 9,
      "outputs": [
        {
          "output_type": "execute_result",
          "data": {
            "text/plain": [
              "((2,), (2, 2), (2, 1))"
            ]
          },
          "metadata": {},
          "execution_count": 9
        }
      ]
    },
    {
      "cell_type": "code",
      "source": [
        "(matrix_A @ matrix_B), (matrix_A @ matrix_B).shape"
      ],
      "metadata": {
        "colab": {
          "base_uri": "https://localhost:8080/"
        },
        "id": "wirEJGHdXHQo",
        "outputId": "607c6edc-38ac-44f7-eb8f-30de3ed4536a"
      },
      "execution_count": 24,
      "outputs": [
        {
          "output_type": "execute_result",
          "data": {
            "text/plain": [
              "(array([ 7, 10]), (2,))"
            ]
          },
          "metadata": {},
          "execution_count": 24
        }
      ]
    },
    {
      "cell_type": "code",
      "source": [
        "(matrix_A @ matrix_B) @ matrix_C"
      ],
      "metadata": {
        "colab": {
          "base_uri": "https://localhost:8080/"
        },
        "id": "scr_zFk_Uyjj",
        "outputId": "8f2ab208-c4ef-4017-a2d2-b3601cc0e31d"
      },
      "execution_count": 23,
      "outputs": [
        {
          "output_type": "execute_result",
          "data": {
            "text/plain": [
              "array([95])"
            ]
          },
          "metadata": {},
          "execution_count": 23
        }
      ]
    },
    {
      "cell_type": "code",
      "source": [
        "matrix_A @ (matrix_B @ matrix_C)"
      ],
      "metadata": {
        "colab": {
          "base_uri": "https://localhost:8080/"
        },
        "id": "xKUQYWu7VQ7P",
        "outputId": "29d40cb0-ee6a-41c3-c872-feda19afc41c"
      },
      "execution_count": 15,
      "outputs": [
        {
          "output_type": "execute_result",
          "data": {
            "text/plain": [
              "array([95])"
            ]
          },
          "metadata": {},
          "execution_count": 15
        }
      ]
    },
    {
      "cell_type": "markdown",
      "source": [
        "##항등행렬의 곱셈\n",
        "$ 𝐴𝐼=𝐼𝐴=𝐴 $"
      ],
      "metadata": {
        "id": "UByzSODiWGM4"
      }
    },
    {
      "cell_type": "code",
      "source": [
        "matrix_identity = np.eye(2)\n",
        "matrix_identity, matrix_identity.shape, matrix_B.shape"
      ],
      "metadata": {
        "colab": {
          "base_uri": "https://localhost:8080/"
        },
        "id": "eaRzeOYbV1W-",
        "outputId": "7c903548-989d-43df-980c-72a6030b7697"
      },
      "execution_count": 19,
      "outputs": [
        {
          "output_type": "execute_result",
          "data": {
            "text/plain": [
              "(array([[1., 0.],\n",
              "        [0., 1.]]), (2, 2), (2, 2))"
            ]
          },
          "metadata": {},
          "execution_count": 19
        }
      ]
    },
    {
      "cell_type": "code",
      "source": [
        "matrix_B @ matrix_identity, matrix_identity @ matrix_B"
      ],
      "metadata": {
        "colab": {
          "base_uri": "https://localhost:8080/"
        },
        "id": "6tGOxisCWa77",
        "outputId": "0def07e0-91f9-450d-e5ec-a029accbcad9"
      },
      "execution_count": 25,
      "outputs": [
        {
          "output_type": "execute_result",
          "data": {
            "text/plain": [
              "(array([[1., 2.],\n",
              "        [3., 4.]]), array([[1., 2.],\n",
              "        [3., 4.]]))"
            ]
          },
          "metadata": {},
          "execution_count": 25
        }
      ]
    },
    {
      "cell_type": "markdown",
      "source": [
        "##행렬과 벡터의 곱"
      ],
      "metadata": {
        "id": "bA5xxEhVXlAw"
      }
    },
    {
      "cell_type": "markdown",
      "source": [
        "###열 벡터의 선형조합\n",
        "$ \n",
        "\\begin{align}\n",
        "Xw =\n",
        "  \\begin{pmatrix}\n",
        "    c_{1} & c_{2} & c_{3} & ... & c_M\\\\\n",
        "  \\end{pmatrix}\n",
        "  \\begin{pmatrix}\n",
        "    w_{1} \\\\ w_{2} \\\\ w_{3} \\\\ : \\\\ w_{M} \\\\\n",
        "  \\end{pmatrix}\n",
        "  = w_1c_1+w_2c_2+...+\n",
        "\\end{align}\n",
        "$ \n"
      ],
      "metadata": {
        "id": "mHxGt7yuYGdj"
      }
    },
    {
      "cell_type": "code",
      "source": [
        "features = np.array([[1,2,3], [4,5,6]])\n",
        "weights = np.array([2,3,4]).reshape(3,-1)\n",
        "features.shape, weights.shape"
      ],
      "metadata": {
        "colab": {
          "base_uri": "https://localhost:8080/"
        },
        "id": "7vJRSkwPWuYh",
        "outputId": "6bc8959d-2fff-4ef8-a738-44b69885109e"
      },
      "execution_count": 27,
      "outputs": [
        {
          "output_type": "execute_result",
          "data": {
            "text/plain": [
              "((2, 3), (3, 1))"
            ]
          },
          "metadata": {},
          "execution_count": 27
        }
      ]
    },
    {
      "cell_type": "code",
      "source": [
        "features @ weights"
      ],
      "metadata": {
        "colab": {
          "base_uri": "https://localhost:8080/"
        },
        "id": "GuvNIOPyaw78",
        "outputId": "b9faa7b3-54d6-4ae8-827d-1fa111312969"
      },
      "execution_count": 28,
      "outputs": [
        {
          "output_type": "execute_result",
          "data": {
            "text/plain": [
              "array([[20],\n",
              "       [47]])"
            ]
          },
          "metadata": {},
          "execution_count": 28
        }
      ]
    },
    {
      "cell_type": "markdown",
      "source": [
        "###두 이미지를 섞어놓은 모핑(morphing) 효과"
      ],
      "metadata": {
        "id": "VROYKGGpbdhV"
      }
    },
    {
      "cell_type": "code",
      "source": [
        "from sklearn.datasets import fetch_olivetti_faces\n",
        "\n",
        "faces = fetch_olivetti_faces()\n",
        "\n",
        "faces.images[6].shape, faces.images[6].max(), faces.images[6].min()"
      ],
      "metadata": {
        "colab": {
          "base_uri": "https://localhost:8080/"
        },
        "id": "v36YJaLbbGr3",
        "outputId": "d5881df4-428f-4207-e020-b93c51703eed"
      },
      "execution_count": 42,
      "outputs": [
        {
          "output_type": "execute_result",
          "data": {
            "text/plain": [
              "((64, 64), 0.8512397, 0.07024793)"
            ]
          },
          "metadata": {},
          "execution_count": 42
        }
      ]
    },
    {
      "cell_type": "code",
      "source": [
        "import matplotlib.pyplot as plt\n",
        "f, ax = plt.subplots(1, 3)\n",
        "\n",
        "ax[0].imshow(faces.images[6], cmap=plt.cm.bone)\n",
        "ax[0].grid(False)\n",
        "ax[0].set_xticks([])\n",
        "ax[0].set_yticks([])\n",
        "ax[0].set_title(\"image 1: $x_1$\")\n",
        "\n",
        "ax[1].imshow(faces.images[10], cmap=plt.cm.bone)\n",
        "ax[1].grid(False)\n",
        "ax[1].set_xticks([])\n",
        "ax[1].set_yticks([])\n",
        "ax[1].set_title(\"image 2: $x_2$\")\n",
        "\n",
        "new_face = 0.7 * faces.images[6] + 0.3 * faces.images[10]\n",
        "# new_face = 0.5 * faces.images[6] + 0.5 * faces.images[10]\n",
        "ax[2].imshow(new_face, cmap=plt.cm.bone)\n",
        "ax[2].grid(False)\n",
        "ax[2].set_xticks([])\n",
        "ax[2].set_yticks([])\n",
        "ax[2].set_title(\"image 3: $0.7x_1 + 0.3x_2$\")\n",
        "\n",
        "plt.show()"
      ],
      "metadata": {
        "colab": {
          "base_uri": "https://localhost:8080/",
          "height": 151
        },
        "id": "AQ37T0E5bg2g",
        "outputId": "cdac5ca9-35b3-4efe-89e3-1f8193d0144b"
      },
      "execution_count": 44,
      "outputs": [
        {
          "output_type": "display_data",
          "data": {
            "text/plain": [
              "<Figure size 432x288 with 3 Axes>"
            ],
            "image/png": "[encoded data removed]"
          },
          "metadata": {}
        }
      ]
    },
    {
      "cell_type": "code",
      "source": [
        ""
      ],
      "metadata": {
        "id": "V1tVuVZPc1hU"
      },
      "execution_count": null,
      "outputs": []
    }
  ]
}