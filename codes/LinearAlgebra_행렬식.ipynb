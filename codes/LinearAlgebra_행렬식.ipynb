{
  "nbformat": 4,
  "nbformat_minor": 0,
  "metadata": {
    "colab": {
      "name": "LinearAlgebra_행렬식.ipynb",
      "provenance": [],
      "authorship_tag": "ABX9TyNiiotbtxQKKQtJyqwQ2rk9",
      "include_colab_link": true
    },
    "kernelspec": {
      "name": "python3",
      "display_name": "Python 3"
    },
    "language_info": {
      "name": "python"
    }
  },
  "cells": [
    {
      "cell_type": "markdown",
      "metadata": {
        "id": "view-in-github",
        "colab_type": "text"
      },
      "source": [
        "<a href=\"https://colab.research.google.com/github/SanghunOh/with_mathematics/blob/main/codes/LinearAlgebra_%ED%96%89%EB%A0%AC%EC%8B%9D.ipynb\" target=\"_parent\"><img src=\"https://colab.research.google.com/assets/colab-badge.svg\" alt=\"Open In Colab\"/></a>"
      ]
    },
    {
      "cell_type": "markdown",
      "source": [
        "##행렬 놈(norm) : 행렬/벡터 크기\n",
        "$ \n",
        "\\begin{align}\n",
        "  ||A||=||A||_2 = ||A||_p = \\sqrt{∑_{i=1}^N ∑_{j=1}^N a_{ij}^2} \\\\\n",
        "  ||x||^2 = ∑_{i=1}^N x_i^2 = x^T x\n",
        "\\end{align}\n",
        "$"
      ],
      "metadata": {
        "id": "_f7xH-s7FBI6"
      }
    },
    {
      "cell_type": "code",
      "execution_count": null,
      "metadata": {
        "colab": {
          "base_uri": "https://localhost:8080/"
        },
        "id": "cu_aFVuqFAVo",
        "outputId": "622fd4e6-7230-4c42-84e8-7e2844321ece"
      },
      "outputs": [
        {
          "output_type": "execute_result",
          "data": {
            "text/plain": [
              "array([[-3, -2, -1],\n",
              "       [ 0,  1,  2],\n",
              "       [ 3,  4,  5]])"
            ]
          },
          "metadata": {},
          "execution_count": 1
        }
      ],
      "source": [
        "import numpy as np\n",
        "matrix_norm = (np.arange(9)-3).reshape((3,3))\n",
        "matrix_norm"
      ]
    },
    {
      "cell_type": "code",
      "source": [
        "np.linalg.norm(matrix_norm)"
      ],
      "metadata": {
        "colab": {
          "base_uri": "https://localhost:8080/"
        },
        "id": "b7lV1RpEJTAR",
        "outputId": "1beb7f16-671b-46f2-a2a8-8775b2c9a5d0"
      },
      "execution_count": null,
      "outputs": [
        {
          "output_type": "execute_result",
          "data": {
            "text/plain": [
              "8.306623862918075"
            ]
          },
          "metadata": {},
          "execution_count": 2
        }
      ]
    },
    {
      "cell_type": "markdown",
      "source": [
        "##대각합(trace) : 정방행렬에만 정의, 대각원소 합\n",
        "$\n",
        "tr(A) = a_{11} + a_{22} + ... + a_{NN} = ∑_{i=1}^N a_{ii}\n",
        "$"
      ],
      "metadata": {
        "id": "ESrjJ6NaLLKk"
      }
    },
    {
      "cell_type": "code",
      "source": [
        "matrix_eye = np.eye(3)\n",
        "matrix_eye"
      ],
      "metadata": {
        "colab": {
          "base_uri": "https://localhost:8080/"
        },
        "id": "XJbPiE-AJZpa",
        "outputId": "8ffa5514-d8ad-4b47-f250-4dd2c2d515fe"
      },
      "execution_count": null,
      "outputs": [
        {
          "output_type": "execute_result",
          "data": {
            "text/plain": [
              "array([[1., 0., 0.],\n",
              "       [0., 1., 0.],\n",
              "       [0., 0., 1.]])"
            ]
          },
          "metadata": {},
          "execution_count": 3
        }
      ]
    },
    {
      "cell_type": "code",
      "source": [
        "np.trace(matrix_eye)"
      ],
      "metadata": {
        "colab": {
          "base_uri": "https://localhost:8080/"
        },
        "id": "lqA3yirUMFZa",
        "outputId": "c7906474-6349-4673-88d2-d12b69a56d63"
      },
      "execution_count": null,
      "outputs": [
        {
          "output_type": "execute_result",
          "data": {
            "text/plain": [
              "3.0"
            ]
          },
          "metadata": {},
          "execution_count": 4
        }
      ]
    },
    {
      "cell_type": "markdown",
      "source": [
        "###트레이스 트릭(trace trick) : 이차 형식(quadratic form) 미분 구할 때 유용.\n",
        "$\n",
        "𝑥^𝑇 𝐴 𝑥 = tr(𝑥^𝑇𝐴𝑥) = tr(𝐴𝑥𝑥^𝑇)=tr(𝑥𝑥^𝑇𝐴)\n",
        "$"
      ],
      "metadata": {
        "id": "pCz3mYAyMQp-"
      }
    },
    {
      "cell_type": "code",
      "source": [
        "x = (np.arange(6)+2).reshape((2,3))\n",
        "x"
      ],
      "metadata": {
        "colab": {
          "base_uri": "https://localhost:8080/"
        },
        "id": "Nv8Uj-1aMOiX",
        "outputId": "cc561094-d6bf-4804-fd06-e58dd951a192"
      },
      "execution_count": null,
      "outputs": [
        {
          "output_type": "execute_result",
          "data": {
            "text/plain": [
              "array([[2, 3, 4],\n",
              "       [5, 6, 7]])"
            ]
          },
          "metadata": {},
          "execution_count": 5
        }
      ]
    },
    {
      "cell_type": "code",
      "source": [
        "np.trace(x.T @ x @ matrix_eye)"
      ],
      "metadata": {
        "colab": {
          "base_uri": "https://localhost:8080/"
        },
        "id": "F9z0u4tuOF-O",
        "outputId": "4ad560e1-1df1-4966-f555-f93fe167d9b5"
      },
      "execution_count": null,
      "outputs": [
        {
          "output_type": "execute_result",
          "data": {
            "text/plain": [
              "139.0"
            ]
          },
          "metadata": {},
          "execution_count": 6
        }
      ]
    },
    {
      "cell_type": "markdown",
      "source": [
        "##[행렬식(determinant)](https://datascienceschool.net/02%20mathematics/02.03%20%ED%96%89%EB%A0%AC%EC%9D%98%20%EC%84%B1%EC%A7%88.html#id10) : 벡터 scaling 척도, 정방행렬 A는 det(𝐴)포 표시.\n",
        "$\n",
        "\\begin{align}\n",
        "  det(𝐴)=∑_{𝑖=1}^𝑁[(−1)^{𝑖+𝑗0}𝑀_{𝑖,𝑗0}]𝑎_{𝑖,𝑗0}\n",
        "\\end{align}\n",
        "$\n",
        "- det(𝐴)=0이면 역수가 존재하지 않으므로 역행렬은 행렬식이 0이 아닌 경우에만 존재"
      ],
      "metadata": {
        "id": "k9I-984FPixS"
      }
    },
    {
      "cell_type": "code",
      "source": [
        "# Error - x는 정방행렬 아님\n",
        "# np.linalg.det(x)"
      ],
      "metadata": {
        "id": "9_sfQmy8RAym"
      },
      "execution_count": null,
      "outputs": []
    },
    {
      "cell_type": "code",
      "source": [
        "matrix_det_2 = np.array([[2,3], [1,6]])\n",
        "np.linalg.det(matrix_det_2)"
      ],
      "metadata": {
        "colab": {
          "base_uri": "https://localhost:8080/"
        },
        "id": "PSWkhxzPTl4k",
        "outputId": "9f1cc3af-3313-4830-a82d-c90f9e251357"
      },
      "execution_count": null,
      "outputs": [
        {
          "output_type": "execute_result",
          "data": {
            "text/plain": [
              "9.000000000000002"
            ]
          },
          "metadata": {},
          "execution_count": 17
        }
      ]
    },
    {
      "cell_type": "code",
      "source": [
        "matrix_det = (np.arange(9)+1).reshape(3,3)\n",
        "matrix_det, matrix_det.T"
      ],
      "metadata": {
        "colab": {
          "base_uri": "https://localhost:8080/"
        },
        "id": "ln7aznGYOZOs",
        "outputId": "4c6a06a8-1238-4c66-e7f4-7b967dd4f8ae"
      },
      "execution_count": null,
      "outputs": [
        {
          "output_type": "execute_result",
          "data": {
            "text/plain": [
              "(array([[1, 2, 3],\n",
              "        [4, 5, 6],\n",
              "        [7, 8, 9]]), array([[1, 4, 7],\n",
              "        [2, 5, 8],\n",
              "        [3, 6, 9]]))"
            ]
          },
          "metadata": {},
          "execution_count": 14
        }
      ]
    },
    {
      "cell_type": "code",
      "source": [
        "np.linalg.det(matrix_det.T)\n",
        "# det값이 0이면 full rank가 아님, \n",
        "# 즉, 선형변환 과정에서 차원 손실이 일어남을 알 수 있음. \n",
        "# column(열)들간에 선형 종속관계가 존재."
      ],
      "metadata": {
        "colab": {
          "base_uri": "https://localhost:8080/"
        },
        "id": "pT3YczqFRU7w",
        "outputId": "095a7601-7d0f-4be0-a78d-dbec7abc0982"
      },
      "execution_count": null,
      "outputs": [
        {
          "output_type": "execute_result",
          "data": {
            "text/plain": [
              "0.0"
            ]
          },
          "metadata": {},
          "execution_count": 16
        }
      ]
    },
    {
      "cell_type": "code",
      "source": [
        ""
      ],
      "metadata": {
        "id": "iB6IGmS8R0A_"
      },
      "execution_count": null,
      "outputs": []
    }
  ]
}