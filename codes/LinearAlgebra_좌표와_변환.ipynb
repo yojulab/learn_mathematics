{
  "nbformat": 4,
  "nbformat_minor": 0,
  "metadata": {
    "colab": {
      "name": "LinearAlgebra_좌표와 변환.ipynb",
      "provenance": [],
      "authorship_tag": "ABX9TyMqdpWuxHbbV8E8JK8yRJ+E",
      "include_colab_link": true
    },
    "kernelspec": {
      "name": "python3",
      "display_name": "Python 3"
    },
    "language_info": {
      "name": "python"
    }
  },
  "cells": [
    {
      "cell_type": "markdown",
      "metadata": {
        "id": "view-in-github",
        "colab_type": "text"
      },
      "source": [
        "<a href=\"https://colab.research.google.com/github/SanghunOh/with_mathematics/blob/main/codes/LinearAlgebra_%EC%A2%8C%ED%91%9C%EC%99%80_%EB%B3%80%ED%99%98.ipynb\" target=\"_parent\"><img src=\"https://colab.research.google.com/assets/colab-badge.svg\" alt=\"Open In Colab\"/></a>"
      ]
    },
    {
      "cell_type": "markdown",
      "source": [
        "##선형종속(linearly dependent) : 벡터 선형조합이 영벡터가 되도록 하는 스칼라 계수 𝑐1,𝑐2,…,𝑐𝑁이 존재(계수가 모두 0은 제외)하면 이 벡터들을 말함.\n",
        "$ 𝑐_1𝑥_1+𝑐_2𝑥_2+⋯+𝑐_𝑁𝑥_𝑁=0 $"
      ],
      "metadata": {
        "id": "eybWGUYdspt-"
      }
    },
    {
      "cell_type": "code",
      "source": [
        "import numpy as np\n",
        "\n",
        "x1 = np.array([1, 2])\n",
        "x2 = np.array([3, 3])\n",
        "x3 = np.array([10, 14])\n",
        "(2 * x1) + (1 * x2) - (0.5 * x3)"
      ],
      "metadata": {
        "colab": {
          "base_uri": "https://localhost:8080/"
        },
        "id": "9hWXDw2MxrIw",
        "outputId": "0ea66fd7-1f39-4e2a-a6f5-eb3dbfc3a535"
      },
      "execution_count": null,
      "outputs": [
        {
          "output_type": "execute_result",
          "data": {
            "text/plain": [
              "array([0., 0.])"
            ]
          },
          "metadata": {},
          "execution_count": 2
        }
      ]
    },
    {
      "cell_type": "markdown",
      "source": [
        ""
      ],
      "metadata": {
        "id": "xt-wlijR0zF2"
      }
    },
    {
      "cell_type": "markdown",
      "source": [
        "##선형독립(linearly independent) : 벡터들 선형조합이 0이 되기 위해 계수가 모두 0인 것만 존재.\n",
        "$ 𝑐_1𝑥_1+𝑐_2𝑥_2+⋯+𝑐_𝑁𝑥_𝑁=0→𝑐_1=⋯=𝑐_𝑁=0 $"
      ],
      "metadata": {
        "id": "eMLB3RYfwXot"
      }
    },
    {
      "cell_type": "markdown",
      "source": [
        "##선형독립과 선형 연립방정식 : 선형독립 관계를 행렬과 벡터의 곱으로 나타냠\n",
        "$\n",
        "𝑐_1𝑥_1+⋯+𝑐_𝑁𝑥_𝑁=\n",
        "\\begin{pmatrix}\n",
        "𝑥_1 & 𝑥_2& ⋯ & 𝑥_𝑁\n",
        "\\end{pmatrix}\n",
        "\\begin{pmatrix}\n",
        "𝑐_1 \\\\ 𝑐_2 \\\\ ⋮ \\\\ 𝑐_𝑁\n",
        "\\end{pmatrix}\n",
        "=𝑋_𝑐\n",
        "$\n"
      ],
      "metadata": {
        "id": "nuv-qWjQ2jfx"
      }
    },
    {
      "cell_type": "markdown",
      "source": [
        "###[선형종속인 경우](https://datascienceschool.net/02%20mathematics/03.02%20%EC%A2%8C%ED%91%9C%EC%99%80%20%EB%B3%80%ED%99%98.html#id9) : 특징행렬 𝑋의 열벡터들이 선형종속이거나 선형종속에 가까운 현상을 **다중공선성(multicollinearity)** 함. \n",
        "\n",
        "경우 1: 벡터의 개수가 벡터의 차원보다 크면 선형종속이다.\n",
        "경우 2: 값이 같은 벡터가 있으면 반드시 선형종속이다.\n",
        "\n",
        "$\n",
        "\\begin{pmatrix}\n",
        "1 & 5 & 1 \\\\\n",
        "3 & 6 & 3 \\\\\n",
        "4 & 6 & 4 \\\\\n",
        "\\end{pmatrix}\n",
        "$\n",
        "\n",
        "경우 3: 어떤 벡터가 다른 벡터의 선형조합이면 반드시 선형종속이다.\n",
        "\n",
        "$ \n",
        "𝑥_1=2𝑥_2−3𝑥_3 \\\\\n",
        "𝑐_1=−1,𝑐_2=2,𝑐_3=−3 일 때 \\\\\n",
        "−1⋅𝑥_1+2𝑥_2−3𝑥_3=0 → 선형종속\n",
        "$\n",
        "\n",
        "ex) 국어, 영어, 수학 점수를 각각 별도의 데이터로 포함하면서 세 점수에 의존하는 총점수나 평균을 다시 데이터로 포함."
      ],
      "metadata": {
        "id": "r2lFU5EJ0wVk"
      }
    },
    {
      "cell_type": "markdown",
      "source": [
        "##랭크(rank) : 열벡터/행벡터 중 서로 독립인 열/행벡터의 최대 개수를 각각 열/행 랭크라 함.\n",
        "$ \n",
        "rank𝐴≤min(𝑀,𝑁) \\\\\n",
        "𝐴∈𝐑^{𝑁×𝑀}\n",
        "$"
      ],
      "metadata": {
        "id": "96xrlF0C5-Ov"
      }
    },
    {
      "cell_type": "code",
      "source": [
        "rank_X1 = np.array([[1, 3], [2, 4]])\n",
        "rank_X1, np.linalg.matrix_rank(rank_X1)"
      ],
      "metadata": {
        "colab": {
          "base_uri": "https://localhost:8080/"
        },
        "id": "NC3C4jbD6rOj",
        "outputId": "6a954e4e-bd89-4907-f2a9-dba2121b90be"
      },
      "execution_count": null,
      "outputs": [
        {
          "output_type": "execute_result",
          "data": {
            "text/plain": [
              "(array([[1, 3],\n",
              "        [2, 4]]), 2)"
            ]
          },
          "metadata": {},
          "execution_count": 4
        }
      ]
    },
    {
      "cell_type": "code",
      "execution_count": null,
      "metadata": {
        "colab": {
          "base_uri": "https://localhost:8080/"
        },
        "id": "A4E2PQ6ssSyB",
        "outputId": "c14d1f59-ab58-4277-e394-b37307caaa53"
      },
      "outputs": [
        {
          "output_type": "execute_result",
          "data": {
            "text/plain": [
              "(array([[1, 3, 5],\n",
              "        [2, 3, 7]]), 2)"
            ]
          },
          "metadata": {},
          "execution_count": 5
        }
      ],
      "source": [
        "rank_X2 = np.array([[1, 3, 5], [2, 3, 7]])\n",
        "rank_X2, np.linalg.matrix_rank(rank_X2)"
      ]
    },
    {
      "cell_type": "markdown",
      "source": [
        "###풀랭크(full rank) : 랭크가 행의 개수와 열의 개수 중 작은 값과 같은 경우\n",
        "rank𝐴=min(𝑀,𝑁)"
      ],
      "metadata": {
        "id": "xnufNA0d7Af2"
      }
    },
    {
      "cell_type": "markdown",
      "source": [
        "###로우-랭크 행렬(low-rank matrix) : 𝑀 개의 𝑁차원 벡터 𝑥1,𝑥2,⋯,𝑥𝑀을 이용하면 랭크-M 행렬(rank-M matrix)\n",
        "\n",
        "$\n",
        "\\begin{align}\n",
        "\\begin{pmatrix}\n",
        "𝑥_1 & 𝑥_2 & ⋯ & 𝑥_𝑀\n",
        "\\end{pmatrix}\n",
        "\\begin{pmatrix}\n",
        "𝑥^𝑇_1 \\\\ 𝑥^𝑇_2 \\\\ ⋮ \\\\ 𝑥^𝑇_𝑀\n",
        "\\end{pmatrix}\n",
        "=𝑥_1𝑥^𝑇_1+𝑥_2𝑥^𝑇_2+⋯+𝑥_𝑀𝑥^𝑇_𝑀=\n",
        "\\sum_{𝑖=1}^𝑀 𝑥_𝑖 𝑥_𝑖^T\n",
        "\\end{align}\n",
        "$\n",
        "- 특이분해(singular value decomposition)와 PCA(principal component analysis)에 사용"
      ],
      "metadata": {
        "id": "b7Se6Vhk7_9I"
      }
    },
    {
      "cell_type": "markdown",
      "source": [
        "##[벡터공간과 기저벡터](https://datascienceschool.net/02%20mathematics/03.02%20%EC%A2%8C%ED%91%9C%EC%99%80%20%EB%B3%80%ED%99%98.html#id20)"
      ],
      "metadata": {
        "id": "UjirJ0zb9ily"
      }
    },
    {
      "cell_type": "code",
      "source": [
        ""
      ],
      "metadata": {
        "id": "EcFLBufP63_n"
      },
      "execution_count": null,
      "outputs": []
    }
  ]
}