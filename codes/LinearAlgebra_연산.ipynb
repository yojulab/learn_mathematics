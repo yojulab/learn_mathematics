{
  "nbformat": 4,
  "nbformat_minor": 0,
  "metadata": {
    "colab": {
      "name": "LinearAlgebra_연산.ipynb",
      "provenance": [],
      "collapsed_sections": [
        "kVUUfa4M67uY"
      ],
      "authorship_tag": "ABX9TyPQjkXI9rV13vQivsdVeeuA",
      "include_colab_link": true
    },
    "kernelspec": {
      "name": "python3",
      "display_name": "Python 3"
    },
    "language_info": {
      "name": "python"
    }
  },
  "cells": [
    {
      "cell_type": "markdown",
      "metadata": {
        "id": "view-in-github",
        "colab_type": "text"
      },
      "source": [
        "<a href=\"https://colab.research.google.com/github/SanghunOh/with_mathematics/blob/main/codes/LinearAlgebra_%EC%97%B0%EC%82%B0.ipynb\" target=\"_parent\"><img src=\"https://colab.research.google.com/assets/colab-badge.svg\" alt=\"Open In Colab\"/></a>"
      ]
    },
    {
      "cell_type": "markdown",
      "source": [
        "##연산(Operation) : 스칼라, 벡터, 행렬 데이터를 변형시키는 방법"
      ],
      "metadata": {
        "id": "FmqSFjF3ozGe"
      }
    },
    {
      "cell_type": "markdown",
      "source": [
        "##전치(transpose) : 행과 열을 바꾸는 연산, 𝑇(or (prime)기호 ′)라는 위첨자(superscript) 사용\n",
        "$\n",
        "𝑥→𝑥^T\n",
        "$\n",
        "or \n",
        "$\n",
        "𝑥→𝑥^{'} \n",
        "$\n",
        "- Vector \\\\\n",
        "$\n",
        "\\begin{align}\n",
        "  x = \\begin{pmatrix}\n",
        "  x_1 \\\\ x_2 \\\\ x_3 \\\\ ... \\\\ x_n\n",
        "  \\end{pmatrix}\n",
        "\\end{align} \n",
        "$ \n",
        "→\n",
        "$ \n",
        "\\begin{align}\n",
        "  x^T = \\begin{pmatrix}\n",
        "  x_1 & x_2 & x_3 & ... & x_n\n",
        "  \\end{pmatrix}\n",
        "\\end{align} \n",
        "$\n",
        "- Matrix \\\\\n",
        "$\n",
        "\\begin{align}\n",
        "       x_{4\\times3} = \\begin{pmatrix}\n",
        "        x_{1,1} & x_{1,2} & x_{1,3} \\\\\n",
        "        x_{2,1} & x_{2,2} & x_{2,3} \\\\\n",
        "        x_{3,1} & x_{3,2} & x_{3,3}  \\\\\n",
        "        x_{4,1} & x_{4,2} & x_{4,3} \n",
        "        \\end{pmatrix}\n",
        "    \\end{align} \n",
        "$ \n",
        "→\n",
        "$\n",
        "\\begin{align}\n",
        "       x_{4\\times3}^T = \\begin{pmatrix}\n",
        "        x_{1,1} & x_{1,2} & x_{1,3} \\\\\n",
        "        x_{2,1} & x_{2,2} & x_{2,3} \\\\\n",
        "        x_{3,1} & x_{3,2} & x_{3,3}  \\\\\n",
        "        x_{4,1} & x_{4,2} & x_{4,3} \n",
        "        \\end{pmatrix}\n",
        "    \\end{align} \n",
        "$ \n",
        "\n"
      ],
      "metadata": {
        "id": "KilJ7VAwSxsL"
      }
    },
    {
      "cell_type": "code",
      "source": [
        "import numpy as np"
      ],
      "metadata": {
        "id": "TfoMepwyQRD8"
      },
      "execution_count": 1,
      "outputs": []
    },
    {
      "cell_type": "code",
      "source": [
        "matrix_1 = np.array([[11, 21],\n",
        "       [12, 22],\n",
        "       [13, 23]])\n",
        "matrix_1, matrix_1.T, matrix_1.transpose()"
      ],
      "metadata": {
        "colab": {
          "base_uri": "https://localhost:8080/"
        },
        "id": "SVTi7TAksrIh",
        "outputId": "83163091-b141-4d78-e66c-3b13016f6ca8"
      },
      "execution_count": 3,
      "outputs": [
        {
          "output_type": "execute_result",
          "data": {
            "text/plain": [
              "(array([[11, 21],\n",
              "        [12, 22],\n",
              "        [13, 23]]), array([[11, 12, 13],\n",
              "        [21, 22, 23]]), array([[11, 12, 13],\n",
              "        [21, 22, 23]]))"
            ]
          },
          "metadata": {},
          "execution_count": 3
        }
      ]
    },
    {
      "cell_type": "code",
      "source": [
        "# 1차원 ndarray는 전치 연산이 정의되지 않음\n",
        "vector_1 = np.array([5.1, 3.5, 1.4, 0.2])\n",
        "vector_1, vector_1.T"
      ],
      "metadata": {
        "colab": {
          "base_uri": "https://localhost:8080/"
        },
        "id": "oGMPiFwxsxdX",
        "outputId": "2fc31933-9d59-49a2-cfc5-6f7beb18cfb6"
      },
      "execution_count": 4,
      "outputs": [
        {
          "output_type": "execute_result",
          "data": {
            "text/plain": [
              "(array([5.1, 3.5, 1.4, 0.2]), array([5.1, 3.5, 1.4, 0.2]))"
            ]
          },
          "metadata": {},
          "execution_count": 4
        }
      ]
    },
    {
      "cell_type": "markdown",
      "source": [
        "###해보기 \n",
        "1. $(matirix^T)^T$를 해 보세요\n",
        "2. 붓꽃 예제 일부를 transpose 해 보세요."
      ],
      "metadata": {
        "id": "eDjjpT1BtOac"
      }
    },
    {
      "cell_type": "code",
      "source": [
        "from sklearn.datasets import load_iris  # 사이킷런 패키지\n",
        "\n",
        "iris = load_iris()  # 데이터 로드\n",
        "iris.data[0:3, :].T  # 첫 번째 꽃의 데이터"
      ],
      "metadata": {
        "colab": {
          "base_uri": "https://localhost:8080/"
        },
        "id": "L5e2vpSttHuz",
        "outputId": "ab0c9a93-722a-4d74-dea8-992da2202622"
      },
      "execution_count": 5,
      "outputs": [
        {
          "output_type": "execute_result",
          "data": {
            "text/plain": [
              "array([[5.1, 4.9, 4.7],\n",
              "       [3.5, 3. , 3.2],\n",
              "       [1.4, 1.4, 1.3],\n",
              "       [0.2, 0.2, 0.2]])"
            ]
          },
          "metadata": {},
          "execution_count": 5
        }
      ]
    },
    {
      "cell_type": "markdown",
      "source": [
        "##행렬의 다른 형태 표기 및 작성법(concatenated)\n",
        "$\n",
        "\\begin{align}\n",
        "  X = \\begin{pmatrix}\n",
        "    col_1 \\\\ col_2 \\\\ col_3 \\\\ ... \\\\ col_M\n",
        "  \\end{pmatrix}\n",
        "\\end{align} \n",
        "$ \n",
        "=\n",
        "$ \n",
        "\\begin{align}\n",
        "  \\begin{pmatrix}\n",
        "  row_1^T & row_2 & row_3^T & ... & row_N^T\n",
        "  \\end{pmatrix}\n",
        "\\end{align} \n",
        "$\n",
        "\n",
        "$\n",
        "X ∈ R^{N×M} \\\\\n",
        "c_i ∈ R^{N×1} (i = 1, ..., M) \\\\\n",
        "r_j^T \\in R^{1×M} (j = 1, ..., N) \n",
        "$"
      ],
      "metadata": {
        "id": "7I5p0Q3OuXKS"
      }
    },
    {
      "cell_type": "code",
      "source": [
        "# concatenate 하면 아래 예는 모두 같음\n",
        "matrix_2 = np.array([[1,2,3],\n",
        "                     [4,5,6]])\n",
        "matrix_2"
      ],
      "metadata": {
        "colab": {
          "base_uri": "https://localhost:8080/"
        },
        "id": "LzymCMbduTPO",
        "outputId": "9a3ed6a7-3aa3-43be-ce12-a173c20501a7"
      },
      "execution_count": 8,
      "outputs": [
        {
          "output_type": "execute_result",
          "data": {
            "text/plain": [
              "array([[1, 2, 3],\n",
              "       [4, 5, 6]])"
            ]
          },
          "metadata": {},
          "execution_count": 8
        }
      ]
    },
    {
      "cell_type": "code",
      "source": [
        "row_1 = np.array([[1], [4]])\n",
        "row_2 = np.array([[2], [5]])\n",
        "row_3 = np.array([[3], [6]])\n",
        "# row_1.shape, row_2.shape, row_3.shape\n",
        "concatenated_rows = np.concatenate([row_1, row_2, row_3], axis=1)\n",
        "concatenated_rows"
      ],
      "metadata": {
        "colab": {
          "base_uri": "https://localhost:8080/"
        },
        "id": "j14TGOjNxQwb",
        "outputId": "f195eb37-3f7f-4479-d160-69b84ca5ea68"
      },
      "execution_count": 14,
      "outputs": [
        {
          "output_type": "execute_result",
          "data": {
            "text/plain": [
              "array([[1, 2, 3],\n",
              "       [4, 5, 6]])"
            ]
          },
          "metadata": {},
          "execution_count": 14
        }
      ]
    },
    {
      "cell_type": "code",
      "source": [
        "row_1 = np.array([[1], [2], [3]])\n",
        "row_2 = np.array([[4], [5], [6]])\n",
        "concatenated_rows = np.concatenate([row_1.T, row_2.T], axis=0)\n",
        "concatenated_rows"
      ],
      "metadata": {
        "colab": {
          "base_uri": "https://localhost:8080/"
        },
        "id": "7fYIDfAoySU_",
        "outputId": "2e837c39-0606-4769-f56e-6bafe3aef72a"
      },
      "execution_count": 23,
      "outputs": [
        {
          "output_type": "execute_result",
          "data": {
            "text/plain": [
              "array([[1, 2, 3],\n",
              "       [4, 5, 6]])"
            ]
          },
          "metadata": {},
          "execution_count": 23
        }
      ]
    },
    {
      "cell_type": "code",
      "source": [
        "np.diag(concatenated_rows,k=1)"
      ],
      "metadata": {
        "colab": {
          "base_uri": "https://localhost:8080/"
        },
        "id": "1VvGgvaOB0sd",
        "outputId": "2c73a657-933b-4654-cbb6-5712d5e387d1"
      },
      "execution_count": 55,
      "outputs": [
        {
          "output_type": "execute_result",
          "data": {
            "text/plain": [
              "array([2, 6])"
            ]
          },
          "metadata": {},
          "execution_count": 55
        }
      ]
    },
    {
      "cell_type": "markdown",
      "source": [
        "##특수한 형태"
      ],
      "metadata": {
        "id": "Y3Owk2BL0VRS"
      }
    },
    {
      "cell_type": "markdown",
      "source": [
        "###영벡터(zeros-vector) : 모든 원소가 0인 𝑁차원 벡터\n",
        "$\n",
        "\\begin{align}\n",
        "  0_N = 0 = \\begin{pmatrix}\n",
        "  0_1 \\\\ 0_2 \\\\ 0_3 \\\\ ... \\\\ 0_n\n",
        "  \\end{pmatrix}\n",
        "\\end{align} \n",
        "$ \n",
        "\n",
        "$ 0 ∈ R^{N×1} $"
      ],
      "metadata": {
        "id": "_K9gDME30aAe"
      }
    },
    {
      "cell_type": "code",
      "source": [
        "zeros_vector = np.zeros((3, 1))\n",
        "zeros_vector, zeros_vector.shape"
      ],
      "metadata": {
        "colab": {
          "base_uri": "https://localhost:8080/"
        },
        "id": "TZPszqDXzO1J",
        "outputId": "83826f5f-bed8-4be6-b9c4-4b28af7d4970"
      },
      "execution_count": 27,
      "outputs": [
        {
          "output_type": "execute_result",
          "data": {
            "text/plain": [
              "(array([[0.],\n",
              "        [0.],\n",
              "        [0.]]), (3, 1))"
            ]
          },
          "metadata": {},
          "execution_count": 27
        }
      ]
    },
    {
      "cell_type": "code",
      "source": [
        "zeros_vector * row_1"
      ],
      "metadata": {
        "colab": {
          "base_uri": "https://localhost:8080/"
        },
        "id": "phxLEKkL19Y8",
        "outputId": "6aec7823-d230-4e73-8fda-d8801b7389a2"
      },
      "execution_count": 28,
      "outputs": [
        {
          "output_type": "execute_result",
          "data": {
            "text/plain": [
              "array([[0.],\n",
              "       [0.],\n",
              "       [0.]])"
            ]
          },
          "metadata": {},
          "execution_count": 28
        }
      ]
    },
    {
      "cell_type": "code",
      "source": [
        "zeros_vector + row_1"
      ],
      "metadata": {
        "colab": {
          "base_uri": "https://localhost:8080/"
        },
        "id": "kvEvodpH2CoY",
        "outputId": "cbdde3ce-b11a-453b-ada3-113decb9a9ea"
      },
      "execution_count": 29,
      "outputs": [
        {
          "output_type": "execute_result",
          "data": {
            "text/plain": [
              "array([[1.],\n",
              "       [2.],\n",
              "       [3.]])"
            ]
          },
          "metadata": {},
          "execution_count": 29
        }
      ]
    },
    {
      "cell_type": "markdown",
      "source": [
        "###일벡터(ones-vector) : 모든 원소가 1인 𝑁차원 벡터\n",
        "$\n",
        "\\begin{align}\n",
        "  1_N = 1 = \\begin{pmatrix}\n",
        "  1_1 \\\\ 1_2 \\\\ 1_3 \\\\ ... \\\\ 1_n\n",
        "  \\end{pmatrix}\n",
        "\\end{align} \n",
        "$ \n",
        "\n",
        "$ 1 ∈ R^{N×1} $"
      ],
      "metadata": {
        "id": "3e2S2ak-2M6R"
      }
    },
    {
      "cell_type": "code",
      "source": [
        "ones_vector = np.ones((3, 1))\n",
        "ones_vector, ones_vector.shape"
      ],
      "metadata": {
        "colab": {
          "base_uri": "https://localhost:8080/"
        },
        "outputId": "f295b502-0d83-4297-8107-6860b5b981d1",
        "id": "261OL80l2h1E"
      },
      "execution_count": 30,
      "outputs": [
        {
          "output_type": "execute_result",
          "data": {
            "text/plain": [
              "(array([[1.],\n",
              "        [1.],\n",
              "        [1.]]), (3, 1))"
            ]
          },
          "metadata": {},
          "execution_count": 30
        }
      ]
    },
    {
      "cell_type": "code",
      "source": [
        "ones_vector * row_1"
      ],
      "metadata": {
        "colab": {
          "base_uri": "https://localhost:8080/"
        },
        "outputId": "84838846-5d9f-4878-c26f-dad9a7ae7bc7",
        "id": "FJi-KsN-2h1G"
      },
      "execution_count": 31,
      "outputs": [
        {
          "output_type": "execute_result",
          "data": {
            "text/plain": [
              "array([[1.],\n",
              "       [2.],\n",
              "       [3.]])"
            ]
          },
          "metadata": {},
          "execution_count": 31
        }
      ]
    },
    {
      "cell_type": "code",
      "source": [
        "ones_vector + row_1"
      ],
      "metadata": {
        "colab": {
          "base_uri": "https://localhost:8080/"
        },
        "outputId": "8508296e-7a5f-447d-bfbc-4006a867fba0",
        "id": "Vg20VRPY2h1G"
      },
      "execution_count": 32,
      "outputs": [
        {
          "output_type": "execute_result",
          "data": {
            "text/plain": [
              "array([[2.],\n",
              "       [3.],\n",
              "       [4.]])"
            ]
          },
          "metadata": {},
          "execution_count": 32
        }
      ]
    },
    {
      "cell_type": "markdown",
      "source": [
        "###정방행렬(square matrix) : 행 개수와 열 개수가 같은 행렬, 선형 변환 등에 사용\n",
        "$\n",
        "\\begin{align}\n",
        "       x_{3\\times3} = \\begin{pmatrix}\n",
        "        x_{1,1} & x_{1,2} & x_{1,3} \\\\\n",
        "        x_{2,1} & x_{2,2} & x_{2,3} \\\\\n",
        "        x_{3,1} & x_{3,2} & x_{3,3} \n",
        "        \\end{pmatrix}\n",
        "    \\end{align} \n",
        "$ \n",
        "\n",
        "$N = M$"
      ],
      "metadata": {
        "id": "aQDhir2b27IG"
      }
    },
    {
      "cell_type": "code",
      "source": [
        "matrix_square = np.arange(9).reshape(3,3)\n",
        "matrix_square"
      ],
      "metadata": {
        "colab": {
          "base_uri": "https://localhost:8080/"
        },
        "id": "EzgnbnUu23mu",
        "outputId": "4f39b91f-a7b5-4ac5-de66-096ef2d48c27"
      },
      "execution_count": 35,
      "outputs": [
        {
          "output_type": "execute_result",
          "data": {
            "text/plain": [
              "array([[0, 1, 2],\n",
              "       [3, 4, 5],\n",
              "       [6, 7, 8]])"
            ]
          },
          "metadata": {},
          "execution_count": 35
        }
      ]
    },
    {
      "cell_type": "markdown",
      "source": [
        "###대칭행렬(symmetric matrix) : 전치행렬과 원래의 행렬이 같은 행렬, 정방행렬만 가능.\n",
        "$S^T = S$\n",
        "\n",
        "$S ∈ R^{N × N} $"
      ],
      "metadata": {
        "id": "FNkhPatnCnNa"
      }
    },
    {
      "cell_type": "code",
      "source": [
        "matrix_symmetric_1 = np.array([[0, 1, 2],\n",
        "                              [1, 4, 5],\n",
        "                              [2, 5, 8]])\n",
        "matrix_symmetric_1.shape"
      ],
      "metadata": {
        "colab": {
          "base_uri": "https://localhost:8080/"
        },
        "id": "Q-Vq-rHlFLU5",
        "outputId": "1204f0b3-901f-44f3-ec09-b28d99f372b6"
      },
      "execution_count": 66,
      "outputs": [
        {
          "output_type": "execute_result",
          "data": {
            "text/plain": [
              "(3, 3)"
            ]
          },
          "metadata": {},
          "execution_count": 66
        }
      ]
    },
    {
      "cell_type": "code",
      "source": [
        "matrix_symmetric_1 == matrix_symmetric_1.T"
      ],
      "metadata": {
        "colab": {
          "base_uri": "https://localhost:8080/"
        },
        "id": "D1ak04x1FV8O",
        "outputId": "1898055b-5d00-461c-f5b9-fa2d7d6c2015"
      },
      "execution_count": 67,
      "outputs": [
        {
          "output_type": "execute_result",
          "data": {
            "text/plain": [
              "array([[ True,  True,  True],\n",
              "       [ True,  True,  True],\n",
              "       [ True,  True,  True]])"
            ]
          },
          "metadata": {},
          "execution_count": 67
        }
      ]
    },
    {
      "cell_type": "code",
      "source": [
        "matrix_square"
      ],
      "metadata": {
        "colab": {
          "base_uri": "https://localhost:8080/"
        },
        "id": "IkPScoAYDprG",
        "outputId": "bb6d4ecb-3dec-4c85-ad22-08190784ee5d"
      },
      "execution_count": 58,
      "outputs": [
        {
          "output_type": "execute_result",
          "data": {
            "text/plain": [
              "array([[0, 1, 2],\n",
              "       [3, 4, 5],\n",
              "       [6, 7, 8]])"
            ]
          },
          "metadata": {},
          "execution_count": 58
        }
      ]
    },
    {
      "cell_type": "code",
      "source": [
        "matrix_triu = np.triu(matrix_square)\n",
        "matrix_triu, matrix_triu.T"
      ],
      "metadata": {
        "colab": {
          "base_uri": "https://localhost:8080/"
        },
        "id": "WowzueUnD3ad",
        "outputId": "14e0fc10-f647-4a05-c9a6-31b8d6cd2704"
      },
      "execution_count": 72,
      "outputs": [
        {
          "output_type": "execute_result",
          "data": {
            "text/plain": [
              "(array([[0, 1, 2],\n",
              "        [0, 4, 5],\n",
              "        [0, 0, 8]]), array([[0, 0, 0],\n",
              "        [1, 4, 0],\n",
              "        [2, 5, 8]]))"
            ]
          },
          "metadata": {},
          "execution_count": 72
        }
      ]
    },
    {
      "cell_type": "code",
      "source": [
        "matrix_triu == matrix_triu.T"
      ],
      "metadata": {
        "colab": {
          "base_uri": "https://localhost:8080/"
        },
        "id": "Mmzc7cMHFmeh",
        "outputId": "ef3e738d-d5c7-489d-960d-0c014de03620"
      },
      "execution_count": 71,
      "outputs": [
        {
          "output_type": "execute_result",
          "data": {
            "text/plain": [
              "array([[ True, False, False],\n",
              "       [False,  True, False],\n",
              "       [False, False,  True]])"
            ]
          },
          "metadata": {},
          "execution_count": 71
        }
      ]
    },
    {
      "cell_type": "code",
      "source": [
        "matrix_symmetric = matrix_triu.copy()\n",
        "matrix_symmetric += matrix_triu.T - np.diag(matrix_triu.diagonal())\n",
        "matrix_symmetric"
      ],
      "metadata": {
        "colab": {
          "base_uri": "https://localhost:8080/"
        },
        "id": "Ugesb5vmEUPw",
        "outputId": "6e5111f5-02fb-423a-a722-ca34f665abe2"
      },
      "execution_count": 68,
      "outputs": [
        {
          "output_type": "execute_result",
          "data": {
            "text/plain": [
              "array([[0, 1, 2],\n",
              "       [1, 4, 5],\n",
              "       [2, 5, 8]])"
            ]
          },
          "metadata": {},
          "execution_count": 68
        }
      ]
    },
    {
      "cell_type": "code",
      "source": [
        "matrix_symmetric == matrix_symmetric.TT"
      ],
      "metadata": {
        "id": "Q0nhQazrFbSj"
      },
      "execution_count": null,
      "outputs": []
    },
    {
      "cell_type": "markdown",
      "source": [
        "###대각행렬(diagonal matrix) : 모든 비대각 요소가 0인 행렬\n",
        "- 주 대각(main diagonal) : 행과 열이 같은 위치\n",
        "- 비대각(off-diagonal) : 대각 위치에 있지 않은 것들\n",
        "\n",
        "$\n",
        "\\begin{align}\n",
        "  D_{n, m} = \\begin{pmatrix}\n",
        "  d_{1,1} & 0_{1,2} & ... & 0_{1,n} \\\\\n",
        "  0_{2,1} & d_{2,2} & ... & 0_{2,n} \\\\\n",
        "  0_{3,1} & 0_{3,2} & ... & 0_{3,n}  \\\\\n",
        "  ... & ... & ... & ...  \\\\\n",
        "  0_{m,1} & 0_{m,2} & ... & d_{m,n} \\\\\n",
        "  0_{m+1,1} & 0_{m+1,2} & ... & 0_{m+1,n+1}  \\\\\n",
        "  \\end{pmatrix}\n",
        "\\end{align} \n",
        "$ \n",
        "\n",
        "$ 𝑥 ∈ 𝐑^{n \\times m} $ "
      ],
      "metadata": {
        "id": "IA9o1u3i7Gdy"
      }
    },
    {
      "cell_type": "code",
      "source": [
        "matrix_diagonal = np.diag([1, 2, 3])\n",
        "matrix_diagonal"
      ],
      "metadata": {
        "colab": {
          "base_uri": "https://localhost:8080/"
        },
        "id": "666kCJsm9aHD",
        "outputId": "85296219-e4a4-44df-894d-d20fd07a96d8"
      },
      "execution_count": 36,
      "outputs": [
        {
          "output_type": "execute_result",
          "data": {
            "text/plain": [
              "array([[1, 0, 0],\n",
              "       [0, 2, 0],\n",
              "       [0, 0, 3]])"
            ]
          },
          "metadata": {},
          "execution_count": 36
        }
      ]
    },
    {
      "cell_type": "code",
      "source": [
        "zero_row = np.array([0., 0., 0.])\n",
        "zero_row"
      ],
      "metadata": {
        "colab": {
          "base_uri": "https://localhost:8080/"
        },
        "id": "ee3zmgaC-Av_",
        "outputId": "1eaf8c55-55b1-492b-adf7-93c15f6e3b9e"
      },
      "execution_count": 47,
      "outputs": [
        {
          "output_type": "execute_result",
          "data": {
            "text/plain": [
              "array([0., 0., 0.])"
            ]
          },
          "metadata": {},
          "execution_count": 47
        }
      ]
    },
    {
      "cell_type": "code",
      "source": [
        "matrix_diagonal_concated = np.vstack([matrix_diagonal, zero_row])\n",
        "matrix_diagonal_concated"
      ],
      "metadata": {
        "colab": {
          "base_uri": "https://localhost:8080/"
        },
        "id": "7JZsDaSm9s9T",
        "outputId": "2b44509c-64ac-45fe-ef85-0c53100237cd"
      },
      "execution_count": 48,
      "outputs": [
        {
          "output_type": "execute_result",
          "data": {
            "text/plain": [
              "array([[1., 0., 0.],\n",
              "       [0., 2., 0.],\n",
              "       [0., 0., 3.],\n",
              "       [0., 0., 0.]])"
            ]
          },
          "metadata": {},
          "execution_count": 48
        }
      ]
    },
    {
      "cell_type": "markdown",
      "source": [
        "###항등행렬(identity matrix) : 대각행렬 중에서 모든 대각성분 값이 1인 대각행렬\n",
        "$\n",
        "\\begin{align}\n",
        "  I_{n, m} = \\begin{pmatrix}\n",
        "  1_{1,1} & 0_{1,2} & ... & 0_{1,n} \\\\\n",
        "  0_{2,1} & 1_{2,2} & ... & 0_{2,n} \\\\\n",
        "  0_{3,1} & 0_{3,2} & ... & 0_{3,n}  \\\\\n",
        "  ... & ... & ... & ...  \\\\\n",
        "  0_{m,1} & 0_{m,2} & ... & 1_{m,n} \\\\\n",
        "  0_{m+1,1} & 0_{m+1,2} & ... & 0_{m+1,n+1}  \\\\\n",
        "  \\end{pmatrix}\n",
        "\\end{align} \n",
        "$ \n",
        "\n",
        "$ I ∈ 𝐑^{n \\times m} $ "
      ],
      "metadata": {
        "id": "uuhrRdI17GT1"
      }
    },
    {
      "cell_type": "code",
      "source": [
        "matrix_identity = np.identity(3)\n",
        "matrix_identity"
      ],
      "metadata": {
        "colab": {
          "base_uri": "https://localhost:8080/"
        },
        "id": "y88bJ5z_4S7m",
        "outputId": "19f28abb-c829-4853-d293-1865db5d28e9"
      },
      "execution_count": 49,
      "outputs": [
        {
          "output_type": "execute_result",
          "data": {
            "text/plain": [
              "array([[1., 0., 0.],\n",
              "       [0., 1., 0.],\n",
              "       [0., 0., 1.]])"
            ]
          },
          "metadata": {},
          "execution_count": 49
        }
      ]
    },
    {
      "cell_type": "code",
      "source": [
        "matrix_eye = np.eye(N=3, M=5, k=-1, dtype=np.int8)\n",
        "matrix_eye"
      ],
      "metadata": {
        "colab": {
          "base_uri": "https://localhost:8080/"
        },
        "id": "kTPRu1-IAtTw",
        "outputId": "14016b8a-e6e9-4fd4-f085-32f059be382a"
      },
      "execution_count": 56,
      "outputs": [
        {
          "output_type": "execute_result",
          "data": {
            "text/plain": [
              "array([[0, 0, 0, 0, 0],\n",
              "       [1, 0, 0, 0, 0],\n",
              "       [0, 1, 0, 0, 0]], dtype=int8)"
            ]
          },
          "metadata": {},
          "execution_count": 56
        }
      ]
    },
    {
      "cell_type": "code",
      "source": [
        ""
      ],
      "metadata": {
        "id": "2J-G1AgKA5eO"
      },
      "execution_count": null,
      "outputs": []
    }
  ]
}