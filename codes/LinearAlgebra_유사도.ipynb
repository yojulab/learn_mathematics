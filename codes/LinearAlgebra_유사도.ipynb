{
  "nbformat": 4,
  "nbformat_minor": 0,
  "metadata": {
    "colab": {
      "name": "LinearAlgebra_유사도.ipynb",
      "provenance": [],
      "authorship_tag": "ABX9TyMvCmNRJ/Got86ZZeWTzR8D",
      "include_colab_link": true
    },
    "kernelspec": {
      "name": "python3",
      "display_name": "Python 3"
    },
    "language_info": {
      "name": "python"
    }
  },
  "cells": [
    {
      "cell_type": "markdown",
      "metadata": {
        "id": "view-in-github",
        "colab_type": "text"
      },
      "source": [
        "<a href=\"https://colab.research.google.com/github/SanghunOh/with_mathematics/blob/main/codes/LinearAlgebra_%EC%9C%A0%EC%82%AC%EB%8F%84.ipynb\" target=\"_parent\"><img src=\"https://colab.research.google.com/assets/colab-badge.svg\" alt=\"Open In Colab\"/></a>"
      ]
    },
    {
      "cell_type": "markdown",
      "source": [
        "##유사도(similarity) : 두 벡터가 닮은 정도를 정량적으로 나타낸 값, 벡터 곱셈(내적)은 두 벡터 간 유사도 계산에 이용"
      ],
      "metadata": {
        "id": "3OG0lI7gP-oF"
      }
    },
    {
      "cell_type": "markdown",
      "source": [
        "##코사인 유사도(cosine similarity)"
      ],
      "metadata": {
        "id": "qhnQhNL4QX1O"
      }
    },
    {
      "cell_type": "code",
      "execution_count": 1,
      "metadata": {
        "colab": {
          "base_uri": "https://localhost:8080/",
          "height": 197
        },
        "id": "gLfUokQYPxFh",
        "outputId": "7d885175-9560-4b13-d4dc-007b91cf5945"
      },
      "outputs": [
        {
          "output_type": "display_data",
          "data": {
            "text/plain": [
              "<Figure size 648x648 with 8 Axes>"
            ],
            "image/png": "[encoded data removed]"
          },
          "metadata": {}
        }
      ],
      "source": [
        "from sklearn.datasets import load_digits\n",
        "import matplotlib.gridspec as gridspec\n",
        "\n",
        "digits = load_digits()\n",
        "d1 = digits.images[0]\n",
        "d2 = digits.images[10]\n",
        "d3 = digits.images[1]\n",
        "d4 = digits.images[11]\n",
        "v1 = d1.reshape(64, 1)\n",
        "v2 = d2.reshape(64, 1)\n",
        "v3 = d3.reshape(64, 1)\n",
        "v4 = d4.reshape(64, 1)\n",
        "\n",
        "import matplotlib.pyplot as plt\n",
        "\n",
        "plt.figure(figsize=(9, 9))\n",
        "gs = gridspec.GridSpec(1, 8, height_ratios=[1],\n",
        "                       width_ratios=[9, 1, 9, 1, 9, 1, 9, 1])\n",
        "for i in range(4):\n",
        "    plt.subplot(gs[2 * i])\n",
        "    plt.imshow(eval(\"d\" + str(i + 1)), aspect=1,\n",
        "               interpolation='nearest', cmap=plt.cm.bone_r)\n",
        "    plt.grid(False)\n",
        "    plt.xticks([])\n",
        "    plt.yticks([])\n",
        "    plt.title(\"image {}\".format(i + 1))\n",
        "    plt.subplot(gs[2 * i + 1])\n",
        "    plt.imshow(eval(\"v\" + str(i + 1)), aspect=0.25,\n",
        "               interpolation='nearest', cmap=plt.cm.bone_r)\n",
        "    plt.grid(False)\n",
        "    plt.xticks([])\n",
        "    plt.yticks([])\n",
        "    plt.title(\"vector {}\".format(i + 1))\n",
        "plt.tight_layout()\n",
        "plt.show()"
      ]
    },
    {
      "cell_type": "markdown",
      "source": [
        "###내적값으로 유사도 확인"
      ],
      "metadata": {
        "id": "dP5ZhjiRQpk7"
      }
    },
    {
      "cell_type": "code",
      "source": [
        "(v1.T @ v1), (v1.T @ v2), (v1.T @ v3), (v1.T @ v4)"
      ],
      "metadata": {
        "id": "5MlZQbdAQyng",
        "outputId": "426b11ea-1018-4104-be49-57daaae5b4cf",
        "colab": {
          "base_uri": "https://localhost:8080/"
        }
      },
      "execution_count": 9,
      "outputs": [
        {
          "output_type": "execute_result",
          "data": {
            "text/plain": [
              "(array([[3070.]]), array([[3064.]]), array([[1866.]]), array([[1883.]]))"
            ]
          },
          "metadata": {},
          "execution_count": 9
        }
      ]
    },
    {
      "cell_type": "code",
      "source": [
        "(v1.T @ v2)[0][0], (v3.T @ v4)[0][0], (v1.T @ v2), (v3.T @ v4)"
      ],
      "metadata": {
        "colab": {
          "base_uri": "https://localhost:8080/"
        },
        "id": "83nzv9NeQcKn",
        "outputId": "30540ec9-cea7-4845-eaa3-831ca5f530b1"
      },
      "execution_count": 7,
      "outputs": [
        {
          "output_type": "execute_result",
          "data": {
            "text/plain": [
              "(3064.0, 3661.0, array([[3064.]]), array([[3661.]]))"
            ]
          },
          "metadata": {},
          "execution_count": 7
        }
      ]
    },
    {
      "cell_type": "code",
      "source": [
        "(v1.T @ v3)[0][0], (v1.T @ v4)[0][0], (v2.T @ v3)[0][0], (v2.T @ v4)[0][0]"
      ],
      "metadata": {
        "colab": {
          "base_uri": "https://localhost:8080/"
        },
        "id": "W0z1FaGAQt2r",
        "outputId": "9168b488-4491-4bf1-aad3-d253ba2956f2"
      },
      "execution_count": 3,
      "outputs": [
        {
          "output_type": "execute_result",
          "data": {
            "text/plain": [
              "(1866.0, 1883.0, 2421.0, 2479.0)"
            ]
          },
          "metadata": {},
          "execution_count": 3
        }
      ]
    },
    {
      "cell_type": "code",
      "source": [
        ""
      ],
      "metadata": {
        "id": "9n5SGuFyZsSo"
      },
      "execution_count": null,
      "outputs": []
    }
  ]
}