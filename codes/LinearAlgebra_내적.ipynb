{
  "nbformat": 4,
  "nbformat_minor": 0,
  "metadata": {
    "colab": {
      "name": "LinearAlgebra_내적.ipynb",
      "provenance": [],
      "authorship_tag": "ABX9TyOvK6uwbqo/IHh6wSCK7YWl",
      "include_colab_link": true
    },
    "kernelspec": {
      "name": "python3",
      "display_name": "Python 3"
    },
    "language_info": {
      "name": "python"
    }
  },
  "cells": [
    {
      "cell_type": "markdown",
      "metadata": {
        "id": "view-in-github",
        "colab_type": "text"
      },
      "source": [
        "<a href=\"https://colab.research.google.com/github/SanghunOh/with_mathematics/blob/main/codes/LinearAlgebra_%EB%82%B4%EC%A0%81.ipynb\" target=\"_parent\"><img src=\"https://colab.research.google.com/assets/colab-badge.svg\" alt=\"Open In Colab\"/></a>"
      ]
    },
    {
      "cell_type": "markdown",
      "source": [
        "##내적(inner product) : 두 벡터 곱셈이며 결과는 스칼라값, 닷 프로덕트(dot product)라고도 함.\n",
        "$ 𝑥⋅𝑦=<𝑥,𝑦>=𝑥^𝑇𝑦 $\n",
        "- 내적 조건 1 : 두 벡터의 차원(길이)이 같아햐 함.\n",
        "- 내적 조건 2 : 앞은 행 벡터이고 뒤는 열 벡터여야 함.\n",
        "\n",
        "$\n",
        "\\begin{align}\n",
        "  𝑥^𝑇𝑦 = \\begin{pmatrix}\n",
        "  1 & 2 & 3\n",
        "  \\end{pmatrix}\n",
        "  \\begin{pmatrix}\n",
        "  4 \\\\ 5 \\\\ 6\n",
        "  \\end{pmatrix}\n",
        "\\end{align} \n",
        "= 1⋅4+2⋅5+3⋅6=32\n",
        "$ \n"
      ],
      "metadata": {
        "id": "OzB1k1R1Y3l3"
      }
    },
    {
      "cell_type": "code",
      "execution_count": 1,
      "metadata": {
        "colab": {
          "base_uri": "https://localhost:8080/"
        },
        "id": "QO3Pvz0FWZzX",
        "outputId": "7d7bbd2f-5c46-48af-ba59-fa1345cb1f97"
      },
      "outputs": [
        {
          "output_type": "execute_result",
          "data": {
            "text/plain": [
              "(array([[32]]), array([[32]]))"
            ]
          },
          "metadata": {},
          "execution_count": 1
        }
      ],
      "source": [
        "import numpy as np\n",
        "\n",
        "vector_1 = np.array([[1], [2], [3]])\n",
        "vector_2 = np.array([[4], [5], [6]])\n",
        "\n",
        "vector_1.T @ vector_2, np.dot(vector_1.T, vector_2)"
      ]
    },
    {
      "cell_type": "code",
      "source": [
        "vector_1 = np.array([1, 2, 3])\n",
        "vector_2 = np.array([4, 5, 6])\n",
        "\n",
        "vector_1 @ vector_2, np.dot(vector_1, vector_2)"
      ],
      "metadata": {
        "colab": {
          "base_uri": "https://localhost:8080/"
        },
        "id": "IMRAUGyvbDtA",
        "outputId": "21f91400-5fb4-4a75-fbdc-060bd3709015"
      },
      "execution_count": 2,
      "outputs": [
        {
          "output_type": "execute_result",
          "data": {
            "text/plain": [
              "(32, 32)"
            ]
          },
          "metadata": {},
          "execution_count": 2
        }
      ]
    },
    {
      "cell_type": "code",
      "source": [
        "vector_3 = np.array([7, 8, 9])\n",
        "# error\n",
        "# vector_1 @ vector_2 @ vector_3, np.dot(vector_1, vector_2, vector_3)"
      ],
      "metadata": {
        "id": "t7HWXqyabi3a"
      },
      "execution_count": 3,
      "outputs": []
    },
    {
      "cell_type": "markdown",
      "source": [
        "###가중합(weighted sum) : 어떤 가중치 값을 곱한 후 이 곱셈 결과들을 다시 합한 것.\n",
        "$ x=(𝑥_1,⋯,𝑥_𝑁)^T, 𝑤=(𝑤_1,⋯,𝑤_𝑁)^T $이면,\n",
        "\n",
        "$ 𝑤_1𝑥_1+⋯+𝑤_𝑁𝑥_𝑁=\n",
        "\\begin{align} \\sum_{𝑖=1}^𝑁𝑤_𝑖 𝑥_𝑖 \\end{align} $이다\n",
        "\n",
        "$\n",
        "\\begin{align}\n",
        "  \\sum_{𝑖=1}^𝑁𝑤_𝑖 𝑥_𝑖 = \n",
        "    \\begin{pmatrix}\n",
        "    w_1 & w_2 & ... & w_N\n",
        "    \\end{pmatrix}\n",
        "    \\begin{pmatrix}\n",
        "    x_1 \\\\ x_2 \\\\ ... \\\\ x_N\n",
        "    \\end{pmatrix}\n",
        "\\end{align} \n",
        "= u\n",
        "$ \n"
      ],
      "metadata": {
        "id": "vEGqjwEGxFPf"
      }
    },
    {
      "cell_type": "code",
      "source": [
        "weights = np.array([0.5, 0.3, 0.1, 0.08, 0.02])\n",
        "values = np.arange(10).reshape(5, -1)\n",
        "weights.shape, values.shape"
      ],
      "metadata": {
        "colab": {
          "base_uri": "https://localhost:8080/"
        },
        "id": "cJvc3OKY5g9S",
        "outputId": "e2e18477-5858-4abb-d51b-4b2aa6f2eaa2"
      },
      "execution_count": 4,
      "outputs": [
        {
          "output_type": "execute_result",
          "data": {
            "text/plain": [
              "((5,), (5, 2))"
            ]
          },
          "metadata": {},
          "execution_count": 4
        }
      ]
    },
    {
      "cell_type": "code",
      "source": [
        "np.dot(weights, values)"
      ],
      "metadata": {
        "colab": {
          "base_uri": "https://localhost:8080/"
        },
        "id": "r28TDepP5zgt",
        "outputId": "021c4c8a-601a-4884-f0f5-c0eaa4f3c5c7"
      },
      "execution_count": 5,
      "outputs": [
        {
          "output_type": "execute_result",
          "data": {
            "text/plain": [
              "array([1.64, 2.64])"
            ]
          },
          "metadata": {},
          "execution_count": 5
        }
      ]
    },
    {
      "cell_type": "markdown",
      "source": [
        "####Ex) A, B, C 세 회사의 주식은 각각 80만원, 30만원, 40만원이다. 이 주식을 각각 3주, 4주, 5주를 매수할 때 필요한 금액을 구하기."
      ],
      "metadata": {
        "id": "paS4Jbr52Qbb"
      }
    },
    {
      "cell_type": "code",
      "source": [
        "vector_w = np.array([[80], [30], [40]])\n",
        "vector_x = np.array([[3], [4], [5]])\n",
        "vector_w.T.shape, vector_x.shape"
      ],
      "metadata": {
        "colab": {
          "base_uri": "https://localhost:8080/"
        },
        "id": "gcHmNZ2Ab7Dj",
        "outputId": "7998ffcf-8f14-40f9-ae35-b4ad11bfc2ff"
      },
      "execution_count": 6,
      "outputs": [
        {
          "output_type": "execute_result",
          "data": {
            "text/plain": [
              "((1, 3), (3, 1))"
            ]
          },
          "metadata": {},
          "execution_count": 6
        }
      ]
    },
    {
      "cell_type": "code",
      "source": [
        "vector_w.T @ vector_x"
      ],
      "metadata": {
        "colab": {
          "base_uri": "https://localhost:8080/"
        },
        "id": "aClYA7F73GMo",
        "outputId": "d77b0ded-45fb-4344-d7d8-435dcc080c77"
      },
      "execution_count": 7,
      "outputs": [
        {
          "output_type": "execute_result",
          "data": {
            "text/plain": [
              "array([[560]])"
            ]
          },
          "metadata": {},
          "execution_count": 7
        }
      ]
    },
    {
      "cell_type": "markdown",
      "source": [
        "###가중평균(weighted average) : 가중합의 가중치값을 전체 가중치값 합으로 나누는 것.\n",
        "$\n",
        "\\begin{align}\n",
        "  \\bar{x} = \\frac{1}{N} \\sum_{𝑖=1}^𝑁𝑥_𝑖 = \\frac{1}{𝑁}1^𝑇_𝑁𝑥\n",
        "\\end{align} \n",
        "$ "
      ],
      "metadata": {
        "id": "LZhhJfFi8g65"
      }
    },
    {
      "cell_type": "code",
      "source": [
        "x = np.arange(10)\n",
        "N = len(x)\n",
        "\n",
        "np.ones(N) @ x / N, x.mean()"
      ],
      "metadata": {
        "colab": {
          "base_uri": "https://localhost:8080/"
        },
        "id": "2oVOHobg6ZhN",
        "outputId": "d4a9b5d6-9503-4fea-8e94-c44ed69511b5"
      },
      "execution_count": 8,
      "outputs": [
        {
          "output_type": "execute_result",
          "data": {
            "text/plain": [
              "(4.5, 4.5)"
            ]
          },
          "metadata": {},
          "execution_count": 8
        }
      ]
    },
    {
      "cell_type": "markdown",
      "source": [
        "####Ex) 대학 평균 성적 계산 : 1학점과 3학점 과목의 점수가 A 학생이 각각 100점, 60점이면 학점\n",
        "$ \n",
        "\\begin{align}\n",
        "  \\frac{1}{1+3}×100+ \\frac{3}{1+3}×60=70 \n",
        "\\end{align}\n",
        "$"
      ],
      "metadata": {
        "id": "eNOPvq1EC668"
      }
    },
    {
      "cell_type": "code",
      "source": [
        "each_score_weighteds = np.array([[1], [3]])\n",
        "each_scores = np.array([[100], [60]])\n",
        "weighted_total = each_score_weighteds.sum()\n",
        "each_scores, each_score_weighteds, weighted_total, "
      ],
      "metadata": {
        "colab": {
          "base_uri": "https://localhost:8080/"
        },
        "id": "pA6mi-hfBfJD",
        "outputId": "6c460693-4e82-41f6-9946-5080ac1e40b7"
      },
      "execution_count": 9,
      "outputs": [
        {
          "output_type": "execute_result",
          "data": {
            "text/plain": [
              "(array([[100],\n",
              "        [ 60]]), array([[1],\n",
              "        [3]]), 4)"
            ]
          },
          "metadata": {},
          "execution_count": 9
        }
      ]
    },
    {
      "cell_type": "code",
      "source": [
        "each_score_weighteds.T @ each_scores / weighted_total, each_scores.mean()"
      ],
      "metadata": {
        "colab": {
          "base_uri": "https://localhost:8080/"
        },
        "id": "16PMm1xKEa5r",
        "outputId": "88e59f31-5040-4574-bffa-25522e0f5987"
      },
      "execution_count": 10,
      "outputs": [
        {
          "output_type": "execute_result",
          "data": {
            "text/plain": [
              "(array([[70.]]), 80.0)"
            ]
          },
          "metadata": {},
          "execution_count": 10
        }
      ]
    },
    {
      "cell_type": "markdown",
      "source": [
        "####Ex) 위 조건으로 A 학생이 100점/60점이면 학점, B학생이 95점/75점, C학생이 85점/70점인 경우 각각 학점 구하기. \n"
      ],
      "metadata": {
        "id": "Ia7_3IAkFSSF"
      }
    },
    {
      "cell_type": "code",
      "source": [
        "each_scores = np.array([[100, 60]\n",
        "                        ,[95, 75]\n",
        "                        ,[85, 70]])\n",
        "each_score_weighteds.shape, each_scores.shape"
      ],
      "metadata": {
        "colab": {
          "base_uri": "https://localhost:8080/"
        },
        "id": "zXC4ECYrEwyk",
        "outputId": "7983da38-7c57-4102-eed3-222a39375028"
      },
      "execution_count": 11,
      "outputs": [
        {
          "output_type": "execute_result",
          "data": {
            "text/plain": [
              "((2, 1), (3, 2))"
            ]
          },
          "metadata": {},
          "execution_count": 11
        }
      ]
    },
    {
      "cell_type": "code",
      "source": [
        "each_scores @ each_score_weighteds / weighted_total, each_scores.mean(axis=1)"
      ],
      "metadata": {
        "colab": {
          "base_uri": "https://localhost:8080/"
        },
        "id": "xekGjWT_GHYy",
        "outputId": "aaffb18c-ec5a-4a83-c67b-87b68a8263d8"
      },
      "execution_count": 12,
      "outputs": [
        {
          "output_type": "execute_result",
          "data": {
            "text/plain": [
              "(array([[70.  ],\n",
              "        [80.  ],\n",
              "        [73.75]]), array([80. , 85. , 77.5]))"
            ]
          },
          "metadata": {},
          "execution_count": 12
        }
      ]
    },
    {
      "cell_type": "markdown",
      "source": [
        "##제곱합(sum of squares) : 가중합 방식으로 구함. 분산(variance)이나 표준 편차(standard deviation) 등 사용.\n",
        "$\n",
        "\\begin{align}\n",
        "  x^Tx= \n",
        "    \\begin{pmatrix}\n",
        "    x_1 & x_2 & ... & x_N\n",
        "    \\end{pmatrix}\n",
        "    \\begin{pmatrix}\n",
        "    x_1 \\\\ x_2 \\\\ ... \\\\ x_N\n",
        "    \\end{pmatrix}\n",
        "    = \\sum_{𝑖=1}^𝑁𝑥_𝑖^2 \n",
        "\\end{align} \n",
        "$ \n"
      ],
      "metadata": {
        "id": "omBdseQaSX57"
      }
    },
    {
      "cell_type": "code",
      "source": [
        "# ?\n",
        "values = np.array([0,1,3,6,12,13,10,7,5,1])\n",
        "values.T @ values"
      ],
      "metadata": {
        "id": "qzuIJ9uAGIFm",
        "colab": {
          "base_uri": "https://localhost:8080/"
        },
        "outputId": "ff7c8cb4-c3d6-4422-e4c6-dc66d7fe662c"
      },
      "execution_count": 14,
      "outputs": [
        {
          "output_type": "execute_result",
          "data": {
            "text/plain": [
              "534"
            ]
          },
          "metadata": {},
          "execution_count": 14
        }
      ]
    },
    {
      "cell_type": "code",
      "source": [
        "np.var(values), np.std(values)\n"
      ],
      "metadata": {
        "colab": {
          "base_uri": "https://localhost:8080/"
        },
        "id": "y60gE1AKWE2j",
        "outputId": "b387134a-24af-4494-bd53-490e9e98f5bf"
      },
      "execution_count": 15,
      "outputs": [
        {
          "output_type": "execute_result",
          "data": {
            "text/plain": [
              "(19.759999999999998, 4.445222154178573)"
            ]
          },
          "metadata": {},
          "execution_count": 15
        }
      ]
    },
    {
      "cell_type": "code",
      "source": [
        ""
      ],
      "metadata": {
        "id": "vZnSdRsTWTR0"
      },
      "execution_count": null,
      "outputs": []
    }
  ]
}