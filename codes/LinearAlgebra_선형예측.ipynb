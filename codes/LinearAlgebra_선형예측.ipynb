{
  "nbformat": 4,
  "nbformat_minor": 0,
  "metadata": {
    "colab": {
      "name": "LinearAlgebra_선형예측.ipynb",
      "provenance": [],
      "collapsed_sections": [
        "uVwroQorV6qI"
      ],
      "authorship_tag": "ABX9TyMrJQeSDBef9yWCk8tZYLG5",
      "include_colab_link": true
    },
    "kernelspec": {
      "name": "python3",
      "display_name": "Python 3"
    },
    "language_info": {
      "name": "python"
    }
  },
  "cells": [
    {
      "cell_type": "markdown",
      "metadata": {
        "id": "view-in-github",
        "colab_type": "text"
      },
      "source": [
        "<a href=\"https://colab.research.google.com/github/SanghunOh/with_mathematics/blob/main/codes/LinearAlgebra_%EC%84%A0%ED%98%95%EC%98%88%EC%B8%A1.ipynb\" target=\"_parent\"><img src=\"https://colab.research.google.com/assets/colab-badge.svg\" alt=\"Open In Colab\"/></a>"
      ]
    },
    {
      "cell_type": "markdown",
      "source": [
        "##[역행렬(inverse matrix)](https://datascienceschool.net/02%20mathematics/02.04%20%EC%84%A0%ED%98%95%20%EC%97%B0%EB%A6%BD%EB%B0%A9%EC%A0%95%EC%8B%9D%EA%B3%BC%20%EC%97%AD%ED%96%89%EB%A0%AC.html#id3) : 행렬에서 나눗셈, 원래 정방 행렬 𝐴와 아래 관계를 만족하는 행렬.\n",
        "$ 𝐴^{−1}𝐴=𝐴𝐴^{−1}=𝐼 $"
      ],
      "metadata": {
        "id": "QHej9LsNbwKx"
      }
    },
    {
      "cell_type": "code",
      "execution_count": 14,
      "metadata": {
        "colab": {
          "base_uri": "https://localhost:8080/"
        },
        "id": "OWrkO1y9V12y",
        "outputId": "bce42ecf-84b2-4c53-e183-5f609f5f5863"
      },
      "outputs": [
        {
          "output_type": "execute_result",
          "data": {
            "text/plain": [
              "array([[1, 1, 0],\n",
              "       [0, 1, 1],\n",
              "       [1, 1, 1]])"
            ]
          },
          "metadata": {},
          "execution_count": 14
        }
      ],
      "source": [
        "import numpy as np\n",
        "\n",
        "matrix_A = np.array([[1, 1, 0], [0, 1, 1], [1, 1, 1]])\n",
        "matrix_A"
      ]
    },
    {
      "cell_type": "code",
      "source": [
        "np.linalg.inv(matrix_A)"
      ],
      "metadata": {
        "colab": {
          "base_uri": "https://localhost:8080/"
        },
        "id": "xMLW6iuFel80",
        "outputId": "689540b7-dd5a-4e18-863a-e2c62c4431a6"
      },
      "execution_count": 15,
      "outputs": [
        {
          "output_type": "execute_result",
          "data": {
            "text/plain": [
              "array([[ 0., -1.,  1.],\n",
              "       [ 1.,  1., -1.],\n",
              "       [-1.,  0.,  1.]])"
            ]
          },
          "metadata": {},
          "execution_count": 15
        }
      ]
    },
    {
      "cell_type": "markdown",
      "source": [
        "###역행렬 존재 여부 : det(𝐴)=0이면 역수이 없음. 행렬식이 0이 아닌 경우에만 존재\n",
        "$\n",
        "𝐴^{−1}=\\frac{1}{det(𝐴)}𝐶^𝑇\n",
        "$\n",
        "- 역행렬이 존재 : 가역행렬(invertible matrix), 정칙행렬(regular matrix) 또는 비특이행렬(non-singular matrix)이라 함. \n",
        "- 역행렬이 \u001d없는 행렬 : 비가역행렬(non-invertible matrix) 또는 특이행렬(singular matrix), 퇴화행렬(degenerate matrix)이라 함.\n"
      ],
      "metadata": {
        "id": "AA_SreNOg4gy"
      }
    },
    {
      "cell_type": "markdown",
      "source": [
        "### 역행렬 구하기\n",
        "$\n",
        "\\begin{align}\n",
        "  \\begin{pmatrix}\n",
        "    \\frac{1}{\\sqrt{2}} & -\\frac{1}{\\sqrt{2}} \\\\\n",
        "    \\frac{1}{\\sqrt{2}} & \\frac{1}{\\sqrt{2}} \\\\\n",
        "  \\end{pmatrix}\n",
        "\\end{align} \n",
        "$"
      ],
      "metadata": {
        "id": "TVwDEkEffCPU"
      }
    },
    {
      "cell_type": "markdown",
      "source": [
        "##[역행렬에 대한 정리](https://datascienceschool.net/02%20mathematics/02.04%20%EC%84%A0%ED%98%95%20%EC%97%B0%EB%A6%BD%EB%B0%A9%EC%A0%95%EC%8B%9D%EA%B3%BC%20%EC%97%AD%ED%96%89%EB%A0%AC.html#id10) : skip"
      ],
      "metadata": {
        "id": "k6xqGQdCh56D"
      }
    },
    {
      "cell_type": "markdown",
      "source": [
        "##선형 연립방정식(system of linear equations) 또는 연립일차방정식 : 여러 미지수를 포함하는 선형 방정식 \n",
        "$\n",
        "\\begin{align}\n",
        "  a_{11}x_1 + a_{12}x_2 + ... + a_{1M}x_M = b_1 \\\\\n",
        "  a_{21}x_1 + a_{22}x_2 + ... + a_{1M}x_M = b_2 \\\\\n",
        "   ...  \\\\\n",
        "  a_{N1}x_1 + a_{N2}x_2 + ... + a_{NM}x_M = b_N \\\\\n",
        "\\end{align} \n",
        "$\n",
        "\n",
        "위 식은 아래와 같이 각각 계수행렬(coefficient matrix), 미지수벡터(unknown vector), 상수벡터(constant vector) 표현 가능 \\\\\n",
        "\n",
        "$\n",
        "\\begin{align}\n",
        "  \\begin{pmatrix}\n",
        "    a_{11} & a_{12} & ... & a_{1M} \\\\\n",
        "    a_{21} & a_{22} & ... & a_{2M} \\\\\n",
        "    ... \\\\\n",
        "    a_{N1} & a_{N2} & ... & a_{NM} \\\\\n",
        "  \\end{pmatrix}\n",
        "  \\begin{pmatrix}\n",
        "    x_1 \\\\\n",
        "    x_2 \\\\\n",
        "    ... \\\\\n",
        "    x_M \\\\\n",
        "  \\end{pmatrix}\n",
        "  =\n",
        "  \\begin{pmatrix}\n",
        "    b_1 \\\\\n",
        "    b_2 \\\\\n",
        "    ... \\\\\n",
        "    b_M \\\\\n",
        "  \\end{pmatrix}\n",
        "\\end{align} \n",
        "$"
      ],
      "metadata": {
        "id": "uVwroQorV6qI"
      }
    },
    {
      "cell_type": "markdown",
      "source": [
        "ex) \n",
        "$\n",
        "x_1 + x_2 = 2 \\\\\n",
        "x_2 + x_3 = 2 \\\\\n",
        "x_1 + x_3 = 3 \\\\\n",
        "$\n",
        "\n",
        "$\n",
        "\\begin{align}\n",
        "  \\begin{pmatrix}\n",
        "    1 & 1 & 0 \\\\\n",
        "    0 & 1 & 1 \\\\\n",
        "    1 & 0 & 1 \\\\\n",
        "  \\end{pmatrix}\n",
        "  \\begin{pmatrix}\n",
        "    x_1 \\\\\n",
        "    x_2 \\\\\n",
        "    ... \\\\\n",
        "    x_M \\\\\n",
        "  \\end{pmatrix}\n",
        "  =\n",
        "  \\begin{pmatrix}\n",
        "    2 \\\\\n",
        "    2 \\\\\n",
        "    3 \\\\\n",
        "  \\end{pmatrix}\n",
        "\\end{align} \n",
        "$"
      ],
      "metadata": {
        "id": "IFofh2NgbIvm"
      }
    },
    {
      "cell_type": "markdown",
      "source": [
        "##역행렬과 선형 연립방정식의 해 : 미지수의 수와 방정식의 수가 같다면 계수행렬 𝐴는 정방행렬\n",
        "- 역행렬 정의로 선형 연립 방정식 해 구하는 유도 과정\n",
        "\n",
        "$\n",
        "𝐴𝑥=𝑏 \\\\\n",
        "𝐴^{−1}𝐴𝑥=𝐴^{−1}𝑏 \\\\\n",
        "𝐼𝑥=𝐴^{−1}𝑏 \\\\\n",
        "𝑥=𝐴^{−1}𝑏\n",
        "$"
      ],
      "metadata": {
        "id": "bo23E8tOilGa"
      }
    },
    {
      "cell_type": "code",
      "source": [
        "matrix_b = np.array([[2], [2], [3]])\n",
        "matrix_x = np.linalg.inv(matrix_A) @ matrix_b\n",
        "matrix_x"
      ],
      "metadata": {
        "colab": {
          "base_uri": "https://localhost:8080/"
        },
        "id": "-zSAF8TPjDrC",
        "outputId": "c278b7b1-faa7-4960-bd33-39871f276e32"
      },
      "execution_count": 16,
      "outputs": [
        {
          "output_type": "execute_result",
          "data": {
            "text/plain": [
              "array([[1.],\n",
              "       [1.],\n",
              "       [1.]])"
            ]
          },
          "metadata": {},
          "execution_count": 16
        }
      ]
    },
    {
      "cell_type": "code",
      "source": [
        "# 연립방정식에 대입하여 상수벡터 𝑏와 값이 일치하는지 확인\n",
        "matrix_A @ matrix_x - matrix_b"
      ],
      "metadata": {
        "colab": {
          "base_uri": "https://localhost:8080/"
        },
        "id": "ZXbrSnTBkqTf",
        "outputId": "d1132c89-5991-45f1-fafa-b6f5323b40cb"
      },
      "execution_count": 17,
      "outputs": [
        {
          "output_type": "execute_result",
          "data": {
            "text/plain": [
              "array([[0.],\n",
              "       [0.],\n",
              "       [0.]])"
            ]
          },
          "metadata": {},
          "execution_count": 17
        }
      ]
    },
    {
      "cell_type": "markdown",
      "source": [
        "##[선형 예측모형](https://datascienceschool.net/02%20mathematics/02.04%20%EC%84%A0%ED%98%95%20%EC%97%B0%EB%A6%BD%EB%B0%A9%EC%A0%95%EC%8B%9D%EA%B3%BC%20%EC%97%AD%ED%96%89%EB%A0%AC.html#id14) : 가중치벡터 𝑤를 찾는 것\n",
        "$ 𝑤=𝑋^{−1}𝑦 $\n",
        "- 계수행렬이 𝑋, 미지수벡터가 𝑤, 상수벡터가 𝑦"
      ],
      "metadata": {
        "id": "aEIw5gN1o_E_"
      }
    },
    {
      "cell_type": "code",
      "source": [
        "from sklearn.datasets import load_boston\n",
        "boston = load_boston()\n",
        "datas = boston.data\n",
        "targets = boston.target\n",
        "X = datas[:4, [0, 4, 5, 6]]  # 'CRIM', 'NOX', 'RM', 'AGE'\n",
        "y = targets[:4]"
      ],
      "metadata": {
        "id": "t-iGEXjFmujw"
      },
      "execution_count": null,
      "outputs": []
    },
    {
      "cell_type": "code",
      "source": [
        "X, y"
      ],
      "metadata": {
        "colab": {
          "base_uri": "https://localhost:8080/"
        },
        "id": "0CVD-gxgqPiM",
        "outputId": "7c9c7d21-704e-419b-9f47-c2924abc370b"
      },
      "execution_count": 25,
      "outputs": [
        {
          "output_type": "execute_result",
          "data": {
            "text/plain": [
              "(array([[6.320e-03, 5.380e-01, 6.575e+00, 6.520e+01],\n",
              "        [2.731e-02, 4.690e-01, 6.421e+00, 7.890e+01],\n",
              "        [2.729e-02, 4.690e-01, 7.185e+00, 6.110e+01],\n",
              "        [3.237e-02, 4.580e-01, 6.998e+00, 4.580e+01]]),\n",
              " array([24. , 21.6, 34.7, 33.4]))"
            ]
          },
          "metadata": {},
          "execution_count": 25
        }
      ]
    },
    {
      "cell_type": "code",
      "source": [
        "weights = np.linalg.inv(X) @ y\n",
        "weights"
      ],
      "metadata": {
        "colab": {
          "base_uri": "https://localhost:8080/"
        },
        "id": "yFqGpgUAqWS0",
        "outputId": "7eeb90f7-fe6f-441b-d4eb-b082e197612a"
      },
      "execution_count": 26,
      "outputs": [
        {
          "output_type": "execute_result",
          "data": {
            "text/plain": [
              "array([-3.12710043e+02, -1.15193942e+02,  1.44996465e+01, -1.13259317e-01])"
            ]
          },
          "metadata": {},
          "execution_count": 26
        }
      ]
    },
    {
      "cell_type": "code",
      "source": [
        "np.round(X @ weights - y, 1)"
      ],
      "metadata": {
        "colab": {
          "base_uri": "https://localhost:8080/"
        },
        "id": "Pi9d6tYRqq1z",
        "outputId": "d525820f-4d7a-48ef-b575-ba27da00f11a"
      },
      "execution_count": 28,
      "outputs": [
        {
          "output_type": "execute_result",
          "data": {
            "text/plain": [
              "array([0., 0., 0., 0.])"
            ]
          },
          "metadata": {},
          "execution_count": 28
        }
      ]
    },
    {
      "cell_type": "markdown",
      "source": [
        "##선형 연립방정식의 해가 존재하지 않을 때 이슈\n",
        "- 방정식의 수가 미지수의 수보다 적다. (𝑁<𝑀) → 무수히 많은 해\n",
        "- 방정식의 수가 미지수의 수보다 많다. (𝑁>𝑀) → 해가 없음\n",
        "### 해결법 : 좌변과 우변의 차이를 최소화하는 문제로 바꾸어 구함.\n",
        "$ 𝐴𝑥≈𝑏 $"
      ],
      "metadata": {
        "id": "2D0l-OCDCUBY"
      }
    },
    {
      "cell_type": "markdown",
      "source": [
        "###[최소자승문제](https://datascienceschool.net/02%20mathematics/02.04%20%EC%84%A0%ED%98%95%20%EC%97%B0%EB%A6%BD%EB%B0%A9%EC%A0%95%EC%8B%9D%EA%B3%BC%20%EC%97%AD%ED%96%89%EB%A0%AC.html#id17)\n",
        "- 예측값과 목푯값의 차이를 잔차(residual)를 최소화  \n",
        "- 잔차(e)는 벡터이므로 최소자승문제에서는 벡터 크기 중에서 벡터 놈(norm)을 최소화 구하기\n",
        "$ 𝑒^𝑇𝑒=‖𝑒‖^2=(𝐴𝑥−𝑏)^𝑇(𝐴𝑥−𝑏) → $\n",
        "$ 𝑥=argmin_𝑥 𝑒^𝑇𝑒=argmin_𝑥(𝐴𝑥−𝑏)^𝑇(𝐴𝑥−𝑏) $"
      ],
      "metadata": {
        "id": "Oa3iX4gJ-yCz"
      }
    },
    {
      "cell_type": "markdown",
      "source": [
        "####과정 : 의사역행렬(pseudo\\ inverse) - $ 𝐴^+=(𝐴^𝑇𝐴)^{−1}𝐴^𝑇 $\n",
        "$ \n",
        "𝐴𝑥≈𝑏 \\\\\n",
        "𝐴^𝑇𝐴𝑥=𝐴^𝑇𝑏 \\\\\n",
        "(𝐴^𝑇𝐴)^{−1}(𝐴^𝑇𝐴)𝑥=(𝐴^𝑇𝐴)^{−1}𝐴^𝑇𝑏 → 𝐴^𝑇𝐴 역행렬 존재 시 \\\\\n",
        "𝑥=((𝐴^𝑇𝐴)^{−1}𝐴^𝑇)𝑏 \\\\\n",
        "𝑥=𝐴^+𝑏\n",
        "$"
      ],
      "metadata": {
        "id": "wZlNjVmaDZDX"
      }
    },
    {
      "cell_type": "code",
      "source": [
        "A = np.array([[1, 1, 0], [0, 1, 1], [1, 1, 1], [1, 1, 2]])\n",
        "A"
      ],
      "metadata": {
        "colab": {
          "base_uri": "https://localhost:8080/"
        },
        "id": "WZV2qF7wEb93",
        "outputId": "8820736e-cad1-4cae-c8df-b6cd1985d1f3"
      },
      "execution_count": 29,
      "outputs": [
        {
          "output_type": "execute_result",
          "data": {
            "text/plain": [
              "array([[1, 1, 0],\n",
              "       [0, 1, 1],\n",
              "       [1, 1, 1],\n",
              "       [1, 1, 2]])"
            ]
          },
          "metadata": {},
          "execution_count": 29
        }
      ]
    },
    {
      "cell_type": "code",
      "source": [
        "b = np.array([[2], [2], [3], [4.1]])\n",
        "b"
      ],
      "metadata": {
        "colab": {
          "base_uri": "https://localhost:8080/"
        },
        "id": "nJYquYb49abS",
        "outputId": "1a67b7d7-6c62-4928-e6c0-76a9e6b75670"
      },
      "execution_count": 30,
      "outputs": [
        {
          "output_type": "execute_result",
          "data": {
            "text/plain": [
              "array([[2. ],\n",
              "       [2. ],\n",
              "       [3. ],\n",
              "       [4.1]])"
            ]
          },
          "metadata": {},
          "execution_count": 30
        }
      ]
    },
    {
      "cell_type": "code",
      "source": [
        "Apinv = np.linalg.inv(A.T @ A) @ A.T\n",
        "Apinv"
      ],
      "metadata": {
        "colab": {
          "base_uri": "https://localhost:8080/"
        },
        "id": "ZcIN4K57FjOV",
        "outputId": "58d0fa35-8dbd-47f0-e8e9-93a50469cf2a"
      },
      "execution_count": 31,
      "outputs": [
        {
          "output_type": "execute_result",
          "data": {
            "text/plain": [
              "array([[ 0.33333333, -1.        ,  0.33333333,  0.33333333],\n",
              "       [ 0.5       ,  1.        ,  0.        , -0.5       ],\n",
              "       [-0.5       ,  0.        ,  0.        ,  0.5       ]])"
            ]
          },
          "metadata": {},
          "execution_count": 31
        }
      ]
    },
    {
      "cell_type": "code",
      "source": [
        "x = Apinv @ b\n",
        "x"
      ],
      "metadata": {
        "colab": {
          "base_uri": "https://localhost:8080/"
        },
        "id": "t9aP-xlJFrJT",
        "outputId": "f2120901-6032-41e6-b022-5d2881b52693"
      },
      "execution_count": 32,
      "outputs": [
        {
          "output_type": "execute_result",
          "data": {
            "text/plain": [
              "array([[1.03333333],\n",
              "       [0.95      ],\n",
              "       [1.05      ]])"
            ]
          },
          "metadata": {},
          "execution_count": 32
        }
      ]
    },
    {
      "cell_type": "code",
      "source": [
        "A @ x"
      ],
      "metadata": {
        "colab": {
          "base_uri": "https://localhost:8080/"
        },
        "id": "6kV-QDk-FtxR",
        "outputId": "04f8088a-c4b9-4ecb-b6d1-e0287e770c8f"
      },
      "execution_count": 33,
      "outputs": [
        {
          "output_type": "execute_result",
          "data": {
            "text/plain": [
              "array([[1.98333333],\n",
              "       [2.        ],\n",
              "       [3.03333333],\n",
              "       [4.08333333]])"
            ]
          },
          "metadata": {},
          "execution_count": 33
        }
      ]
    },
    {
      "cell_type": "code",
      "source": [
        "# tip : lstsq() better then inv() \n",
        "matrix_x, residual, rank, singular_value = np.linalg.lstsq(matrix_A, matrix_b)\n",
        "matrix_x, residual, rank, singular_value"
      ],
      "metadata": {
        "colab": {
          "base_uri": "https://localhost:8080/"
        },
        "id": "XJtAqzw-l0fU",
        "outputId": "5d8f9e1e-f61b-477d-d9e3-c5bde544f5ef"
      },
      "execution_count": 18,
      "outputs": [
        {
          "output_type": "stream",
          "name": "stderr",
          "text": [
            "/usr/local/lib/python3.7/dist-packages/ipykernel_launcher.py:2: FutureWarning: `rcond` parameter will change to the default of machine precision times ``max(M, N)`` where M and N are the input matrix dimensions.\n",
            "To use the future default and silence this warning we advise to pass `rcond=None`, to keep using the old, explicitly pass `rcond=-1`.\n",
            "  \n"
          ]
        },
        {
          "output_type": "execute_result",
          "data": {
            "text/plain": [
              "(array([[1.],\n",
              "        [1.],\n",
              "        [1.]]),\n",
              " array([], dtype=float64),\n",
              " 3,\n",
              " array([2.41421356, 1.        , 0.41421356]))"
            ]
          },
          "metadata": {},
          "execution_count": 18
        }
      ]
    },
    {
      "cell_type": "code",
      "source": [
        "x, residual, rank, singular_value = np.linalg.lstsq(A, b)\n",
        "x, residual, rank, singular_value"
      ],
      "metadata": {
        "colab": {
          "base_uri": "https://localhost:8080/"
        },
        "id": "tF-tYTgSF4wy",
        "outputId": "efc882f5-a5e0-4923-c492-c8e9b4e84851"
      },
      "execution_count": 34,
      "outputs": [
        {
          "output_type": "stream",
          "name": "stderr",
          "text": [
            "/usr/local/lib/python3.7/dist-packages/ipykernel_launcher.py:1: FutureWarning: `rcond` parameter will change to the default of machine precision times ``max(M, N)`` where M and N are the input matrix dimensions.\n",
            "To use the future default and silence this warning we advise to pass `rcond=None`, to keep using the old, explicitly pass `rcond=-1`.\n",
            "  \"\"\"Entry point for launching an IPython kernel.\n"
          ]
        },
        {
          "output_type": "execute_result",
          "data": {
            "text/plain": [
              "(array([[1.03333333],\n",
              "        [0.95      ],\n",
              "        [1.05      ]]),\n",
              " array([0.00166667]),\n",
              " 3,\n",
              " array([3.35753997, 1.15123198, 0.6337115 ]))"
            ]
          },
          "metadata": {},
          "execution_count": 34
        }
      ]
    },
    {
      "cell_type": "code",
      "source": [
        "# 잔차벡터의 𝑒=𝐴𝑥−𝑏의 제곱합, 즉 놈의 제곱\n",
        "residual, np.linalg.norm(A @ x - b) ** 2"
      ],
      "metadata": {
        "colab": {
          "base_uri": "https://localhost:8080/"
        },
        "id": "XIzzkM8kF9bu",
        "outputId": "ad7247b9-e939-43de-9733-ca86085f111e"
      },
      "execution_count": 35,
      "outputs": [
        {
          "output_type": "execute_result",
          "data": {
            "text/plain": [
              "(array([0.00166667]), 0.0016666666666666624)"
            ]
          },
          "metadata": {},
          "execution_count": 35
        }
      ]
    },
    {
      "cell_type": "markdown",
      "source": [
        "##보스턴 집값 문제를 선형 예측모형 𝑋𝑤=𝑦̂ 로 풀었을 때의 가중치벡터 𝑤를 최소 자승 방법으로 구하라"
      ],
      "metadata": {
        "id": "eMv591RVGixY"
      }
    },
    {
      "cell_type": "code",
      "source": [
        ""
      ],
      "metadata": {
        "id": "ggMhUeX3GXYw"
      },
      "execution_count": null,
      "outputs": []
    }
  ]
}