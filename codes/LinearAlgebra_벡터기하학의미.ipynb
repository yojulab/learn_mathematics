{
  "nbformat": 4,
  "nbformat_minor": 0,
  "metadata": {
    "colab": {
      "name": "LinearAlgebra_벡터기하학의미.ipynb",
      "provenance": [],
      "collapsed_sections": [],
      "authorship_tag": "ABX9TyNZOnzAQj91NoPI3LMEe02v",
      "include_colab_link": true
    },
    "kernelspec": {
      "name": "python3",
      "display_name": "Python 3"
    },
    "language_info": {
      "name": "python"
    }
  },
  "cells": [
    {
      "cell_type": "markdown",
      "metadata": {
        "id": "view-in-github",
        "colab_type": "text"
      },
      "source": [
        "<a href=\"https://colab.research.google.com/github/SanghunOh/with_mathematics/blob/main/codes/LinearAlgebra_%EB%B2%A1%ED%84%B0%EA%B8%B0%ED%95%98%ED%95%99%EC%9D%98%EB%AF%B8.ipynb\" target=\"_parent\"><img src=\"https://colab.research.google.com/assets/colab-badge.svg\" alt=\"Open In Colab\"/></a>"
      ]
    },
    {
      "cell_type": "markdown",
      "source": [
        "##[벡터의 기하학적 의미](https://datascienceschool.net/02%20mathematics/03.01%20%EC%84%A0%ED%98%95%EB%8C%80%EC%88%98%EC%99%80%20%ED%95%B4%EC%84%9D%EA%B8%B0%ED%95%98%EC%9D%98%20%EA%B8%B0%EC%B4%88.html#id2) : 평행 이동이 가능"
      ],
      "metadata": {
        "id": "J57PBAvuuhOf"
      }
    },
    {
      "cell_type": "code",
      "source": [
        "import numpy as np\n",
        "import matplotlib.pylab as plt\n",
        "\n",
        "plt.rc(\"font\", size=18)  # 그림의 폰트 크기를 18로 고정\n",
        "gray = {\"facecolor\": \"gray\"}\n",
        "black = {\"facecolor\": \"black\"}\n",
        "red = {\"facecolor\": \"red\"}\n",
        "green = {\"facecolor\": \"green\"}\n",
        "blue = {\"facecolor\": \"blue\"}"
      ],
      "metadata": {
        "id": "8hR7nmBIvcm7"
      },
      "execution_count": 1,
      "outputs": []
    },
    {
      "cell_type": "code",
      "source": [
        "a = np.array([1, 2])\n",
        "plt.plot(0, 0, 'kP', ms=20)\n",
        "plt.plot(a[0], a[1], 'ro', ms=20)\n",
        "plt.annotate('', xy=[-0.6, 1.6], xytext=(0.2, 0.7), arrowprops=gray)\n",
        "plt.annotate('', xy=a, xytext=(0, 0), arrowprops=black)\n",
        "plt.annotate('', xy=a + [-1, 1], xytext=(-1, 1), arrowprops=black)\n",
        "plt.text(0.35, 1.15, \"$a$\")\n",
        "plt.text(1.15, 2.25, \"$(1,2)$\")\n",
        "plt.text(-0.7, 2.1, \"$a$\")\n",
        "# plt.text(-0.9, 0.6, \"평행이동\")\n",
        "plt.xticks(np.arange(-2, 4))\n",
        "plt.yticks(np.arange(-1, 4))\n",
        "plt.xlim(-2.4, 3.4)\n",
        "plt.ylim(-0.8, 3.4)\n",
        "plt.grid()\n",
        "plt.show()"
      ],
      "metadata": {
        "colab": {
          "base_uri": "https://localhost:8080/",
          "height": 265
        },
        "id": "L7W5EMztvfbJ",
        "outputId": "ee29f75b-2d79-45ad-d2ac-b29bf5820240"
      },
      "execution_count": 2,
      "outputs": [
        {
          "output_type": "display_data",
          "data": {
            "text/plain": [
              "<Figure size 432x288 with 1 Axes>"
            ],
            "image/png": "[encoded data removed]"
          },
          "metadata": {
            "needs_background": "light"
          }
        }
      ]
    },
    {
      "cell_type": "markdown",
      "source": [
        "##벡터의 길이 : 놈(norm) ‖𝑎‖으로 정의\n",
        "$ ‖𝑎‖= \\sqrt{𝑎^𝑇𝑎} = \\sqrt{𝑎^2_1+⋯+𝑎^2_𝑁} $"
      ],
      "metadata": {
        "id": "p2P3W85RvSYe"
      }
    },
    {
      "cell_type": "code",
      "execution_count": 3,
      "metadata": {
        "colab": {
          "base_uri": "https://localhost:8080/"
        },
        "id": "Ff3pYfH3ubtz",
        "outputId": "7c437aeb-e59e-4688-e10c-d6ec029fa324"
      },
      "outputs": [
        {
          "output_type": "execute_result",
          "data": {
            "text/plain": [
              "2.23606797749979"
            ]
          },
          "metadata": {},
          "execution_count": 3
        }
      ],
      "source": [
        "a = np.array([1, 2])\n",
        "np.linalg.norm(a)"
      ]
    },
    {
      "cell_type": "markdown",
      "source": [
        "##스칼라와 벡터의 곱 : 실수와 벡터를 곱하면 방향은 변하지 않고 실수 크기만큼 벡터의 길이가 길어짐."
      ],
      "metadata": {
        "id": "LcKORJo2wXTa"
      }
    },
    {
      "cell_type": "code",
      "source": [
        "a = np.array([1, 2])\n",
        "b = 2 * a\n",
        "c = -a\n",
        "plt.annotate('', xy=b, xytext=(0, 0), arrowprops=red)\n",
        "plt.text(0.8, 3.1, \"$2a$\")\n",
        "plt.text(2.2, 3.8, \"$(2, 4)$\")\n",
        "plt.annotate('', xy=a, xytext=(0, 0), arrowprops=gray)\n",
        "plt.text(0.1, 1.3, \"$a$\")\n",
        "plt.text(1.1, 1.4, \"$(1, 2)$\")\n",
        "plt.plot(c[0], c[1], 'ro', ms=10)\n",
        "plt.annotate('', xy=c, xytext=(0, 0), arrowprops=blue)\n",
        "plt.text(-1.3, -0.8, \"$-a$\")\n",
        "plt.text(-3, -2.5, \"$(-1, -2)$\")\n",
        "plt.plot(0, 0, 'kP', ms=20)\n",
        "plt.xticks(np.arange(-5, 6))\n",
        "plt.yticks(np.arange(-5, 6))\n",
        "plt.xlim(-4.4, 5.4)\n",
        "plt.ylim(-3.2, 5.2)\n",
        "plt.show()"
      ],
      "metadata": {
        "colab": {
          "base_uri": "https://localhost:8080/",
          "height": 265
        },
        "id": "vj00fkTzwWqA",
        "outputId": "f799918f-7d70-4e26-dbf6-871562913c43"
      },
      "execution_count": 4,
      "outputs": [
        {
          "output_type": "display_data",
          "data": {
            "text/plain": [
              "<Figure size 432x288 with 1 Axes>"
            ],
            "image/png": "[encoded data removed]"
          },
          "metadata": {
            "needs_background": "light"
          }
        }
      ]
    },
    {
      "cell_type": "markdown",
      "source": [
        "##단위벡터(unit vector) : 길이가 1인 벡터"
      ],
      "metadata": {
        "id": "jD8I7YWXwvjW"
      }
    },
    {
      "cell_type": "markdown",
      "source": [
        "###numpy로 norm 구하기\n",
        "$\n",
        "\\begin{align} \n",
        "  𝑎=\n",
        "  \\begin{pmatrix}\n",
        "  1 \\\\ 0\n",
        "  \\end{pmatrix}\n",
        "  ,𝑏=\n",
        "  \\begin{pmatrix}\n",
        "  0 \\\\ 1\n",
        "  \\end{pmatrix}\n",
        "  ,c=\n",
        "  \\begin{pmatrix}\n",
        "  \\frac{1}{\\sqrt{2}} \\\\ \\frac{1}{\\sqrt{2}}\n",
        "  \\end{pmatrix}\n",
        "\\end{align}\n",
        "$\n"
      ],
      "metadata": {
        "id": "_pdgwIr4V5sF"
      }
    },
    {
      "cell_type": "code",
      "source": [
        "a = np.array([1, 0])\n",
        "b = np.array([0, 1])\n",
        "c = np.array([1/np.sqrt(2), 1/np.sqrt(2)])\n",
        "np.linalg.norm(a), np.linalg.norm(b), np.linalg.norm(c)"
      ],
      "metadata": {
        "colab": {
          "base_uri": "https://localhost:8080/"
        },
        "id": "mwH17GhLVccX",
        "outputId": "dab8559a-b90f-4024-d6da-e2b29ddf209c"
      },
      "execution_count": 5,
      "outputs": [
        {
          "output_type": "execute_result",
          "data": {
            "text/plain": [
              "(1.0, 1.0, 0.9999999999999999)"
            ]
          },
          "metadata": {},
          "execution_count": 5
        }
      ]
    },
    {
      "cell_type": "markdown",
      "source": [
        "###임의 벡터 x는 다음과 같이 하면 같은 방향 단위벡터로 됨.\n",
        "$\n",
        "\\begin{align} \n",
        "  \\frac{x}{||x||}\n",
        "\\end{align}\n",
        "$"
      ],
      "metadata": {
        "id": "O-nTf6hVW3qw"
      }
    },
    {
      "cell_type": "code",
      "source": [
        "temp_x = np.array([2, 4])\n",
        "# temp_x = np.array([5, 5])\n",
        "temp_x / np.linalg.norm(temp_x)"
      ],
      "metadata": {
        "colab": {
          "base_uri": "https://localhost:8080/"
        },
        "id": "7SdnFF-ZVhlX",
        "outputId": "beb99731-605b-4a5f-942b-0402a8f8e030"
      },
      "execution_count": 6,
      "outputs": [
        {
          "output_type": "execute_result",
          "data": {
            "text/plain": [
              "array([0.4472136 , 0.89442719])"
            ]
          },
          "metadata": {},
          "execution_count": 6
        }
      ]
    },
    {
      "cell_type": "markdown",
      "source": [
        "##[벡터의 합](https://datascienceschool.net/02%20mathematics/03.01%20%EC%84%A0%ED%98%95%EB%8C%80%EC%88%98%EC%99%80%20%ED%95%B4%EC%84%9D%EA%B8%B0%ED%95%98%EC%9D%98%20%EA%B8%B0%EC%B4%88.html#id6) : 두 벡터를 이웃하는 변 가지는 평행사변형 대각선 벡터 됨\n",
        "$\n",
        "\\begin{align} \n",
        "  \\begin{pmatrix}\n",
        "  1 \\\\ 2\n",
        "  \\end{pmatrix}\n",
        "  +\n",
        "  \\begin{pmatrix}\n",
        "  0 \\\\ 1\n",
        "  \\end{pmatrix}\n",
        "  =\n",
        "  \\begin{pmatrix}\n",
        "  1 \\\\ 3\n",
        "  \\end{pmatrix}\n",
        "\\end{align}\n",
        "$"
      ],
      "metadata": {
        "id": "UB22gPtiX0cz"
      }
    },
    {
      "cell_type": "code",
      "source": [
        "#"
      ],
      "metadata": {
        "id": "Yvb3n5mcYqkK"
      },
      "execution_count": 7,
      "outputs": []
    },
    {
      "cell_type": "markdown",
      "source": [
        "##[벡터 선형조합(linear combination)](https://datascienceschool.net/02%20mathematics/03.01%20%EC%84%A0%ED%98%95%EB%8C%80%EC%88%98%EC%99%80%20%ED%95%B4%EC%84%9D%EA%B8%B0%ED%95%98%EC%9D%98%20%EA%B8%B0%EC%B4%88.html#id7) : 여러 개의 벡터를 스칼라곱을 한 후 더한 것\n",
        "$ 𝑐_1𝑥_1+𝑐_2𝑥_2+⋯+𝑐_𝑁𝑥_𝑁 \\ (𝑐_1,⋯,𝑐_𝑁은 스칼라)$"
      ],
      "metadata": {
        "id": "RIN9sLIgYsd9"
      }
    },
    {
      "cell_type": "markdown",
      "source": [
        "##벡터의 차 : 벡터 𝑏가 가리키는 점으로부터 벡터 𝑎가 가리키는 점을 연결하는 벡터\n",
        "$\n",
        " 𝑎−𝑏=𝑐 \\\\\n",
        " 𝑏+𝑐=𝑏+(𝑎−𝑏)=𝑎 \n",
        "$ "
      ],
      "metadata": {
        "id": "VKghKpfvZcFX"
      }
    },
    {
      "cell_type": "markdown",
      "source": [
        "###[Word2Vec](https://datascienceschool.net/02%20mathematics/03.01%20%EC%84%A0%ED%98%95%EB%8C%80%EC%88%98%EC%99%80%20%ED%95%B4%EC%84%9D%EA%B8%B0%ED%95%98%EC%9D%98%20%EA%B8%B0%EC%B4%88.html#word2vec)"
      ],
      "metadata": {
        "id": "joCiI8gMTrm0"
      }
    },
    {
      "cell_type": "code",
      "source": [
        "a = np.array([2, 2])  #서울\n",
        "b = np.array([3, 4])  #한국\n",
        "c = np.array([4, 1])  #도코\n",
        "d = a + (c - a)\n",
        "e = b + (c - a)\n",
        "d, e"
      ],
      "metadata": {
        "id": "RML0jPMvwQJS",
        "colab": {
          "base_uri": "https://localhost:8080/"
        },
        "outputId": "247df297-8198-4239-b990-e7adcb6211f1"
      },
      "execution_count": 8,
      "outputs": [
        {
          "output_type": "execute_result",
          "data": {
            "text/plain": [
              "(array([4, 1]), array([5, 3]))"
            ]
          },
          "metadata": {},
          "execution_count": 8
        }
      ]
    },
    {
      "cell_type": "code",
      "source": [
        "a + np.array([1,2])   #한국"
      ],
      "metadata": {
        "colab": {
          "base_uri": "https://localhost:8080/"
        },
        "id": "dBF5DHfWTHba",
        "outputId": "4190a467-80e1-4c5f-ea09-0dbd59bf23f9"
      },
      "execution_count": 9,
      "outputs": [
        {
          "output_type": "execute_result",
          "data": {
            "text/plain": [
              "array([3, 4])"
            ]
          },
          "metadata": {},
          "execution_count": 9
        }
      ]
    },
    {
      "cell_type": "markdown",
      "source": [
        "###유클리드 거리(Euclidean distance) : 두 벡터가 가리키는 점 사이의 거리\n",
        "$ ‖𝑎−𝑏‖^2=‖𝑎‖^2+‖𝑏‖^2−2𝑎^𝑇𝑏 $"
      ],
      "metadata": {
        "id": "yiWjTdwQJnyR"
      }
    },
    {
      "cell_type": "markdown",
      "source": [
        "##[벡터 내적](https://datascienceschool.net/02%20mathematics/03.01%20%EC%84%A0%ED%98%95%EB%8C%80%EC%88%98%EC%99%80%20%ED%95%B4%EC%84%9D%EA%B8%B0%ED%95%98%EC%9D%98%20%EA%B8%B0%EC%B4%88.html#id12)\n",
        "$ 𝑎^𝑇𝑏=‖𝑎‖‖𝑏‖cos𝜃 $"
      ],
      "metadata": {
        "id": "WgYlXv7NKbKi"
      }
    },
    {
      "cell_type": "code",
      "source": [
        "x = np.linspace(0, np.pi/2, 100)\n",
        "y1 = np.sin(x)\n",
        "y2 = np.cos(x)\n",
        "plt.plot(x, y1, 'r--', lw=3,  label=r\"$\\sin\\theta$\")\n",
        "plt.plot(x, y2, 'b-', lw=3, label=r\"$\\cos\\theta$\")\n",
        "plt.legend()\n",
        "plt.xticks([0, np.pi/4, np.pi/2], [r'$0^{\\circ}$', r'$45^{\\circ}$', r'$90^{\\circ}$'])\n",
        "plt.xlabel(r\"$\\theta$\")\n",
        "plt.title(r\"$\\sin\\theta$와 $\\cos\\theta$\")\n",
        "plt.show()"
      ],
      "metadata": {
        "colab": {
          "base_uri": "https://localhost:8080/",
          "height": 337
        },
        "id": "ocsr_R5SLQqQ",
        "outputId": "f83b8d27-1b6c-4919-db62-600ca8c843a3"
      },
      "execution_count": 10,
      "outputs": [
        {
          "output_type": "stream",
          "name": "stderr",
          "text": [
            "WARNING:matplotlib.mathtext:Font 'default' does not have a glyph for '\\uc640' [U+c640], substituting with a dummy symbol.\n",
            "WARNING:matplotlib.mathtext:Font 'default' does not have a glyph for '\\uc640' [U+c640], substituting with a dummy symbol.\n"
          ]
        },
        {
          "output_type": "display_data",
          "data": {
            "text/plain": [
              "<Figure size 432x288 with 1 Axes>"
            ],
            "image/png": "[encoded data removed]"
          },
          "metadata": {
            "needs_background": "light"
          }
        }
      ]
    },
    {
      "cell_type": "markdown",
      "source": [
        "###삼각함수"
      ],
      "metadata": {
        "id": "LT-4nPcFK4hF"
      }
    },
    {
      "cell_type": "code",
      "source": [
        "plt.plot([0, 1], [0, 2], 'k-', lw=3)\n",
        "plt.plot([0, 1], [0, 0], 'k-', lw=3)\n",
        "plt.plot([1, 1], [0, 2], 'k-', lw=3)\n",
        "plt.text(0.05, 1, \"빗변 h\")\n",
        "plt.text(0.35, -0.2, \"밑변 b\")\n",
        "plt.text(1.05, 1, \"높이 a\")\n",
        "plt.text(0.12, 0.06, r\"$\\theta$\")\n",
        "plt.xticks(np.arange(-2, 4))\n",
        "plt.yticks(np.arange(-1, 4))\n",
        "plt.xlim(-1.1, 2.1)\n",
        "plt.ylim(-0.5, 2.3)\n",
        "plt.show()"
      ],
      "metadata": {
        "id": "Gusb2-VSaYxb",
        "colab": {
          "base_uri": "https://localhost:8080/",
          "height": 622
        },
        "outputId": "ff36ea0c-b36e-4bb7-d937-b9c266ed5c96"
      },
      "execution_count": 11,
      "outputs": [
        {
          "output_type": "stream",
          "name": "stderr",
          "text": [
            "/usr/local/lib/python3.7/dist-packages/matplotlib/backends/backend_agg.py:214: RuntimeWarning: Glyph 48727 missing from current font.\n",
            "  font.set_text(s, 0.0, flags=flags)\n",
            "/usr/local/lib/python3.7/dist-packages/matplotlib/backends/backend_agg.py:214: RuntimeWarning: Glyph 48320 missing from current font.\n",
            "  font.set_text(s, 0.0, flags=flags)\n",
            "/usr/local/lib/python3.7/dist-packages/matplotlib/backends/backend_agg.py:214: RuntimeWarning: Glyph 48145 missing from current font.\n",
            "  font.set_text(s, 0.0, flags=flags)\n",
            "/usr/local/lib/python3.7/dist-packages/matplotlib/backends/backend_agg.py:214: RuntimeWarning: Glyph 45458 missing from current font.\n",
            "  font.set_text(s, 0.0, flags=flags)\n",
            "/usr/local/lib/python3.7/dist-packages/matplotlib/backends/backend_agg.py:214: RuntimeWarning: Glyph 51060 missing from current font.\n",
            "  font.set_text(s, 0.0, flags=flags)\n",
            "/usr/local/lib/python3.7/dist-packages/matplotlib/backends/backend_agg.py:183: RuntimeWarning: Glyph 48727 missing from current font.\n",
            "  font.set_text(s, 0, flags=flags)\n",
            "/usr/local/lib/python3.7/dist-packages/matplotlib/backends/backend_agg.py:183: RuntimeWarning: Glyph 48320 missing from current font.\n",
            "  font.set_text(s, 0, flags=flags)\n",
            "/usr/local/lib/python3.7/dist-packages/matplotlib/backends/backend_agg.py:183: RuntimeWarning: Glyph 48145 missing from current font.\n",
            "  font.set_text(s, 0, flags=flags)\n",
            "/usr/local/lib/python3.7/dist-packages/matplotlib/backends/backend_agg.py:183: RuntimeWarning: Glyph 45458 missing from current font.\n",
            "  font.set_text(s, 0, flags=flags)\n",
            "/usr/local/lib/python3.7/dist-packages/matplotlib/backends/backend_agg.py:183: RuntimeWarning: Glyph 51060 missing from current font.\n",
            "  font.set_text(s, 0, flags=flags)\n"
          ]
        },
        {
          "output_type": "display_data",
          "data": {
            "text/plain": [
              "<Figure size 432x288 with 1 Axes>"
            ],
            "image/png": "[encoded data removed]"
          },
          "metadata": {
            "needs_background": "light"
          }
        }
      ]
    },
    {
      "cell_type": "markdown",
      "source": [
        "##직교(orthogonal) : 두 벡터 𝑎와 𝑏가 이루는 각이 90도, 𝑎⊥𝑏로 표시\n",
        "$ 𝑎^𝑇𝑏=𝑏^𝑇𝑎=0↔𝑎⊥𝑏 $"
      ],
      "metadata": {
        "id": "_9utCFSWLfAE"
      }
    },
    {
      "cell_type": "code",
      "source": [
        "a = np.array([1, 1])\n",
        "b = np.array([-1, 1])\n",
        "a @ b"
      ],
      "metadata": {
        "colab": {
          "base_uri": "https://localhost:8080/"
        },
        "id": "tuK6lskDK_PF",
        "outputId": "054ce0aa-47a1-4ae9-b1f5-95e515c3675f"
      },
      "execution_count": 12,
      "outputs": [
        {
          "output_type": "execute_result",
          "data": {
            "text/plain": [
              "0"
            ]
          },
          "metadata": {},
          "execution_count": 12
        }
      ]
    },
    {
      "cell_type": "code",
      "source": [
        "#직교하는 단위벡터 구하기"
      ],
      "metadata": {
        "id": "1KMbnPxGL1HQ"
      },
      "execution_count": 13,
      "outputs": []
    },
    {
      "cell_type": "markdown",
      "source": [
        "##정규직교 : 𝑁개의 단위벡터 𝑣1,𝑣2,⋯,𝑣𝑁가 서로 직교하면 \n",
        "$\n",
        "‖𝑣_𝑖‖=1↔𝑣^𝑇_𝑖𝑣_𝑖=1 \\\\\n",
        "𝑣^𝑇_𝑖𝑣_𝑗=0(𝑖≠𝑗)\n",
        "$"
      ],
      "metadata": {
        "id": "46Fb4HD6NnLa"
      }
    },
    {
      "cell_type": "markdown",
      "source": [
        "##코사인 유사도 : 각도가 0일때 가장 커짐\n",
        "$\n",
        "\\begin{align} \n",
        "  cosine similarity=cos𝜃=\\frac{𝑥^𝑇𝑦}{‖𝑥‖‖𝑦‖} \n",
        "\\end{align}\n",
        "$"
      ],
      "metadata": {
        "id": "25sZAazJOZKM"
      }
    },
    {
      "cell_type": "markdown",
      "source": [
        "###코사인 거리(cosine distance) : 추천시스템에서 사용\n",
        "$\n",
        "\\begin{align} \n",
        "  cosine distance = 1-cosine similarity=1-\\frac{𝑥^𝑇𝑦}{‖𝑥‖‖𝑦‖} \n",
        "\\end{align}\n",
        "$"
      ],
      "metadata": {
        "id": "W_uCErfMO4Bs"
      }
    },
    {
      "cell_type": "markdown",
      "source": [
        ""
      ],
      "metadata": {
        "id": "j51Xp4N1Se5n"
      }
    },
    {
      "cell_type": "markdown",
      "source": [
        "###[연습문제 풀기](https://datascienceschool.net/02%20mathematics/03.01%20%EC%84%A0%ED%98%95%EB%8C%80%EC%88%98%EC%99%80%20%ED%95%B4%EC%84%9D%EA%B8%B0%ED%95%98%EC%9D%98%20%EA%B8%B0%EC%B4%88.html#id19)"
      ],
      "metadata": {
        "id": "rNI6h_fgPNBO"
      }
    },
    {
      "cell_type": "code",
      "source": [
        ""
      ],
      "metadata": {
        "id": "a4DKK3HRNdW_"
      },
      "execution_count": 13,
      "outputs": []
    },
    {
      "cell_type": "markdown",
      "source": [
        "##[벡터 분해(decomposition)와 성분(component)](https://datascienceschool.net/02%20mathematics/03.01%20%EC%84%A0%ED%98%95%EB%8C%80%EC%88%98%EC%99%80%20%ED%95%B4%EC%84%9D%EA%B8%B0%ED%95%98%EC%9D%98%20%EA%B8%B0%EC%B4%88.html#id22) : 어떤 두 벡터 𝑎, 𝑏의 합이 다른 벡터 𝑐가 될 때"
      ],
      "metadata": {
        "id": "yUfUbADNPZgb"
      }
    },
    {
      "cell_type": "markdown",
      "source": [
        "###투영성분과 직교성분 : 벡터 𝑎를 다른 벡터 𝑏에 직교하는 성분과 벡터 𝑏에 평행한 성분으로로 분해할 수 있는데, 평행한 성분을 벡터 𝑏에 대한 **투영성분(projection)**, 벡터 𝑏에 직교하는 성분을 벡터 𝑏에 대한 **직교성분(rejection)**이라고 함\n",
        "$ a^{||b||}, a^{⊥b}$"
      ],
      "metadata": {
        "id": "sP-X88dmQ0pg"
      }
    },
    {
      "cell_type": "markdown",
      "source": [
        "###투영성분 길이\n",
        "$\n",
        "\\begin{align}\n",
        "‖𝑎^{‖𝑏||}‖=‖𝑎‖cos𝜃=\\frac{‖𝑎‖‖𝑏‖cos𝜃}{‖𝑏‖}=\\frac{𝑎^𝑇𝑏}{‖𝑏‖}=\\frac{𝑏^𝑇𝑎}{‖𝑏‖}=𝑎^𝑇\\frac{𝑏}{‖𝑏‖}\n",
        "\\end{align}\n",
        "$\n",
        "\n",
        "벡터 𝑏가 이미 단위벡터이면 투영길이는 내적이다.\n",
        "\n",
        "$\n",
        "‖𝑎^{‖𝑏}‖=𝑎^𝑇𝑏\n",
        "$"
      ],
      "metadata": {
        "id": "U14HctfMRZWo"
      }
    },
    {
      "cell_type": "markdown",
      "source": [
        "###투영성분 성분 벡터는 투영성분 길이와 벡터 𝑏 방향의 단위벡터의 곱\n",
        "$\n",
        "\\begin{align}\n",
        "  𝑎^{‖𝑏}=\\frac{𝑎^𝑇𝑏}{‖𝑏‖} \\frac{𝑏}{‖𝑏‖}=\\frac{𝑎^𝑇𝑏}{‖𝑏‖^2}𝑏\n",
        "\\end{align}\n",
        "$"
      ],
      "metadata": {
        "id": "_Je2eHdpyjAG"
      }
    },
    {
      "cell_type": "markdown",
      "source": [
        "###직교성분 벡터\n",
        "$ 𝑎⊥𝑏=𝑎−𝑎^{‖𝑏} $"
      ],
      "metadata": {
        "id": "u2rdqVtGzEch"
      }
    },
    {
      "cell_type": "code",
      "source": [
        "a = np.array([1, 2])\n",
        "b = np.array([2, 0])\n",
        "unit_b = b / np.linalg.norm(b)\n",
        "a2 = (a @ b) / np.linalg.norm(b) * unit_b\n",
        "a1 = a - a2\n",
        "plt.annotate('', xy=b, xytext=(0, 0), arrowprops=green)\n",
        "plt.annotate('', xy=a2, xytext=(0, 0), arrowprops=blue)\n",
        "plt.annotate('', xy=a1, xytext=(0, 0), arrowprops=blue)\n",
        "plt.annotate('', xy=a, xytext=(0, 0), arrowprops=red)\n",
        "plt.plot(0, 0, 'kP', ms=10)\n",
        "plt.plot(a[0], a[1], 'ro', ms=10)\n",
        "plt.plot(b[0], b[1], 'ro', ms=10)\n",
        "plt.text(0.35, 1.15, \"$a$\")\n",
        "plt.text(1.55, 0.15, \"$b$\")\n",
        "plt.text(-0.5, 1.05, \"$a^{\\perp b}$\")\n",
        "plt.text(0.50, 0.15, \"$a^{\\Vert b}$\")\n",
        "plt.xticks(np.arange(-10, 10))\n",
        "plt.yticks(np.arange(-10, 10))\n",
        "plt.xlim(-1.2, 4.1)\n",
        "plt.ylim(-0.5, 3.2)\n",
        "plt.grid()\n",
        "plt.show()"
      ],
      "metadata": {
        "colab": {
          "base_uri": "https://localhost:8080/",
          "height": 265
        },
        "id": "X8Ai_kvVw3lO",
        "outputId": "a1dc1a49-1bf5-416b-c2e7-0431c462d94b"
      },
      "execution_count": 17,
      "outputs": [
        {
          "output_type": "display_data",
          "data": {
            "text/plain": [
              "<Figure size 432x288 with 1 Axes>"
            ],
            "image/png": "[encoded data removed]"
          },
          "metadata": {
            "needs_background": "light"
          }
        }
      ]
    },
    {
      "cell_type": "code",
      "source": [
        "v = np.array([2, 1]) * -np.sqrt(5)\n",
        "v"
      ],
      "metadata": {
        "colab": {
          "base_uri": "https://localhost:8080/"
        },
        "id": "SF_FZXWYzUEw",
        "outputId": "01158884-54e6-4efc-bf59-1ed723c62d48"
      },
      "execution_count": 20,
      "outputs": [
        {
          "output_type": "execute_result",
          "data": {
            "text/plain": [
              "array([-4.47213595, -2.23606798])"
            ]
          },
          "metadata": {},
          "execution_count": 20
        }
      ]
    },
    {
      "cell_type": "markdown",
      "source": [
        "##[직선의 방정식](https://datascienceschool.net/02%20mathematics/03.01%20%EC%84%A0%ED%98%95%EB%8C%80%EC%88%98%EC%99%80%20%ED%95%B4%EC%84%9D%EA%B8%B0%ED%95%98%EC%9D%98%20%EA%B8%B0%EC%B4%88.html#id25)"
      ],
      "metadata": {
        "id": "1yu_NDsm30l2"
      }
    },
    {
      "cell_type": "markdown",
      "source": [
        "##[직선과 점의 거리](https://datascienceschool.net/02%20mathematics/03.01%20%EC%84%A0%ED%98%95%EB%8C%80%EC%88%98%EC%99%80%20%ED%95%B4%EC%84%9D%EA%B8%B0%ED%95%98%EC%9D%98%20%EA%B8%B0%EC%B4%88.html#id27)"
      ],
      "metadata": {
        "id": "2RKAVbWN4Six"
      }
    },
    {
      "cell_type": "code",
      "source": [
        ""
      ],
      "metadata": {
        "id": "06WXOZWf0fXX"
      },
      "execution_count": null,
      "outputs": []
    }
  ]
}