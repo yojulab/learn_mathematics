{
  "nbformat": 4,
  "nbformat_minor": 0,
  "metadata": {
    "colab": {
      "name": "LinearAlgebra_선형회귀모델.ipynb",
      "provenance": [],
      "authorship_tag": "ABX9TyPx2IKrE38tjsBF0aHP/cRa",
      "include_colab_link": true
    },
    "kernelspec": {
      "name": "python3",
      "display_name": "Python 3"
    },
    "language_info": {
      "name": "python"
    }
  },
  "cells": [
    {
      "cell_type": "markdown",
      "metadata": {
        "id": "view-in-github",
        "colab_type": "text"
      },
      "source": [
        "<a href=\"https://colab.research.google.com/github/SanghunOh/with_mathematics/blob/main/codes/LinearAlgebra_%EC%84%A0%ED%98%95%ED%9A%8C%EA%B7%80%EB%AA%A8%EB%8D%B8.ipynb\" target=\"_parent\"><img src=\"https://colab.research.google.com/assets/colab-badge.svg\" alt=\"Open In Colab\"/></a>"
      ]
    },
    {
      "cell_type": "markdown",
      "source": [
        "##선형회귀 모형(linear regression model) : 독립변수 𝑥에서 종속변수 𝑦를 예측하는 방법 중 하나.\n",
        "$ \\hat{y}=𝑤_1𝑥_1+⋯+𝑤_𝑁𝑥_𝑁 = w^Tx$"
      ],
      "metadata": {
        "id": "trYHzawJb0nv"
      }
    },
    {
      "cell_type": "markdown",
      "source": [
        "### ex) 아파트 값 예측.\n",
        "- 면적이 1𝑚2 \u001f당 가격은 500만원 증가.\n",
        "- 층수가 1층 \u001d당 가격은 200만원 증가.\n",
        "- 한강 보이는 곳은 1,000만원 프리미엄.\n",
        "\n",
        "$\n",
        "\\begin{align}\n",
        "  𝑦̂ =500𝑥_1+200𝑥_2+1000𝑥_3 = \n",
        "  \\begin{pmatrix}\n",
        "  500 & 200 & 1000\n",
        "  \\end{pmatrix}\n",
        "  \\begin{pmatrix}\n",
        "  x_{1,1} \\\\ x_{1,2} \\\\ x_{1,3}\n",
        "  \\end{pmatrix}\n",
        "  = w^Tx\n",
        "\\end{align} \n",
        "$ "
      ],
      "metadata": {
        "id": "94I3v97aeGNp"
      }
    },
    {
      "cell_type": "markdown",
      "source": [
        "###단점 : 비선형적인 현실 세계의 데이터를 잘 예측하지 못함. \n",
        "ex) 아파트 값 예측과 같이 각 항목 따라 단순 비례하지 않음"
      ],
      "metadata": {
        "id": "vzGCcU51M4Yi"
      }
    },
    {
      "cell_type": "markdown",
      "source": [
        "##선형조합(linear combination) : 벡터/행렬에 스칼라값을 곱한 후 더하거나 뺀 것, 선형조합해도 크기는 변하지 않음.\n",
        "$ 𝑐_1𝑥_1+𝑐_2𝑥_2+𝑐_3𝑥_3+⋯+𝑐_𝐿𝑥_𝐿=𝑥 $\n",
        "\n",
        "$ 𝑐_1𝐴_1+𝑐_2𝐴_2+𝑐_3𝐴_3+⋯+𝑐_𝐿𝐴_𝐿=𝐴 $\n",
        "\n",
        "$ 𝑐_1,𝑐_2,…,𝑐_𝐿∈𝐑 $ \n",
        "\n",
        "$ 𝑥_1,𝑥_2,…,𝑥_𝐿,𝑥∈𝐑^𝑀 $ \n",
        "\n",
        "$ 𝐴_1,𝐴_2,…,𝐴_𝐿,𝐴∈𝐑^{𝑀×𝑁} $"
      ],
      "metadata": {
        "id": "h54XFDIfWpR6"
      }
    },
    {
      "cell_type": "code",
      "execution_count": null,
      "metadata": {
        "id": "9npZK2fLa_Ip"
      },
      "outputs": [],
      "source": [
        ""
      ]
    }
  ]
}