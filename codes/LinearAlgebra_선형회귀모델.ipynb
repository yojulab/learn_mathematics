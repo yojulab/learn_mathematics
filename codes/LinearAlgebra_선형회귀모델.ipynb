{
  "nbformat": 4,
  "nbformat_minor": 0,
  "metadata": {
    "colab": {
      "name": "LinearAlgebra_선형회귀모델.ipynb",
      "provenance": [],
      "authorship_tag": "ABX9TyPXYJZyKynOvmpGhJC0ik+/",
      "include_colab_link": true
    },
    "kernelspec": {
      "name": "python3",
      "display_name": "Python 3"
    },
    "language_info": {
      "name": "python"
    }
  },
  "cells": [
    {
      "cell_type": "markdown",
      "metadata": {
        "id": "view-in-github",
        "colab_type": "text"
      },
      "source": [
        "<a href=\"https://colab.research.google.com/github/SanghunOh/with_mathematics/blob/main/codes/LinearAlgebra_%EC%84%A0%ED%98%95%ED%9A%8C%EA%B7%80%EB%AA%A8%EB%8D%B8.ipynb\" target=\"_parent\"><img src=\"https://colab.research.google.com/assets/colab-badge.svg\" alt=\"Open In Colab\"/></a>"
      ]
    },
    {
      "cell_type": "markdown",
      "source": [
        "##선형회귀 모형(linear regression model) : 독립변수 𝑥에서 종속변수 𝑦를 예측하는 방법 중 하나.\n",
        "$ \\hat{y}=𝑤_1𝑥_1+⋯+𝑤_𝑁𝑥_𝑁 = w^Tx$"
      ],
      "metadata": {
        "id": "trYHzawJb0nv"
      }
    },
    {
      "cell_type": "markdown",
      "source": [
        "### ex) 아파트 값 예측.\n",
        "- 면적이 1𝑚2 \u001f당 가격은 500만원 증가.\n",
        "- 층수가 1층 \u001d당 가격은 200만원 증가.\n",
        "- 한강 보이는 곳은 1,000만원 프리미엄.\n",
        "\n",
        "$\n",
        "\\begin{align}\n",
        "  𝑦̂ =500𝑥_1+200𝑥_2+1000𝑥_3 = \n",
        "  \\begin{pmatrix}\n",
        "  500 & 200 & 1000\n",
        "  \\end{pmatrix}\n",
        "  \\begin{pmatrix}\n",
        "  x_{1,1} \\\\ x_{1,2} \\\\ x_{1,3}\n",
        "  \\end{pmatrix}\n",
        "  = w^Tx\n",
        "\\end{align} \n",
        "$ "
      ],
      "metadata": {
        "id": "94I3v97aeGNp"
      }
    },
    {
      "cell_type": "markdown",
      "source": [
        "###단점 : 비선형적인 현실 세계의 데이터를 잘 예측하지 못함. \n",
        "ex) 아파트 값 예측과 같이 각 항목 따라 단순 비례하지 않음"
      ],
      "metadata": {
        "id": "vzGCcU51M4Yi"
      }
    },
    {
      "cell_type": "code",
      "source": [
        ""
      ],
      "metadata": {
        "id": "rIAhCIW8hcl8"
      },
      "execution_count": null,
      "outputs": []
    },
    {
      "cell_type": "markdown",
      "source": [
        "###가중합(weighted sum) : 어떤 가중치 값을 곱한 후 이 곱셈 결과들을 다시 합한 것.\n",
        "$ x=(𝑥_1,⋯,𝑥_𝑁)^T, 𝑤=(𝑤_1,⋯,𝑤_𝑁)^T $이면,\n",
        "\n",
        "$ 𝑤_1𝑥_1+⋯+𝑤_𝑁𝑥_𝑁=\n",
        "\\begin{align} \\sum_{𝑖=1}^𝑁𝑤_𝑖 𝑥_𝑖 \\end{align} $이다\n",
        "\n",
        "$\n",
        "\\begin{align}\n",
        "  \\sum_{𝑖=1}^𝑁𝑤_𝑖 𝑥_𝑖 = \n",
        "    \\begin{pmatrix}\n",
        "    w_1 & w_2 & ... & w_N\n",
        "    \\end{pmatrix}\n",
        "    \\begin{pmatrix}\n",
        "    x_1 \\\\ x_2 \\\\ ... \\\\ x_N\n",
        "    \\end{pmatrix}\n",
        "\\end{align} \n",
        "= u\n",
        "$ \n"
      ],
      "metadata": {
        "id": "vEGqjwEGxFPf"
      }
    },
    {
      "cell_type": "code",
      "source": [
        "weights = np.array([0.5, 0.3, 0.1, 0.08, 0.02])\n",
        "values = np.arange(10).reshape(5, -1)\n",
        "weights.shape, values.shape"
      ],
      "metadata": {
        "colab": {
          "base_uri": "https://localhost:8080/"
        },
        "id": "cJvc3OKY5g9S",
        "outputId": "e2e18477-5858-4abb-d51b-4b2aa6f2eaa2"
      },
      "execution_count": null,
      "outputs": [
        {
          "output_type": "execute_result",
          "data": {
            "text/plain": [
              "((5,), (5, 2))"
            ]
          },
          "metadata": {},
          "execution_count": 4
        }
      ]
    },
    {
      "cell_type": "code",
      "source": [
        "np.dot(weights, values)"
      ],
      "metadata": {
        "colab": {
          "base_uri": "https://localhost:8080/"
        },
        "id": "r28TDepP5zgt",
        "outputId": "021c4c8a-601a-4884-f0f5-c0eaa4f3c5c7"
      },
      "execution_count": null,
      "outputs": [
        {
          "output_type": "execute_result",
          "data": {
            "text/plain": [
              "array([1.64, 2.64])"
            ]
          },
          "metadata": {},
          "execution_count": 5
        }
      ]
    },
    {
      "cell_type": "markdown",
      "source": [
        "####Ex) A, B, C 세 회사의 주식은 각각 80만원, 30만원, 40만원이다. 이 주식을 각각 3주, 4주, 5주를 매수할 때 필요한 금액을 구하기."
      ],
      "metadata": {
        "id": "paS4Jbr52Qbb"
      }
    },
    {
      "cell_type": "code",
      "source": [
        "vector_w = np.array([[80], [30], [40]])\n",
        "vector_x = np.array([[3], [4], [5]])\n",
        "vector_w.T.shape, vector_x.shape"
      ],
      "metadata": {
        "colab": {
          "base_uri": "https://localhost:8080/"
        },
        "id": "gcHmNZ2Ab7Dj",
        "outputId": "7998ffcf-8f14-40f9-ae35-b4ad11bfc2ff"
      },
      "execution_count": null,
      "outputs": [
        {
          "output_type": "execute_result",
          "data": {
            "text/plain": [
              "((1, 3), (3, 1))"
            ]
          },
          "metadata": {},
          "execution_count": 6
        }
      ]
    },
    {
      "cell_type": "code",
      "source": [
        "vector_w.T @ vector_x"
      ],
      "metadata": {
        "colab": {
          "base_uri": "https://localhost:8080/"
        },
        "id": "aClYA7F73GMo",
        "outputId": "d77b0ded-45fb-4344-d7d8-435dcc080c77"
      },
      "execution_count": null,
      "outputs": [
        {
          "output_type": "execute_result",
          "data": {
            "text/plain": [
              "array([[560]])"
            ]
          },
          "metadata": {},
          "execution_count": 7
        }
      ]
    },
    {
      "cell_type": "markdown",
      "source": [
        "###가중평균(weighted average) : 가중합의 가중치값을 전체 가중치값 합으로 나누는 것.\n",
        "$\n",
        "\\begin{align}\n",
        "  \\bar{x} = \\frac{1}{N} \\sum_{𝑖=1}^𝑁𝑥_𝑖 = \\frac{1}{𝑁}1^𝑇_𝑁𝑥\n",
        "\\end{align} \n",
        "$ "
      ],
      "metadata": {
        "id": "LZhhJfFi8g65"
      }
    },
    {
      "cell_type": "code",
      "source": [
        "x = np.arange(10)\n",
        "N = len(x)\n",
        "\n",
        "np.ones(N) @ x / N, x.mean()"
      ],
      "metadata": {
        "colab": {
          "base_uri": "https://localhost:8080/"
        },
        "id": "2oVOHobg6ZhN",
        "outputId": "d4a9b5d6-9503-4fea-8e94-c44ed69511b5"
      },
      "execution_count": null,
      "outputs": [
        {
          "output_type": "execute_result",
          "data": {
            "text/plain": [
              "(4.5, 4.5)"
            ]
          },
          "metadata": {},
          "execution_count": 8
        }
      ]
    },
    {
      "cell_type": "markdown",
      "source": [
        "####Ex) 대학 평균 성적 계산 : 1학점과 3학점 과목의 점수가 A 학생이 각각 100점, 60점이면 학점\n",
        "$ \n",
        "\\begin{align}\n",
        "  \\frac{1}{1+3}×100+ \\frac{3}{1+3}×60=70 \n",
        "\\end{align}\n",
        "$"
      ],
      "metadata": {
        "id": "eNOPvq1EC668"
      }
    },
    {
      "cell_type": "code",
      "source": [
        "each_score_weighteds = np.array([[1], [3]])\n",
        "each_scores = np.array([[100], [60]])\n",
        "weighted_total = each_score_weighteds.sum()\n",
        "each_scores, each_score_weighteds, weighted_total, "
      ],
      "metadata": {
        "colab": {
          "base_uri": "https://localhost:8080/"
        },
        "id": "pA6mi-hfBfJD",
        "outputId": "6c460693-4e82-41f6-9946-5080ac1e40b7"
      },
      "execution_count": null,
      "outputs": [
        {
          "output_type": "execute_result",
          "data": {
            "text/plain": [
              "(array([[100],\n",
              "        [ 60]]), array([[1],\n",
              "        [3]]), 4)"
            ]
          },
          "metadata": {},
          "execution_count": 9
        }
      ]
    },
    {
      "cell_type": "code",
      "source": [
        "each_score_weighteds.T @ each_scores / weighted_total, each_scores.mean()"
      ],
      "metadata": {
        "colab": {
          "base_uri": "https://localhost:8080/"
        },
        "id": "16PMm1xKEa5r",
        "outputId": "88e59f31-5040-4574-bffa-25522e0f5987"
      },
      "execution_count": null,
      "outputs": [
        {
          "output_type": "execute_result",
          "data": {
            "text/plain": [
              "(array([[70.]]), 80.0)"
            ]
          },
          "metadata": {},
          "execution_count": 10
        }
      ]
    },
    {
      "cell_type": "markdown",
      "source": [
        "####Ex) 위 조건으로 A 학생이 100점/60점이면 학점, B학생이 95점/75점, C학생이 85점/70점인 경우 각각 학점 구하기. \n"
      ],
      "metadata": {
        "id": "Ia7_3IAkFSSF"
      }
    },
    {
      "cell_type": "code",
      "source": [
        "each_scores = np.array([[100, 60]\n",
        "                        ,[95, 75]\n",
        "                        ,[85, 70]])\n",
        "each_score_weighteds.shape, each_scores.shape"
      ],
      "metadata": {
        "colab": {
          "base_uri": "https://localhost:8080/"
        },
        "id": "zXC4ECYrEwyk",
        "outputId": "7983da38-7c57-4102-eed3-222a39375028"
      },
      "execution_count": null,
      "outputs": [
        {
          "output_type": "execute_result",
          "data": {
            "text/plain": [
              "((2, 1), (3, 2))"
            ]
          },
          "metadata": {},
          "execution_count": 11
        }
      ]
    },
    {
      "cell_type": "code",
      "source": [
        "each_scores @ each_score_weighteds / weighted_total, each_scores.mean(axis=1)"
      ],
      "metadata": {
        "colab": {
          "base_uri": "https://localhost:8080/"
        },
        "id": "xekGjWT_GHYy",
        "outputId": "aaffb18c-ec5a-4a83-c67b-87b68a8263d8"
      },
      "execution_count": null,
      "outputs": [
        {
          "output_type": "execute_result",
          "data": {
            "text/plain": [
              "(array([[70.  ],\n",
              "        [80.  ],\n",
              "        [73.75]]), array([80. , 85. , 77.5]))"
            ]
          },
          "metadata": {},
          "execution_count": 12
        }
      ]
    },
    {
      "cell_type": "markdown",
      "source": [
        "##선형조합(linear combination) : 벡터/행렬에 스칼라값을 곱한 후 더하거나 뺀 것, 선형조합해도 크기는 변하지 않음.\n",
        "$ 𝑐_1𝑥_1+𝑐_2𝑥_2+𝑐_3𝑥_3+⋯+𝑐_𝐿𝑥_𝐿=𝑥 $\n",
        "\n",
        "$ 𝑐_1𝐴_1+𝑐_2𝐴_2+𝑐_3𝐴_3+⋯+𝑐_𝐿𝐴_𝐿=𝐴 $\n",
        "\n",
        "$ 𝑐_1,𝑐_2,…,𝑐_𝐿∈𝐑 $ \n",
        "\n",
        "$ 𝑥_1,𝑥_2,…,𝑥_𝐿,𝑥∈𝐑^𝑀 $ \n",
        "\n",
        "$ 𝐴_1,𝐴_2,…,𝐴_𝐿,𝐴∈𝐑^{𝑀×𝑁} $"
      ],
      "metadata": {
        "id": "h54XFDIfWpR6"
      }
    },
    {
      "cell_type": "code",
      "execution_count": null,
      "metadata": {
        "id": "9npZK2fLa_Ip"
      },
      "outputs": [],
      "source": [
        ""
      ]
    }
  ]
}