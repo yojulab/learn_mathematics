{
  "nbformat": 4,
  "nbformat_minor": 0,
  "metadata": {
    "colab": {
      "name": "LinearAlgebra_데이터형태간연산.ipynb",
      "provenance": [],
      "authorship_tag": "ABX9TyPQwqroW8he+NS63+4rHGkr",
      "include_colab_link": true
    },
    "kernelspec": {
      "name": "python3",
      "display_name": "Python 3"
    },
    "language_info": {
      "name": "python"
    }
  },
  "cells": [
    {
      "cell_type": "markdown",
      "metadata": {
        "id": "view-in-github",
        "colab_type": "text"
      },
      "source": [
        "<a href=\"https://colab.research.google.com/github/SanghunOh/with_mathematics/blob/main/codes/LinearAlgebra_%EB%8D%B0%EC%9D%B4%ED%84%B0%ED%98%95%ED%83%9C%EA%B0%84%EC%97%B0%EC%82%B0.ipynb\" target=\"_parent\"><img src=\"https://colab.research.google.com/assets/colab-badge.svg\" alt=\"Open In Colab\"/></a>"
      ]
    },
    {
      "cell_type": "markdown",
      "source": [
        "###벡터와 행렬도 숫자처럼 덧셈, 뺄셈, 곱셈 등의 연산 가능, 사칙연산과 다른 점 이해"
      ],
      "metadata": {
        "id": "IBA-Jz9zIYOU"
      }
    },
    {
      "cell_type": "markdown",
      "source": [
        "##벡터/행렬 덧셈과 뺄셈 : 같은 크기를 가진 두 개 벡터나 행렬이 조건. 원소끼리 연산을 요소별(element-wise) 연산이라 함.\n",
        "- Vector \\\\\n",
        "$\n",
        "\\begin{align}\n",
        "  x = \\begin{pmatrix}\n",
        "  1 \\\\ 2 \\\\ 3 \n",
        "  \\end{pmatrix}\n",
        "  , y = \\begin{pmatrix}\n",
        "  4 \\\\ 6 \\\\ 8 \n",
        "  \\end{pmatrix}\n",
        "\\end{align} \n",
        "$ \n",
        "  - x - y \\\\\n",
        "$\n",
        "\\begin{align}\n",
        "  x = \\begin{pmatrix}\n",
        "  1 \\\\ 2 \\\\ 3 \n",
        "  \\end{pmatrix}\n",
        "  + y = \\begin{pmatrix}\n",
        "  4 \\\\ 6 \\\\ 8 \n",
        "  \\end{pmatrix}\n",
        "  = \\begin{pmatrix}\n",
        "  1-4 \\\\ 2-6 \\\\ 3-8 \n",
        "  \\end{pmatrix}\n",
        "  = \\begin{pmatrix}\n",
        "  -3 \\\\ -4 \\\\ -5 \n",
        "  \\end{pmatrix}\n",
        "\\end{align} \n",
        "$ \n",
        "- Matrix \n",
        "  - x - y"
      ],
      "metadata": {
        "id": "bONoNVGHIwO2"
      }
    },
    {
      "cell_type": "code",
      "execution_count": 3,
      "metadata": {
        "colab": {
          "base_uri": "https://localhost:8080/"
        },
        "id": "_m8AKtWhIDnz",
        "outputId": "7495f7c5-69e5-4c71-98e8-ef8beb3adb0c"
      },
      "outputs": [
        {
          "output_type": "execute_result",
          "data": {
            "text/plain": [
              "(array([[0, 1, 2]]), array([[4, 6, 8]]))"
            ]
          },
          "metadata": {},
          "execution_count": 3
        }
      ],
      "source": [
        "import numpy as np\n",
        "vector_1 = np.arange(3).reshape(1,-1)\n",
        "vector_2 = np.arange(start=4,stop=9,step=2).reshape(1,-1)\n",
        "\n",
        "vector_1, vector_2"
      ]
    },
    {
      "cell_type": "code",
      "source": [
        "vector_1 + vector_2"
      ],
      "metadata": {
        "colab": {
          "base_uri": "https://localhost:8080/"
        },
        "id": "yH1EXM9IMdMX",
        "outputId": "9552502a-9322-44ce-8ca9-937b80cc35b8"
      },
      "execution_count": 4,
      "outputs": [
        {
          "output_type": "execute_result",
          "data": {
            "text/plain": [
              "array([[ 4,  7, 10]])"
            ]
          },
          "metadata": {},
          "execution_count": 4
        }
      ]
    },
    {
      "cell_type": "code",
      "source": [
        "vector_1 - vector_2"
      ],
      "metadata": {
        "colab": {
          "base_uri": "https://localhost:8080/"
        },
        "id": "GgLcZzVPNM0g",
        "outputId": "ea2b68c9-3bfb-4c73-9d56-0eaebb1d33ba"
      },
      "execution_count": 5,
      "outputs": [
        {
          "output_type": "execute_result",
          "data": {
            "text/plain": [
              "array([[-4, -5, -6]])"
            ]
          },
          "metadata": {},
          "execution_count": 5
        }
      ]
    },
    {
      "cell_type": "code",
      "source": [
        "matrix_1 = np.arange(6).reshape(2,-1)\n",
        "matrix_2 = np.arange(start=7,stop=19,step=2).reshape(2,-1)\n",
        "matrix_1, matrix_2"
      ],
      "metadata": {
        "colab": {
          "base_uri": "https://localhost:8080/"
        },
        "id": "o7Y-ci_2NOKq",
        "outputId": "48cd872a-a442-40c8-aeba-9e4be2227841"
      },
      "execution_count": 6,
      "outputs": [
        {
          "output_type": "execute_result",
          "data": {
            "text/plain": [
              "(array([[0, 1, 2],\n",
              "        [3, 4, 5]]), array([[ 7,  9, 11],\n",
              "        [13, 15, 17]]))"
            ]
          },
          "metadata": {},
          "execution_count": 6
        }
      ]
    },
    {
      "cell_type": "code",
      "source": [
        "matrix_1 - matrix_2"
      ],
      "metadata": {
        "colab": {
          "base_uri": "https://localhost:8080/"
        },
        "id": "nlOyxg0ROH6n",
        "outputId": "b706875b-e987-4674-9e15-1cd2b539d566"
      },
      "execution_count": 7,
      "outputs": [
        {
          "output_type": "execute_result",
          "data": {
            "text/plain": [
              "array([[ -7,  -8,  -9],\n",
              "       [-10, -11, -12]])"
            ]
          },
          "metadata": {},
          "execution_count": 7
        }
      ]
    },
    {
      "cell_type": "code",
      "source": [
        "matrix_1 + matrix_2"
      ],
      "metadata": {
        "colab": {
          "base_uri": "https://localhost:8080/"
        },
        "id": "PKwtpOUGOSwt",
        "outputId": "caf26783-df3b-474d-f14d-5378214272ba"
      },
      "execution_count": 8,
      "outputs": [
        {
          "output_type": "execute_result",
          "data": {
            "text/plain": [
              "array([[ 7, 10, 13],\n",
              "       [16, 19, 22]])"
            ]
          },
          "metadata": {},
          "execution_count": 8
        }
      ]
    },
    {
      "cell_type": "markdown",
      "source": [
        "##스칼라와 벡터/행렬의 곱셈 : 모든 원소에 스칼라(scale)값 constant를 곱하는 것과 같음.\n",
        "- Vector \\\\\n",
        "$\n",
        "\\begin{align}\n",
        "  constant \\begin{pmatrix}\n",
        "  x_1 \\\\ x_2 \\\\ ... \\\\ x_n\n",
        "  \\end{pmatrix}\n",
        "\\end{align} \n",
        "$ \n",
        "$ \n",
        "\\begin{align}\n",
        "  = \\begin{pmatrix}\n",
        "  constant \\times x_1 \\\\ constant \\times x_2 \\\\ ... \\\\ constant \\times x_n\n",
        "  \\end{pmatrix}\n",
        "\\end{align} \n",
        "$\n",
        "- Matrix \\\\\n",
        "$\n",
        "\\begin{align}\n",
        "  constant \\begin{pmatrix}\n",
        "  x_{1,1} & x_{1,2} & x_{1,3} \\\\\n",
        "  x_{2,1} & x_{2,2} & x_{2,3}\n",
        "  \\end{pmatrix}\n",
        "\\end{align} \n",
        "$ \n",
        "$\n",
        "\\begin{align}\n",
        "= \\begin{pmatrix}\n",
        "  constant \\times x_{1,1} & constant \\times x_{1,2} & constant \\times x_{1,3} \\\\\n",
        "  constant \\times x_{2,1} & constant \\times x_{2,2} & constant \\times x_{2,3}\n",
        "  \\end{pmatrix}\n",
        "\\end{align} \n",
        "$ \n"
      ],
      "metadata": {
        "id": "7sMNnjqjPOsv"
      }
    },
    {
      "cell_type": "code",
      "source": [
        "constant = 2"
      ],
      "metadata": {
        "id": "5BS6sYAnOT5B"
      },
      "execution_count": 9,
      "outputs": []
    },
    {
      "cell_type": "code",
      "source": [
        "vector_3 = np.arange(3).reshape(3, -1)\n",
        "vector_3.shape"
      ],
      "metadata": {
        "colab": {
          "base_uri": "https://localhost:8080/"
        },
        "id": "GstmJSdeTYbf",
        "outputId": "342cb7d0-47ee-4a2f-a574-b08e5cb71f37"
      },
      "execution_count": 10,
      "outputs": [
        {
          "output_type": "execute_result",
          "data": {
            "text/plain": [
              "(3, 1)"
            ]
          },
          "metadata": {},
          "execution_count": 10
        }
      ]
    },
    {
      "cell_type": "code",
      "source": [
        "constant % vector_3"
      ],
      "metadata": {
        "colab": {
          "base_uri": "https://localhost:8080/"
        },
        "id": "0MTozZB2UKDG",
        "outputId": "04d994cf-429b-4101-b948-96ed8a8cd99f"
      },
      "execution_count": 15,
      "outputs": [
        {
          "output_type": "stream",
          "name": "stderr",
          "text": [
            "/usr/local/lib/python3.7/dist-packages/ipykernel_launcher.py:1: RuntimeWarning: divide by zero encountered in remainder\n",
            "  \"\"\"Entry point for launching an IPython kernel.\n"
          ]
        },
        {
          "output_type": "execute_result",
          "data": {
            "text/plain": [
              "array([[0],\n",
              "       [0],\n",
              "       [0]])"
            ]
          },
          "metadata": {},
          "execution_count": 15
        }
      ]
    },
    {
      "cell_type": "code",
      "source": [
        "vector_3 // constant"
      ],
      "metadata": {
        "colab": {
          "base_uri": "https://localhost:8080/"
        },
        "id": "zPxtzVG4USP3",
        "outputId": "d2455ff2-0d2b-482e-dd0e-c7e828c95154"
      },
      "execution_count": 14,
      "outputs": [
        {
          "output_type": "execute_result",
          "data": {
            "text/plain": [
              "array([[0],\n",
              "       [0],\n",
              "       [1]])"
            ]
          },
          "metadata": {},
          "execution_count": 14
        }
      ]
    },
    {
      "cell_type": "markdown",
      "source": [
        "##브로드캐스팅 : 덧셈과 뺄셈은 크기(차원)가 같은 두 벡터에 대해서만 할 수 있지만, 벡터와 스칼라의 경우에는 스칼라를 벡터로 변환한 연산을 허용.\n",
        "- Vector \\\\\n",
        "$\n",
        "\\begin{align}\n",
        "  constant - \\begin{pmatrix}\n",
        "  x_1 \\\\ x_2 \\\\ ... \\\\ x_n\n",
        "  \\end{pmatrix}\n",
        "\\end{align} \n",
        "$ \n",
        "$ \n",
        "\\begin{align}\n",
        "  = \\begin{pmatrix}\n",
        "  constant \\\\ constant \\\\ ... \\\\ constant\n",
        "  \\end{pmatrix}\n",
        "  - \\begin{pmatrix}\n",
        "  x_1 \\\\ x_2 \\\\ ... \\\\ x_n\n",
        "  \\end{pmatrix}\n",
        "\\end{align} \n",
        "$\n"
      ],
      "metadata": {
        "id": "mC5VJXMQUfvC"
      }
    },
    {
      "cell_type": "code",
      "source": [
        "constant, vector_3"
      ],
      "metadata": {
        "colab": {
          "base_uri": "https://localhost:8080/"
        },
        "id": "wiXzGA2HVYPb",
        "outputId": "6b19c4bb-df50-4a50-a659-9955df2fcace"
      },
      "execution_count": 17,
      "outputs": [
        {
          "output_type": "execute_result",
          "data": {
            "text/plain": [
              "(2, array([[0],\n",
              "        [1],\n",
              "        [2]]))"
            ]
          },
          "metadata": {},
          "execution_count": 17
        }
      ]
    },
    {
      "cell_type": "code",
      "source": [
        "constant - vector_3"
      ],
      "metadata": {
        "colab": {
          "base_uri": "https://localhost:8080/"
        },
        "id": "4yu3kFAVUWXO",
        "outputId": "23e73612-0da2-43e8-a561-12cb2d400441"
      },
      "execution_count": 18,
      "outputs": [
        {
          "output_type": "execute_result",
          "data": {
            "text/plain": [
              "array([[2],\n",
              "       [1],\n",
              "       [0]])"
            ]
          },
          "metadata": {},
          "execution_count": 18
        }
      ]
    },
    {
      "cell_type": "code",
      "source": [
        ""
      ],
      "metadata": {
        "id": "AJuwC-ysVgOX"
      },
      "execution_count": null,
      "outputs": []
    }
  ]
}