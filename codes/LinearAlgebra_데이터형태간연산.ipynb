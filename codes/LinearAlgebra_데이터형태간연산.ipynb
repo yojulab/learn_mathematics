{
  "nbformat": 4,
  "nbformat_minor": 0,
  "metadata": {
    "colab": {
      "name": "LinearAlgebra_데이터형태간연산.ipynb",
      "provenance": [],
      "authorship_tag": "ABX9TyOgLIzsbyTpQ4OzSfF1PnKr",
      "include_colab_link": true
    },
    "kernelspec": {
      "name": "python3",
      "display_name": "Python 3"
    },
    "language_info": {
      "name": "python"
    }
  },
  "cells": [
    {
      "cell_type": "markdown",
      "metadata": {
        "id": "view-in-github",
        "colab_type": "text"
      },
      "source": [
        "<a href=\"https://colab.research.google.com/github/SanghunOh/with_mathematics/blob/main/codes/LinearAlgebra_%EB%8D%B0%EC%9D%B4%ED%84%B0%ED%98%95%ED%83%9C%EA%B0%84%EC%97%B0%EC%82%B0.ipynb\" target=\"_parent\"><img src=\"https://colab.research.google.com/assets/colab-badge.svg\" alt=\"Open In Colab\"/></a>"
      ]
    },
    {
      "cell_type": "markdown",
      "source": [
        "###벡터와 행렬도 숫자처럼 덧셈, 뺄셈, 곱셈 등의 연산 가능, 사칙연산과 다른 점 이해"
      ],
      "metadata": {
        "id": "IBA-Jz9zIYOU"
      }
    },
    {
      "cell_type": "markdown",
      "source": [
        "##벡터/행렬 덧셈과 뺄셈 : 같은 크기를 가진 두 개 벡터나 행렬이 조건. 원소끼리 연산을 요소별(element-wise) 연산이라 함.\n",
        "- Vector \\\\\n",
        "$\n",
        "\\begin{align}\n",
        "  x = \\begin{pmatrix}\n",
        "  1 \\\\ 2 \\\\ 3 \n",
        "  \\end{pmatrix}\n",
        "  , y = \\begin{pmatrix}\n",
        "  4 \\\\ 6 \\\\ 8 \n",
        "  \\end{pmatrix}\n",
        "\\end{align} \n",
        "$ \n",
        "  - x - y \\\\\n",
        "$\n",
        "\\begin{align}\n",
        "  x = \\begin{pmatrix}\n",
        "  1 \\\\ 2 \\\\ 3 \n",
        "  \\end{pmatrix}\n",
        "  + y = \\begin{pmatrix}\n",
        "  4 \\\\ 6 \\\\ 8 \n",
        "  \\end{pmatrix}\n",
        "  = \\begin{pmatrix}\n",
        "  1-4 \\\\ 2-6 \\\\ 3-8 \n",
        "  \\end{pmatrix}\n",
        "  = \\begin{pmatrix}\n",
        "  -3 \\\\ -4 \\\\ -5 \n",
        "  \\end{pmatrix}\n",
        "\\end{align} \n",
        "$ \n",
        "- Matrix \n",
        "  - x - y"
      ],
      "metadata": {
        "id": "bONoNVGHIwO2"
      }
    },
    {
      "cell_type": "code",
      "execution_count": 9,
      "metadata": {
        "colab": {
          "base_uri": "https://localhost:8080/"
        },
        "id": "_m8AKtWhIDnz",
        "outputId": "6e9f0fa8-89a6-4cb2-c65b-cef86d2d867a"
      },
      "outputs": [
        {
          "output_type": "execute_result",
          "data": {
            "text/plain": [
              "(array([[0, 1, 2]]), array([[4, 6, 8]]))"
            ]
          },
          "metadata": {},
          "execution_count": 9
        }
      ],
      "source": [
        "import numpy as np\n",
        "vector_1 = np.arange(3).reshape(1,-1)\n",
        "vector_2 = np.arange(start=4,stop=9,step=2).reshape(1,-1)\n",
        "\n",
        "vector_1, vector_2"
      ]
    },
    {
      "cell_type": "code",
      "source": [
        "vector_1 + vector_2"
      ],
      "metadata": {
        "colab": {
          "base_uri": "https://localhost:8080/"
        },
        "id": "yH1EXM9IMdMX",
        "outputId": "dc721f50-22e1-4947-8e39-fcc72dbe4c52"
      },
      "execution_count": 10,
      "outputs": [
        {
          "output_type": "execute_result",
          "data": {
            "text/plain": [
              "array([[ 4,  7, 10]])"
            ]
          },
          "metadata": {},
          "execution_count": 10
        }
      ]
    },
    {
      "cell_type": "code",
      "source": [
        "vector_1 - vector_2"
      ],
      "metadata": {
        "colab": {
          "base_uri": "https://localhost:8080/"
        },
        "id": "GgLcZzVPNM0g",
        "outputId": "45233dad-7c34-40af-8d85-2eb28125219f"
      },
      "execution_count": 11,
      "outputs": [
        {
          "output_type": "execute_result",
          "data": {
            "text/plain": [
              "array([[-4, -5, -6]])"
            ]
          },
          "metadata": {},
          "execution_count": 11
        }
      ]
    },
    {
      "cell_type": "code",
      "source": [
        "matrix_1 = np.arange(6).reshape(2,-1)\n",
        "matrix_2 = np.arange(start=7,stop=19,step=2).reshape(2,-1)\n",
        "matrix_1, matrix_2"
      ],
      "metadata": {
        "colab": {
          "base_uri": "https://localhost:8080/"
        },
        "id": "o7Y-ci_2NOKq",
        "outputId": "b5613b04-1db7-4604-b292-8c6f53aedd40"
      },
      "execution_count": 16,
      "outputs": [
        {
          "output_type": "execute_result",
          "data": {
            "text/plain": [
              "(array([[0, 1, 2],\n",
              "        [3, 4, 5]]), array([[ 7,  9, 11],\n",
              "        [13, 15, 17]]))"
            ]
          },
          "metadata": {},
          "execution_count": 16
        }
      ]
    },
    {
      "cell_type": "code",
      "source": [
        "matrix_1 - matrix_2"
      ],
      "metadata": {
        "colab": {
          "base_uri": "https://localhost:8080/"
        },
        "id": "nlOyxg0ROH6n",
        "outputId": "139faf8b-fdef-4240-f123-5d735dd02ec0"
      },
      "execution_count": 17,
      "outputs": [
        {
          "output_type": "execute_result",
          "data": {
            "text/plain": [
              "array([[ -7,  -8,  -9],\n",
              "       [-10, -11, -12]])"
            ]
          },
          "metadata": {},
          "execution_count": 17
        }
      ]
    },
    {
      "cell_type": "code",
      "source": [
        "matrix_1 + matrix_2"
      ],
      "metadata": {
        "colab": {
          "base_uri": "https://localhost:8080/"
        },
        "id": "PKwtpOUGOSwt",
        "outputId": "b28bf863-c292-4278-a211-fdee715ebffa"
      },
      "execution_count": 18,
      "outputs": [
        {
          "output_type": "execute_result",
          "data": {
            "text/plain": [
              "array([[ 7, 10, 13],\n",
              "       [16, 19, 22]])"
            ]
          },
          "metadata": {},
          "execution_count": 18
        }
      ]
    },
    {
      "cell_type": "markdown",
      "source": [
        "##스칼라와 벡터/행렬의 곱셈\n",
        "https://datascienceschool.net/02%20mathematics/02.02%20%EB%B2%A1%ED%84%B0%EC%99%80%20%ED%96%89%EB%A0%AC%EC%9D%98%20%EC%97%B0%EC%82%B0.html#id3"
      ],
      "metadata": {
        "id": "7sMNnjqjPOsv"
      }
    },
    {
      "cell_type": "code",
      "source": [
        ""
      ],
      "metadata": {
        "id": "5BS6sYAnOT5B"
      },
      "execution_count": null,
      "outputs": []
    }
  ]
}